{
 "cells": [
  {
   "cell_type": "markdown",
   "metadata": {
    "id": "87Ldt3uONy5v"
   },
   "source": [
    "## Common Imports"
   ]
  },
  {
   "cell_type": "code",
   "execution_count": 153,
   "metadata": {
    "id": "ch9CNz0g6tIK"
   },
   "outputs": [],
   "source": [
    "import os\n",
    "import math\n",
    "import numpy as np\n",
    "import pandas as pd\n",
    "import plotly.express as px\n",
    "import plotly.graph_objects as go\n",
    "\n",
    "import pyspark.sql.functions as F\n",
    "import pyspark.sql.types as T\n",
    "from pyspark.sql import SparkSession"
   ]
  },
  {
   "cell_type": "markdown",
   "metadata": {
    "id": "239MhqzF-KxQ"
   },
   "source": [
    "## Spark Session Initialization"
   ]
  },
  {
   "cell_type": "code",
   "execution_count": 154,
   "metadata": {
    "id": "Cl2z6ere_h0a"
   },
   "outputs": [],
   "source": [
    "Spark = SparkSession.builder \\\n",
    "    .appName(\"Aircraft Compliance Exploration\") \\\n",
    "    .config(\"spark.driver.memory\", \"2g\") \\\n",
    "    .config(\"spark.executor.memory\", \"2g\") \\\n",
    "    .config(\"spark.driver.cores\", \"2\") \\\n",
    "    .config(\"spark.executor.cores\", \"2\") \\\n",
    "    .config(\"spark.driver.bindAddress\", \"127.0.0.1\") \\\n",
    "    .config(\"spark.driver.host\", \"localhost\") \\\n",
    "    .config(\"spark.driver.port\", \"4041\") \\\n",
    "    .getOrCreate()"
   ]
  },
  {
   "cell_type": "markdown",
   "metadata": {
    "id": "_OnhYb5tN23g"
   },
   "source": [
    "## Loading the data"
   ]
  },
  {
   "cell_type": "code",
   "execution_count": 155,
   "metadata": {
    "colab": {
     "base_uri": "https://localhost:8080/"
    },
    "id": "k3jP7S_SAPBf",
    "outputId": "667b7732-33e4-4ec7-a4ec-99533e6657cd"
   },
   "outputs": [
    {
     "name": "stdout",
     "output_type": "stream",
     "text": [
      "File loaded successfully.\n"
     ]
    }
   ],
   "source": [
    "file_path = 'case_study.csv'\n",
    "\n",
    "if os.path.exists(file_path):\n",
    "    df = Spark.read.csv(file_path, header=True, inferSchema=True)\n",
    "    print(\"File loaded successfully.\")\n",
    "else:\n",
    "    print(\"File not found.\")"
   ]
  },
  {
   "cell_type": "markdown",
   "metadata": {
    "id": "f_8GvM2lOYXA"
   },
   "source": [
    "## Examining the schema"
   ]
  },
  {
   "cell_type": "code",
   "execution_count": 115,
   "metadata": {
    "colab": {
     "base_uri": "https://localhost:8080/"
    },
    "id": "WHE0YUduAv_T",
    "outputId": "ac606858-5d01-460d-e1a8-d0d85e1f0375"
   },
   "outputs": [
    {
     "name": "stdout",
     "output_type": "stream",
     "text": [
      "root\n",
      " |-- date: date (nullable = true)\n",
      " |-- airport: string (nullable = true)\n",
      " |-- reference_number: string (nullable = true)\n",
      " |-- airline: string (nullable = true)\n",
      " |-- departures: integer (nullable = true)\n",
      " |-- count_of_compliant_audit: integer (nullable = true)\n",
      " |-- count_of_audit: integer (nullable = true)\n",
      "\n"
     ]
    }
   ],
   "source": [
    "df.printSchema()"
   ]
  },
  {
   "cell_type": "markdown",
   "metadata": {
    "id": "sFeAE5t-ObIH"
   },
   "source": [
    "## Feature Engineering"
   ]
  },
  {
   "cell_type": "markdown",
   "metadata": {},
   "source": [
    "#### Temporal features such as 'year', 'month', 'day_of_week', 'quarter', 'is_weekend'. Alongwith cyclical encoding for 'month' and 'day_of_week'"
   ]
  },
  {
   "cell_type": "code",
   "execution_count": 116,
   "metadata": {
    "id": "87VXsBbo4vqz"
   },
   "outputs": [],
   "source": [
    "def create_temporal_features(df):\n",
    "    # Extract core temporal features\n",
    "    df = df.withColumn(\"year\", F.year(\"date\")) \\\n",
    "           .withColumn(\"month\", F.month(\"date\")) \\\n",
    "           .withColumn(\"day_of_week\", F.dayofweek(\"date\")) \\\n",
    "           .withColumn(\"quarter\", F.quarter(\"date\")) \\\n",
    "           .withColumn(\"is_weekend\", F.when(F.col(\"day_of_week\").isin([1, 7]), 1).otherwise(0))\n",
    "    \n",
    "    # Cyclical encoding for month and day_of_week\n",
    "    df = df.withColumn(\"month_sin\", F.sin(2 * math.pi * F.col(\"month\") / 12)) \\\n",
    "           .withColumn(\"month_cos\", F.cos(2 * math.pi * F.col(\"month\") / 12)) \\\n",
    "           .withColumn(\"day_sin\", F.sin(2 * math.pi * F.col(\"day_of_week\") / 7)) \\\n",
    "           .withColumn(\"day_cos\", F.cos(2 * math.pi * F.col(\"day_of_week\") / 7))\n",
    "    return df"
   ]
  },
  {
   "cell_type": "code",
   "execution_count": 117,
   "metadata": {},
   "outputs": [],
   "source": [
    "df = create_temporal_features(df)"
   ]
  },
  {
   "cell_type": "markdown",
   "metadata": {},
   "source": [
    "#### Derived features: 'compliance_rate', 'audit_density' and 'compliance_per_departure'."
   ]
  },
  {
   "cell_type": "code",
   "execution_count": 118,
   "metadata": {},
   "outputs": [],
   "source": [
    "def create_derived_features(df):\n",
    "    df = df.withColumn(\"compliance_rate\",\n",
    "                       F.when(F.col(\"count_of_audit\") > 0,\n",
    "                              (F.col(\"count_of_compliant_audit\") / F.col(\"count_of_audit\")).cast(\"double\"))\n",
    "                        .otherwise(0.0))\n",
    "    df = df.withColumn(\"audit_density\",\n",
    "                       F.when(F.col(\"departures\") > 0,\n",
    "                              (F.col(\"count_of_audit\") / F.col(\"departures\")).cast(\"double\"))\n",
    "                        .otherwise(0.0))\n",
    "    df = df.withColumn(\"compliance_per_departure\",\n",
    "                       F.when(F.col(\"departures\") > 0,\n",
    "                              (F.col(\"count_of_compliant_audit\") / F.col(\"departures\")).cast(\"double\"))\n",
    "                        .otherwise(0.0))\n",
    "    return df"
   ]
  },
  {
   "cell_type": "code",
   "execution_count": 119,
   "metadata": {},
   "outputs": [],
   "source": [
    "df = create_derived_features(df)"
   ]
  },
  {
   "cell_type": "markdown",
   "metadata": {},
   "source": [
    "#### Creates a new feature, 'prev_compliance_rate', which is the previous row's compliance_rate for each 'airport' and 'reference_number' group, ordered by 'date'"
   ]
  },
  {
   "cell_type": "code",
   "execution_count": 120,
   "metadata": {},
   "outputs": [],
   "source": [
    "def create_lag_features(df):\n",
    "    windowSpec = Window.partitionBy(\"airport\", \"reference_number\").orderBy(\"date\")\n",
    "    df = df.withColumn(\"prev_compliance_rate\", F.lag(\"compliance_rate\", 1).over(windowSpec))\n",
    "    df = df.fillna({\"prev_compliance_rate\": 0.0})\n",
    "    return df"
   ]
  },
  {
   "cell_type": "code",
   "execution_count": 121,
   "metadata": {},
   "outputs": [],
   "source": [
    "df = create_lag_features(df)"
   ]
  },
  {
   "cell_type": "markdown",
   "metadata": {},
   "source": [
    "#### Handling nan values"
   ]
  },
  {
   "cell_type": "code",
   "execution_count": 122,
   "metadata": {},
   "outputs": [],
   "source": [
    "def handle_nan_inf(df):\n",
    "    # Replace NaN, null, and infinite values with 0.0\n",
    "    print(f\"Original Dataframe: {df.count()}\")\n",
    "    df_processed = df.dropna()\n",
    "    print(f\"Updated Dataframe: {df_processed.count()}\")\n",
    "    # for col_name in input_cols:\n",
    "    #     df = df.withColumn(\n",
    "    #         col_name,\n",
    "    #         F.when(~(F.isnan(F.col(col_name)) | F.isnull(F.col(col_name)) | F.col(col_name).isin([float('inf'), -float('inf')])),\n",
    "    #                F.col(col_name))\n",
    "    #          .otherwise(0.0)\n",
    "    #     )\n",
    "    return df_processed"
   ]
  },
  {
   "cell_type": "code",
   "execution_count": 123,
   "metadata": {},
   "outputs": [
    {
     "name": "stdout",
     "output_type": "stream",
     "text": [
      "Original Dataframe: 195625\n",
      "Updated Dataframe: 3525\n"
     ]
    }
   ],
   "source": [
    "df = handle_nan_inf(df)"
   ]
  },
  {
   "cell_type": "markdown",
   "metadata": {},
   "source": [
    "#### Trim outlier data (removal of any row with compliance_rate > 1 or < 0 (negatives) "
   ]
  },
  {
   "cell_type": "code",
   "execution_count": 124,
   "metadata": {},
   "outputs": [],
   "source": [
    "def trim_outlier_data(df):\n",
    "    \"\"\"\n",
    "    Remove rows where compliance_rate is below 0 (negative) or above 1.\n",
    "    \n",
    "    Args:\n",
    "        df: Input DataFrame with compliance_rate column\n",
    "        \n",
    "    Returns:\n",
    "        DataFrame with outlier compliance_rate values removed\n",
    "    \"\"\"    \n",
    "    print(\"Removing compliance_rate outliers...\")\n",
    "    \n",
    "    # Count original rows\n",
    "    original_count = df.count()\n",
    "    print(f\"Original dataset size: {original_count} rows\")\n",
    "    \n",
    "    # Count outliers before removal\n",
    "    negative_count = df.filter(F.col(\"compliance_rate\") < 0).count()\n",
    "    above_one_count = df.filter(F.col(\"compliance_rate\") > 1).count()\n",
    "    \n",
    "    print(f\"Negative compliance_rate values: {negative_count}\")\n",
    "    print(f\"Compliance_rate values > 1: {above_one_count}\")\n",
    "    print(f\"Total outliers to remove: {negative_count + above_one_count}\")\n",
    "    \n",
    "    # Remove outliers: keep only values between 0 and 1 (inclusive)\n",
    "    df_clean = df.filter(\n",
    "        (F.col(\"compliance_rate\") >= 0) & \n",
    "        (F.col(\"compliance_rate\") <= 1)\n",
    "    )\n",
    "    \n",
    "    # Count remaining rows\n",
    "    clean_count = df_clean.count()\n",
    "    removed_count = original_count - clean_count\n",
    "    removal_percentage = (removed_count / original_count) * 100 if original_count > 0 else 0\n",
    "    \n",
    "    print(f\"Cleaned dataset size: {clean_count} rows\")\n",
    "    print(f\"Rows removed: {removed_count} ({removal_percentage:.2f}%)\")\n",
    "    \n",
    "    # Show compliance_rate distribution after cleaning\n",
    "    print(\"\\nCompliance rate distribution after cleaning:\")\n",
    "    df_clean.select(\"compliance_rate\").describe().show()\n",
    "    \n",
    "    return df_clean"
   ]
  },
  {
   "cell_type": "code",
   "execution_count": 125,
   "metadata": {},
   "outputs": [
    {
     "name": "stdout",
     "output_type": "stream",
     "text": [
      "Removing compliance_rate outliers...\n",
      "Original dataset size: 3525 rows\n"
     ]
    },
    {
     "name": "stderr",
     "output_type": "stream",
     "text": [
      "                                                                                "
     ]
    },
    {
     "name": "stdout",
     "output_type": "stream",
     "text": [
      "Negative compliance_rate values: 0\n",
      "Compliance_rate values > 1: 13\n",
      "Total outliers to remove: 13\n",
      "Cleaned dataset size: 3512 rows\n",
      "Rows removed: 13 (0.37%)\n",
      "\n",
      "Compliance rate distribution after cleaning:\n",
      "+-------+-------------------+\n",
      "|summary|    compliance_rate|\n",
      "+-------+-------------------+\n",
      "|  count|               3512|\n",
      "|   mean| 0.5955174096973642|\n",
      "| stddev|0.43718410342089414|\n",
      "|    min|                0.0|\n",
      "|    max|                1.0|\n",
      "+-------+-------------------+\n",
      "\n"
     ]
    }
   ],
   "source": [
    "df = trim_outlier_data(df)"
   ]
  },
  {
   "cell_type": "markdown",
   "metadata": {},
   "source": [
    "## Train Compliance Model"
   ]
  },
  {
   "cell_type": "code",
   "execution_count": 126,
   "metadata": {},
   "outputs": [],
   "source": [
    "from pyspark.sql import Window\n",
    "from pyspark.ml import Pipeline\n",
    "from pyspark.ml.feature import StringIndexer, OneHotEncoder, VectorAssembler\n",
    "from pyspark.ml.regression import GBTRegressor\n",
    "from pyspark.ml.evaluation import RegressionEvaluator"
   ]
  },
  {
   "cell_type": "code",
   "execution_count": 132,
   "metadata": {},
   "outputs": [],
   "source": [
    "def train_compliance_model(df):\n",
    "    df.printSchema()\n",
    "\n",
    "    # Feature engineering\n",
    "    df = create_temporal_features(df)\n",
    "    df = create_derived_features(df)\n",
    "    df = create_lag_features(df)\n",
    "\n",
    "    # Handle NaN/infinities in numerical features\n",
    "    features_to_clean = [\"audit_density\", \"compliance_per_departure\", \"prev_compliance_rate\"]\n",
    "    df = handle_nan_inf(df)\n",
    "\n",
    "    # Drop rows where target is invalid (e.g., count_of_audit == 0)\n",
    "    df = df.filter(F.col(\"count_of_audit\") > 0)\n",
    "\n",
    "    # Encode categorical vars\n",
    "    indexers = [\n",
    "        StringIndexer(inputCol=\"airport\", outputCol=\"airport_index\", handleInvalid=\"keep\"),\n",
    "        StringIndexer(inputCol=\"reference_number\", outputCol=\"ref_index\", handleInvalid=\"keep\")\n",
    "    ]\n",
    "\n",
    "    encoder = OneHotEncoder(inputCols=[\"airport_index\", \"ref_index\"],\n",
    "                            outputCols=[\"airport_vec\", \"ref_vec\"],\n",
    "                            handleInvalid=\"keep\")\n",
    "\n",
    "    # Define features\n",
    "    feature_cols = [\n",
    "        \"year\", \"quarter\", \"month_sin\", \"month_cos\", \"day_sin\", \"day_cos\",\n",
    "        \"audit_density\", \"compliance_per_departure\", \"prev_compliance_rate\",\n",
    "        \"airport_vec\", \"ref_vec\"\n",
    "    ]\n",
    "\n",
    "    assembler = VectorAssembler(inputCols=feature_cols, outputCol=\"features\", handleInvalid=\"keep\")\n",
    "\n",
    "    gbt = GBTRegressor(featuresCol=\"features\", labelCol=\"compliance_rate\", seed=42, maxIter=100, maxDepth=6, stepSize=0.1)\n",
    "\n",
    "    pipeline = Pipeline(stages=indexers + [encoder, assembler, gbt])\n",
    "\n",
    "    print(\"\\nStep 6: Splitting train/test...\")\n",
    "    train, test = df.randomSplit([0.8, 0.2], seed=42)\n",
    "    print(f\"Train count: {train.count()}, Test count: {test.count()}\")\n",
    "\n",
    "    print(\"\\nStep 7: Training model...\")\n",
    "    model = pipeline.fit(train)\n",
    "\n",
    "    print(\"\\nStep 8: Making predictions on test set...\")\n",
    "    preds = model.transform(test)\n",
    "    preds.select(\"date\", \"airport\", \"reference_number\", \"compliance_rate\", \"prediction\").show(10, False)\n",
    "\n",
    "    # Optional: Evaluate model\n",
    "    evaluator = RegressionEvaluator(labelCol=\"compliance_rate\", predictionCol=\"prediction\", metricName=\"rmse\")\n",
    "    rmse = evaluator.evaluate(preds)\n",
    "    print(f\"Test RMSE: {rmse:.4f}\")\n",
    "    return model, preds"
   ]
  },
  {
   "cell_type": "code",
   "execution_count": 128,
   "metadata": {},
   "outputs": [
    {
     "name": "stdout",
     "output_type": "stream",
     "text": [
      "Initial schema:\n",
      "root\n",
      " |-- date: date (nullable = true)\n",
      " |-- airport: string (nullable = true)\n",
      " |-- reference_number: string (nullable = true)\n",
      " |-- airline: string (nullable = true)\n",
      " |-- departures: integer (nullable = true)\n",
      " |-- count_of_compliant_audit: integer (nullable = true)\n",
      " |-- count_of_audit: integer (nullable = true)\n",
      " |-- year: integer (nullable = true)\n",
      " |-- month: integer (nullable = true)\n",
      " |-- day_of_week: integer (nullable = true)\n",
      " |-- quarter: integer (nullable = true)\n",
      " |-- is_weekend: integer (nullable = false)\n",
      " |-- month_sin: double (nullable = true)\n",
      " |-- month_cos: double (nullable = true)\n",
      " |-- day_sin: double (nullable = true)\n",
      " |-- day_cos: double (nullable = true)\n",
      " |-- compliance_rate: double (nullable = true)\n",
      " |-- audit_density: double (nullable = true)\n",
      " |-- compliance_per_departure: double (nullable = true)\n",
      " |-- prev_compliance_rate: double (nullable = false)\n",
      "\n",
      "Original Dataframe: 3512\n",
      "Updated Dataframe: 3512\n",
      "\n",
      "Step 6: Splitting train/test...\n",
      "Train count: 2799, Test count: 713\n",
      "\n",
      "Step 7: Training model...\n"
     ]
    },
    {
     "name": "stderr",
     "output_type": "stream",
     "text": [
      "                                                                                "
     ]
    },
    {
     "name": "stdout",
     "output_type": "stream",
     "text": [
      "\n",
      "Step 8: Making predictions on test set...\n",
      "+----------+-----------+----------------+---------------+---------------------+\n",
      "|date      |airport    |reference_number|compliance_rate|prediction           |\n",
      "+----------+-----------+----------------+---------------+---------------------+\n",
      "|2022-07-13|Station 74 |Audit 2         |1.0            |1.0121977709566305   |\n",
      "|2022-09-11|Station 16 |Audit 2         |0.0            |-5.959548947206605E-4|\n",
      "|2022-11-28|Station 74 |Audit 2         |0.0            |0.005332130803132265 |\n",
      "|2023-07-12|Station 187|Audit 1         |1.0            |1.058050559743672    |\n",
      "|2023-08-27|Station 239|Audit 3         |1.0            |1.0094380750491825   |\n",
      "|2023-09-17|Station 236|Audit 3         |1.0            |0.7765092488321028   |\n",
      "|2023-12-15|Station 106|Audit 3         |0.0            |-7.62583728249196E-4 |\n",
      "|2024-02-29|Station 94 |Audit 3         |1.0            |0.7707940825710196   |\n",
      "|2024-03-07|Station 186|Audit 3         |1.0            |1.0107991515886356   |\n",
      "|2024-03-12|Station 2  |Audit 3         |0.0            |-0.016069955104862147|\n",
      "+----------+-----------+----------------+---------------+---------------------+\n",
      "only showing top 10 rows\n",
      "Test RMSE: 0.0780\n"
     ]
    }
   ],
   "source": [
    "model, preds = train_compliance_model(df)"
   ]
  },
  {
   "cell_type": "markdown",
   "metadata": {},
   "source": [
    "### Post‐Processing Clipping"
   ]
  },
  {
   "cell_type": "code",
   "execution_count": 174,
   "metadata": {},
   "outputs": [],
   "source": [
    "preds = preds.withColumn(\n",
    "    \"prediction\",\n",
    "    F.when(F.col(\"prediction\") < 0.0, 0.0)\n",
    "     .when(F.col(\"prediction\") > 1.0, 1.0)\n",
    "     .otherwise(F.col(\"prediction\"))\n",
    ")"
   ]
  },
  {
   "cell_type": "markdown",
   "metadata": {},
   "source": [
    "## Visualizing Compliance Predictions"
   ]
  },
  {
   "cell_type": "code",
   "execution_count": 175,
   "metadata": {},
   "outputs": [],
   "source": [
    "def plot_compliance_predictions(preds, sample_size: int = 1000):\n",
    "    \"\"\"\n",
    "    Produce two visualizations comparing actual vs. predicted compliance rates:\n",
    "      1. Time series line plot\n",
    "      2. Scatter plot with 45° reference line and a fitted regression line\n",
    "\n",
    "    Args:\n",
    "        preds: Spark DataFrame containing 'date', 'compliance_rate', 'prediction'\n",
    "        sample_size: max number of rows to convert to Pandas (default 1000)\n",
    "\n",
    "    Returns:\n",
    "        tuple(fig_time, fig_scatter): the two Plotly Figure objects\n",
    "    \"\"\"    \n",
    "    # Convert to Pandas (sampled if necessary)\n",
    "    pdf = (\n",
    "        preds\n",
    "        .select(\"date\", \"compliance_rate\", \"prediction\")\n",
    "        .orderBy(\"date\")\n",
    "        .limit(sample_size)\n",
    "        .toPandas()\n",
    "    )\n",
    "    pdf['date'] = pd.to_datetime(pdf['date'])\n",
    "\n",
    "    # Time series: actual vs. predicted\n",
    "    fig_time = px.line(\n",
    "        pdf,\n",
    "        x='date',\n",
    "        y=['compliance_rate', 'prediction'],\n",
    "        labels={'value': 'Compliance Rate', 'variable': 'Series'},\n",
    "        title='Actual vs. Predicted Compliance Rate Over Time',\n",
    "        color_discrete_sequence=px.colors.sequential.Jet,\n",
    "        template='plotly_dark'\n",
    "    )\n",
    "    fig_time.update_traces(mode='markers+lines')\n",
    "    fig_time.update_layout(\n",
    "        # width=900,\n",
    "        height=500,\n",
    "        paper_bgcolor='black',\n",
    "        plot_bgcolor='black',\n",
    "        legend=dict(bgcolor='rgba(0,0,0,0.5)')\n",
    "    )\n",
    "\n",
    "    # Scatter: predicted vs. actual\n",
    "    fig_scatter = px.scatter(\n",
    "        pdf,\n",
    "        x='compliance_rate',\n",
    "        y='prediction',\n",
    "        opacity=0.7,\n",
    "        labels={'compliance_rate': 'Actual', 'prediction': 'Predicted'},\n",
    "        title='Predicted vs. Actual Compliance Rate',\n",
    "        color_discrete_sequence=px.colors.sequential.Jet,\n",
    "        template='plotly_dark'\n",
    "    )\n",
    "\n",
    "    # 45° reference line\n",
    "    fig_scatter.add_trace(\n",
    "        go.Scatter(\n",
    "            x=[0, 1], y=[0, 1],\n",
    "            mode='lines',\n",
    "            line=dict(color='white', dash='dash'),\n",
    "            name='y = x'\n",
    "        )\n",
    "    )\n",
    "\n",
    "    # Compute regression line\n",
    "    x = pdf['compliance_rate'].to_numpy()\n",
    "    y = pdf['prediction'].to_numpy()\n",
    "    if len(x) >= 2:\n",
    "        slope, intercept = np.polyfit(x, y, 1)\n",
    "        x_lin = np.array([x.min(), x.max()])\n",
    "        y_lin = slope * x_lin + intercept\n",
    "        fig_scatter.add_trace(\n",
    "            go.Scatter(\n",
    "                x=x_lin, y=y_lin,\n",
    "                mode='lines',\n",
    "                line=dict(color='cyan', width=2),\n",
    "                name='Regression fit'\n",
    "            )\n",
    "        )\n",
    "\n",
    "    fig_scatter.update_layout(\n",
    "        # width=900,\n",
    "        height=500,\n",
    "        paper_bgcolor='black',\n",
    "        plot_bgcolor='black',\n",
    "    )\n",
    "    fig_scatter.update_yaxes(scaleanchor=\"x\", scaleratio=1)\n",
    "\n",
    "    return fig_time, fig_scatter"
   ]
  },
  {
   "cell_type": "code",
   "execution_count": 173,
   "metadata": {},
   "outputs": [
    {
     "data": {
      "application/vnd.plotly.v1+json": {
       "config": {
        "plotlyServerURL": "https://plot.ly"
       },
       "data": [
        {
         "hovertemplate": "Series=compliance_rate<br>date=%{x}<br>Compliance Rate=%{y}<extra></extra>",
         "legendgroup": "compliance_rate",
         "line": {
          "color": "rgb(0,0,131)",
          "dash": "solid"
         },
         "marker": {
          "symbol": "circle"
         },
         "mode": "markers+lines",
         "name": "compliance_rate",
         "showlegend": true,
         "type": "scattergl",
         "x": [
          "2022-01-02T00:00:00.000000000",
          "2022-01-16T00:00:00.000000000",
          "2022-01-27T00:00:00.000000000",
          "2022-02-04T00:00:00.000000000",
          "2022-02-04T00:00:00.000000000",
          "2022-02-23T00:00:00.000000000",
          "2022-03-24T00:00:00.000000000",
          "2022-03-25T00:00:00.000000000",
          "2022-03-31T00:00:00.000000000",
          "2022-04-15T00:00:00.000000000",
          "2022-05-23T00:00:00.000000000",
          "2022-07-13T00:00:00.000000000",
          "2022-07-25T00:00:00.000000000",
          "2022-08-18T00:00:00.000000000",
          "2022-09-11T00:00:00.000000000",
          "2022-11-28T00:00:00.000000000",
          "2023-01-10T00:00:00.000000000",
          "2023-02-02T00:00:00.000000000",
          "2023-02-15T00:00:00.000000000",
          "2023-03-16T00:00:00.000000000",
          "2023-03-23T00:00:00.000000000",
          "2023-03-31T00:00:00.000000000",
          "2023-04-03T00:00:00.000000000",
          "2023-04-14T00:00:00.000000000",
          "2023-04-20T00:00:00.000000000",
          "2023-04-24T00:00:00.000000000",
          "2023-04-24T00:00:00.000000000",
          "2023-05-21T00:00:00.000000000",
          "2023-05-24T00:00:00.000000000",
          "2023-05-24T00:00:00.000000000",
          "2023-06-05T00:00:00.000000000",
          "2023-06-17T00:00:00.000000000",
          "2023-07-12T00:00:00.000000000",
          "2023-07-17T00:00:00.000000000",
          "2023-07-17T00:00:00.000000000",
          "2023-07-28T00:00:00.000000000",
          "2023-07-28T00:00:00.000000000",
          "2023-07-30T00:00:00.000000000",
          "2023-07-30T00:00:00.000000000",
          "2023-07-31T00:00:00.000000000",
          "2023-08-01T00:00:00.000000000",
          "2023-08-02T00:00:00.000000000",
          "2023-08-04T00:00:00.000000000",
          "2023-08-07T00:00:00.000000000",
          "2023-08-07T00:00:00.000000000",
          "2023-08-10T00:00:00.000000000",
          "2023-08-16T00:00:00.000000000",
          "2023-08-17T00:00:00.000000000",
          "2023-08-17T00:00:00.000000000",
          "2023-08-25T00:00:00.000000000",
          "2023-08-25T00:00:00.000000000",
          "2023-08-27T00:00:00.000000000",
          "2023-08-28T00:00:00.000000000",
          "2023-08-28T00:00:00.000000000",
          "2023-08-31T00:00:00.000000000",
          "2023-09-06T00:00:00.000000000",
          "2023-09-07T00:00:00.000000000",
          "2023-09-09T00:00:00.000000000",
          "2023-09-10T00:00:00.000000000",
          "2023-09-13T00:00:00.000000000",
          "2023-09-17T00:00:00.000000000",
          "2023-09-21T00:00:00.000000000",
          "2023-09-23T00:00:00.000000000",
          "2023-09-28T00:00:00.000000000",
          "2023-09-28T00:00:00.000000000",
          "2023-09-28T00:00:00.000000000",
          "2023-09-29T00:00:00.000000000",
          "2023-09-29T00:00:00.000000000",
          "2023-10-02T00:00:00.000000000",
          "2023-10-08T00:00:00.000000000",
          "2023-10-09T00:00:00.000000000",
          "2023-10-15T00:00:00.000000000",
          "2023-10-19T00:00:00.000000000",
          "2023-10-21T00:00:00.000000000",
          "2023-10-28T00:00:00.000000000",
          "2023-10-28T00:00:00.000000000",
          "2023-10-28T00:00:00.000000000",
          "2023-10-28T00:00:00.000000000",
          "2023-11-16T00:00:00.000000000",
          "2023-11-29T00:00:00.000000000",
          "2023-12-08T00:00:00.000000000",
          "2023-12-11T00:00:00.000000000",
          "2023-12-15T00:00:00.000000000",
          "2023-12-29T00:00:00.000000000",
          "2024-01-25T00:00:00.000000000",
          "2024-01-25T00:00:00.000000000",
          "2024-01-26T00:00:00.000000000",
          "2024-01-28T00:00:00.000000000",
          "2024-01-28T00:00:00.000000000",
          "2024-02-14T00:00:00.000000000",
          "2024-02-16T00:00:00.000000000",
          "2024-02-29T00:00:00.000000000",
          "2024-02-29T00:00:00.000000000",
          "2024-03-03T00:00:00.000000000",
          "2024-03-07T00:00:00.000000000",
          "2024-03-08T00:00:00.000000000",
          "2024-03-08T00:00:00.000000000",
          "2024-03-08T00:00:00.000000000",
          "2024-03-10T00:00:00.000000000",
          "2024-03-12T00:00:00.000000000",
          "2024-03-12T00:00:00.000000000",
          "2024-03-12T00:00:00.000000000",
          "2024-03-14T00:00:00.000000000",
          "2024-03-22T00:00:00.000000000",
          "2024-03-25T00:00:00.000000000",
          "2024-03-27T00:00:00.000000000",
          "2024-03-30T00:00:00.000000000",
          "2024-04-03T00:00:00.000000000",
          "2024-04-08T00:00:00.000000000",
          "2024-04-08T00:00:00.000000000",
          "2024-04-12T00:00:00.000000000",
          "2024-04-12T00:00:00.000000000",
          "2024-04-13T00:00:00.000000000",
          "2024-04-14T00:00:00.000000000",
          "2024-04-16T00:00:00.000000000",
          "2024-04-16T00:00:00.000000000",
          "2024-04-16T00:00:00.000000000",
          "2024-04-17T00:00:00.000000000",
          "2024-04-19T00:00:00.000000000",
          "2024-04-19T00:00:00.000000000",
          "2024-04-20T00:00:00.000000000",
          "2024-04-21T00:00:00.000000000",
          "2024-04-21T00:00:00.000000000",
          "2024-04-22T00:00:00.000000000",
          "2024-04-27T00:00:00.000000000",
          "2024-04-27T00:00:00.000000000",
          "2024-04-28T00:00:00.000000000",
          "2024-04-29T00:00:00.000000000",
          "2024-04-30T00:00:00.000000000",
          "2024-04-30T00:00:00.000000000",
          "2024-05-01T00:00:00.000000000",
          "2024-05-01T00:00:00.000000000",
          "2024-05-02T00:00:00.000000000",
          "2024-05-04T00:00:00.000000000",
          "2024-05-06T00:00:00.000000000",
          "2024-05-06T00:00:00.000000000",
          "2024-05-06T00:00:00.000000000",
          "2024-05-06T00:00:00.000000000",
          "2024-05-08T00:00:00.000000000",
          "2024-05-10T00:00:00.000000000",
          "2024-05-11T00:00:00.000000000",
          "2024-05-11T00:00:00.000000000",
          "2024-05-13T00:00:00.000000000",
          "2024-05-13T00:00:00.000000000",
          "2024-05-14T00:00:00.000000000",
          "2024-05-16T00:00:00.000000000",
          "2024-05-16T00:00:00.000000000",
          "2024-05-17T00:00:00.000000000",
          "2024-05-19T00:00:00.000000000",
          "2024-05-20T00:00:00.000000000",
          "2024-05-21T00:00:00.000000000",
          "2024-05-21T00:00:00.000000000",
          "2024-05-23T00:00:00.000000000",
          "2024-05-23T00:00:00.000000000",
          "2024-05-23T00:00:00.000000000",
          "2024-05-24T00:00:00.000000000",
          "2024-05-25T00:00:00.000000000",
          "2024-05-25T00:00:00.000000000",
          "2024-05-25T00:00:00.000000000",
          "2024-05-26T00:00:00.000000000",
          "2024-05-27T00:00:00.000000000",
          "2024-05-27T00:00:00.000000000",
          "2024-05-29T00:00:00.000000000",
          "2024-05-31T00:00:00.000000000",
          "2024-06-03T00:00:00.000000000",
          "2024-06-05T00:00:00.000000000",
          "2024-06-06T00:00:00.000000000",
          "2024-06-06T00:00:00.000000000",
          "2024-06-07T00:00:00.000000000",
          "2024-06-09T00:00:00.000000000",
          "2024-06-10T00:00:00.000000000",
          "2024-06-10T00:00:00.000000000",
          "2024-06-10T00:00:00.000000000",
          "2024-06-11T00:00:00.000000000",
          "2024-06-11T00:00:00.000000000",
          "2024-06-12T00:00:00.000000000",
          "2024-06-12T00:00:00.000000000",
          "2024-06-13T00:00:00.000000000",
          "2024-06-18T00:00:00.000000000",
          "2024-06-18T00:00:00.000000000",
          "2024-06-20T00:00:00.000000000",
          "2024-06-20T00:00:00.000000000",
          "2024-06-22T00:00:00.000000000",
          "2024-06-22T00:00:00.000000000",
          "2024-06-23T00:00:00.000000000",
          "2024-06-24T00:00:00.000000000",
          "2024-06-25T00:00:00.000000000",
          "2024-06-25T00:00:00.000000000",
          "2024-06-25T00:00:00.000000000",
          "2024-06-26T00:00:00.000000000",
          "2024-06-26T00:00:00.000000000",
          "2024-06-26T00:00:00.000000000",
          "2024-06-28T00:00:00.000000000",
          "2024-07-01T00:00:00.000000000",
          "2024-07-02T00:00:00.000000000",
          "2024-07-02T00:00:00.000000000",
          "2024-07-02T00:00:00.000000000",
          "2024-07-03T00:00:00.000000000",
          "2024-07-08T00:00:00.000000000",
          "2024-07-08T00:00:00.000000000",
          "2024-07-10T00:00:00.000000000",
          "2024-07-10T00:00:00.000000000",
          "2024-07-11T00:00:00.000000000",
          "2024-07-11T00:00:00.000000000",
          "2024-07-11T00:00:00.000000000",
          "2024-07-15T00:00:00.000000000",
          "2024-07-17T00:00:00.000000000",
          "2024-07-18T00:00:00.000000000",
          "2024-07-18T00:00:00.000000000",
          "2024-07-20T00:00:00.000000000",
          "2024-07-21T00:00:00.000000000",
          "2024-07-23T00:00:00.000000000",
          "2024-07-23T00:00:00.000000000",
          "2024-07-24T00:00:00.000000000",
          "2024-07-27T00:00:00.000000000",
          "2024-07-31T00:00:00.000000000",
          "2024-08-01T00:00:00.000000000",
          "2024-08-01T00:00:00.000000000",
          "2024-08-03T00:00:00.000000000",
          "2024-08-03T00:00:00.000000000",
          "2024-08-04T00:00:00.000000000",
          "2024-08-06T00:00:00.000000000",
          "2024-08-07T00:00:00.000000000",
          "2024-08-07T00:00:00.000000000",
          "2024-08-07T00:00:00.000000000",
          "2024-08-09T00:00:00.000000000",
          "2024-08-10T00:00:00.000000000",
          "2024-08-10T00:00:00.000000000",
          "2024-08-11T00:00:00.000000000",
          "2024-08-11T00:00:00.000000000",
          "2024-08-11T00:00:00.000000000",
          "2024-08-11T00:00:00.000000000",
          "2024-08-12T00:00:00.000000000",
          "2024-08-12T00:00:00.000000000",
          "2024-08-12T00:00:00.000000000",
          "2024-08-12T00:00:00.000000000",
          "2024-08-12T00:00:00.000000000",
          "2024-08-12T00:00:00.000000000",
          "2024-08-12T00:00:00.000000000",
          "2024-08-12T00:00:00.000000000",
          "2024-08-12T00:00:00.000000000",
          "2024-08-13T00:00:00.000000000",
          "2024-08-13T00:00:00.000000000",
          "2024-08-13T00:00:00.000000000",
          "2024-08-14T00:00:00.000000000",
          "2024-08-14T00:00:00.000000000",
          "2024-08-14T00:00:00.000000000",
          "2024-08-14T00:00:00.000000000",
          "2024-08-14T00:00:00.000000000",
          "2024-08-14T00:00:00.000000000",
          "2024-08-14T00:00:00.000000000",
          "2024-08-14T00:00:00.000000000",
          "2024-08-14T00:00:00.000000000",
          "2024-08-15T00:00:00.000000000",
          "2024-08-15T00:00:00.000000000",
          "2024-08-15T00:00:00.000000000",
          "2024-08-15T00:00:00.000000000",
          "2024-08-15T00:00:00.000000000",
          "2024-08-15T00:00:00.000000000",
          "2024-08-15T00:00:00.000000000",
          "2024-08-16T00:00:00.000000000",
          "2024-08-16T00:00:00.000000000",
          "2024-08-16T00:00:00.000000000",
          "2024-08-16T00:00:00.000000000",
          "2024-08-16T00:00:00.000000000",
          "2024-08-16T00:00:00.000000000",
          "2024-08-17T00:00:00.000000000",
          "2024-08-17T00:00:00.000000000",
          "2024-08-17T00:00:00.000000000",
          "2024-08-17T00:00:00.000000000",
          "2024-08-17T00:00:00.000000000",
          "2024-08-18T00:00:00.000000000",
          "2024-08-18T00:00:00.000000000",
          "2024-08-19T00:00:00.000000000",
          "2024-08-19T00:00:00.000000000",
          "2024-08-19T00:00:00.000000000",
          "2024-08-19T00:00:00.000000000",
          "2024-08-20T00:00:00.000000000",
          "2024-08-20T00:00:00.000000000",
          "2024-08-20T00:00:00.000000000",
          "2024-08-20T00:00:00.000000000",
          "2024-08-20T00:00:00.000000000",
          "2024-08-20T00:00:00.000000000",
          "2024-08-21T00:00:00.000000000",
          "2024-08-21T00:00:00.000000000",
          "2024-08-21T00:00:00.000000000",
          "2024-08-21T00:00:00.000000000",
          "2024-08-21T00:00:00.000000000",
          "2024-08-21T00:00:00.000000000",
          "2024-08-21T00:00:00.000000000",
          "2024-08-21T00:00:00.000000000",
          "2024-08-21T00:00:00.000000000",
          "2024-08-21T00:00:00.000000000",
          "2024-08-21T00:00:00.000000000",
          "2024-08-21T00:00:00.000000000",
          "2024-08-22T00:00:00.000000000",
          "2024-08-22T00:00:00.000000000",
          "2024-08-23T00:00:00.000000000",
          "2024-08-23T00:00:00.000000000",
          "2024-08-23T00:00:00.000000000",
          "2024-08-23T00:00:00.000000000",
          "2024-08-23T00:00:00.000000000",
          "2024-08-23T00:00:00.000000000",
          "2024-08-23T00:00:00.000000000",
          "2024-08-23T00:00:00.000000000",
          "2024-08-23T00:00:00.000000000",
          "2024-08-24T00:00:00.000000000",
          "2024-08-24T00:00:00.000000000",
          "2024-08-24T00:00:00.000000000",
          "2024-08-24T00:00:00.000000000",
          "2024-08-24T00:00:00.000000000",
          "2024-08-24T00:00:00.000000000",
          "2024-08-25T00:00:00.000000000",
          "2024-08-25T00:00:00.000000000",
          "2024-08-25T00:00:00.000000000",
          "2024-08-25T00:00:00.000000000",
          "2024-08-26T00:00:00.000000000",
          "2024-08-26T00:00:00.000000000",
          "2024-08-26T00:00:00.000000000",
          "2024-08-26T00:00:00.000000000",
          "2024-08-26T00:00:00.000000000",
          "2024-08-26T00:00:00.000000000",
          "2024-08-27T00:00:00.000000000",
          "2024-08-27T00:00:00.000000000",
          "2024-08-27T00:00:00.000000000",
          "2024-08-27T00:00:00.000000000",
          "2024-08-27T00:00:00.000000000",
          "2024-08-27T00:00:00.000000000",
          "2024-08-27T00:00:00.000000000",
          "2024-08-27T00:00:00.000000000",
          "2024-08-28T00:00:00.000000000",
          "2024-08-28T00:00:00.000000000",
          "2024-08-28T00:00:00.000000000",
          "2024-08-28T00:00:00.000000000",
          "2024-08-28T00:00:00.000000000",
          "2024-08-28T00:00:00.000000000",
          "2024-08-29T00:00:00.000000000",
          "2024-08-29T00:00:00.000000000",
          "2024-08-29T00:00:00.000000000",
          "2024-08-29T00:00:00.000000000",
          "2024-08-29T00:00:00.000000000",
          "2024-08-29T00:00:00.000000000",
          "2024-08-29T00:00:00.000000000",
          "2024-08-29T00:00:00.000000000",
          "2024-08-29T00:00:00.000000000",
          "2024-08-29T00:00:00.000000000",
          "2024-08-29T00:00:00.000000000",
          "2024-08-29T00:00:00.000000000",
          "2024-08-29T00:00:00.000000000",
          "2024-08-29T00:00:00.000000000",
          "2024-08-30T00:00:00.000000000",
          "2024-08-31T00:00:00.000000000",
          "2024-08-31T00:00:00.000000000",
          "2024-08-31T00:00:00.000000000",
          "2024-09-01T00:00:00.000000000",
          "2024-09-01T00:00:00.000000000",
          "2024-09-01T00:00:00.000000000",
          "2024-09-01T00:00:00.000000000",
          "2024-09-01T00:00:00.000000000",
          "2024-09-01T00:00:00.000000000",
          "2024-09-01T00:00:00.000000000",
          "2024-09-01T00:00:00.000000000",
          "2024-09-01T00:00:00.000000000",
          "2024-09-01T00:00:00.000000000",
          "2024-09-01T00:00:00.000000000",
          "2024-09-02T00:00:00.000000000",
          "2024-09-02T00:00:00.000000000",
          "2024-09-02T00:00:00.000000000",
          "2024-09-03T00:00:00.000000000",
          "2024-09-03T00:00:00.000000000",
          "2024-09-03T00:00:00.000000000",
          "2024-09-03T00:00:00.000000000",
          "2024-09-03T00:00:00.000000000",
          "2024-09-03T00:00:00.000000000",
          "2024-09-03T00:00:00.000000000",
          "2024-09-03T00:00:00.000000000",
          "2024-09-04T00:00:00.000000000",
          "2024-09-04T00:00:00.000000000",
          "2024-09-04T00:00:00.000000000",
          "2024-09-04T00:00:00.000000000",
          "2024-09-04T00:00:00.000000000",
          "2024-09-04T00:00:00.000000000",
          "2024-09-04T00:00:00.000000000",
          "2024-09-05T00:00:00.000000000",
          "2024-09-05T00:00:00.000000000",
          "2024-09-05T00:00:00.000000000",
          "2024-09-05T00:00:00.000000000",
          "2024-09-05T00:00:00.000000000",
          "2024-09-05T00:00:00.000000000",
          "2024-09-05T00:00:00.000000000",
          "2024-09-06T00:00:00.000000000",
          "2024-09-06T00:00:00.000000000",
          "2024-09-06T00:00:00.000000000",
          "2024-09-06T00:00:00.000000000",
          "2024-09-06T00:00:00.000000000",
          "2024-09-06T00:00:00.000000000",
          "2024-09-07T00:00:00.000000000",
          "2024-09-07T00:00:00.000000000",
          "2024-09-07T00:00:00.000000000",
          "2024-09-07T00:00:00.000000000",
          "2024-09-07T00:00:00.000000000",
          "2024-09-07T00:00:00.000000000",
          "2024-09-07T00:00:00.000000000",
          "2024-09-07T00:00:00.000000000",
          "2024-09-08T00:00:00.000000000",
          "2024-09-08T00:00:00.000000000",
          "2024-09-08T00:00:00.000000000",
          "2024-09-08T00:00:00.000000000",
          "2024-09-08T00:00:00.000000000",
          "2024-09-09T00:00:00.000000000",
          "2024-09-09T00:00:00.000000000",
          "2024-09-09T00:00:00.000000000",
          "2024-09-09T00:00:00.000000000",
          "2024-09-09T00:00:00.000000000",
          "2024-09-09T00:00:00.000000000",
          "2024-09-09T00:00:00.000000000",
          "2024-09-10T00:00:00.000000000",
          "2024-09-10T00:00:00.000000000",
          "2024-09-10T00:00:00.000000000",
          "2024-09-10T00:00:00.000000000",
          "2024-09-11T00:00:00.000000000",
          "2024-09-11T00:00:00.000000000",
          "2024-09-11T00:00:00.000000000",
          "2024-09-11T00:00:00.000000000",
          "2024-09-12T00:00:00.000000000",
          "2024-09-12T00:00:00.000000000",
          "2024-09-12T00:00:00.000000000",
          "2024-09-12T00:00:00.000000000",
          "2024-09-12T00:00:00.000000000",
          "2024-09-13T00:00:00.000000000",
          "2024-09-13T00:00:00.000000000",
          "2024-09-13T00:00:00.000000000",
          "2024-09-13T00:00:00.000000000",
          "2024-09-13T00:00:00.000000000",
          "2024-09-13T00:00:00.000000000",
          "2024-09-13T00:00:00.000000000",
          "2024-09-13T00:00:00.000000000",
          "2024-09-13T00:00:00.000000000",
          "2024-09-13T00:00:00.000000000",
          "2024-09-13T00:00:00.000000000",
          "2024-09-14T00:00:00.000000000",
          "2024-09-14T00:00:00.000000000",
          "2024-09-15T00:00:00.000000000",
          "2024-09-15T00:00:00.000000000",
          "2024-09-15T00:00:00.000000000",
          "2024-09-15T00:00:00.000000000",
          "2024-09-15T00:00:00.000000000",
          "2024-09-15T00:00:00.000000000",
          "2024-09-15T00:00:00.000000000",
          "2024-09-16T00:00:00.000000000",
          "2024-09-16T00:00:00.000000000",
          "2024-09-16T00:00:00.000000000",
          "2024-09-16T00:00:00.000000000",
          "2024-09-17T00:00:00.000000000",
          "2024-09-17T00:00:00.000000000",
          "2024-09-17T00:00:00.000000000",
          "2024-09-17T00:00:00.000000000",
          "2024-09-17T00:00:00.000000000",
          "2024-09-17T00:00:00.000000000",
          "2024-09-17T00:00:00.000000000",
          "2024-09-17T00:00:00.000000000",
          "2024-09-17T00:00:00.000000000",
          "2024-09-17T00:00:00.000000000",
          "2024-09-18T00:00:00.000000000",
          "2024-09-18T00:00:00.000000000",
          "2024-09-18T00:00:00.000000000",
          "2024-09-18T00:00:00.000000000",
          "2024-09-18T00:00:00.000000000",
          "2024-09-18T00:00:00.000000000",
          "2024-09-18T00:00:00.000000000",
          "2024-09-18T00:00:00.000000000",
          "2024-09-19T00:00:00.000000000",
          "2024-09-19T00:00:00.000000000",
          "2024-09-20T00:00:00.000000000",
          "2024-09-21T00:00:00.000000000",
          "2024-09-22T00:00:00.000000000",
          "2024-09-22T00:00:00.000000000",
          "2024-09-23T00:00:00.000000000",
          "2024-09-24T00:00:00.000000000",
          "2024-09-24T00:00:00.000000000",
          "2024-09-25T00:00:00.000000000",
          "2024-09-25T00:00:00.000000000",
          "2024-09-26T00:00:00.000000000",
          "2024-09-26T00:00:00.000000000",
          "2024-09-26T00:00:00.000000000",
          "2024-09-27T00:00:00.000000000",
          "2024-09-27T00:00:00.000000000",
          "2024-10-02T00:00:00.000000000",
          "2024-10-02T00:00:00.000000000",
          "2024-10-02T00:00:00.000000000",
          "2024-10-03T00:00:00.000000000",
          "2024-10-04T00:00:00.000000000",
          "2024-10-05T00:00:00.000000000",
          "2024-10-07T00:00:00.000000000",
          "2024-10-08T00:00:00.000000000",
          "2024-10-09T00:00:00.000000000",
          "2024-10-12T00:00:00.000000000",
          "2024-10-14T00:00:00.000000000",
          "2024-10-17T00:00:00.000000000",
          "2024-10-17T00:00:00.000000000",
          "2024-10-22T00:00:00.000000000",
          "2024-10-22T00:00:00.000000000",
          "2024-10-23T00:00:00.000000000",
          "2024-10-24T00:00:00.000000000",
          "2024-10-29T00:00:00.000000000",
          "2024-11-01T00:00:00.000000000",
          "2024-11-02T00:00:00.000000000",
          "2024-11-02T00:00:00.000000000",
          "2024-11-03T00:00:00.000000000",
          "2024-11-07T00:00:00.000000000",
          "2024-11-08T00:00:00.000000000",
          "2024-11-09T00:00:00.000000000",
          "2024-11-09T00:00:00.000000000",
          "2024-11-13T00:00:00.000000000",
          "2024-11-13T00:00:00.000000000",
          "2024-11-14T00:00:00.000000000",
          "2024-11-14T00:00:00.000000000",
          "2024-11-14T00:00:00.000000000",
          "2024-11-15T00:00:00.000000000",
          "2024-11-15T00:00:00.000000000",
          "2024-11-16T00:00:00.000000000",
          "2024-11-17T00:00:00.000000000",
          "2024-11-20T00:00:00.000000000",
          "2024-11-22T00:00:00.000000000",
          "2024-11-23T00:00:00.000000000",
          "2024-11-25T00:00:00.000000000",
          "2024-11-25T00:00:00.000000000",
          "2024-11-27T00:00:00.000000000",
          "2024-11-27T00:00:00.000000000",
          "2024-11-29T00:00:00.000000000",
          "2024-12-03T00:00:00.000000000",
          "2024-12-03T00:00:00.000000000",
          "2024-12-03T00:00:00.000000000",
          "2024-12-03T00:00:00.000000000",
          "2024-12-05T00:00:00.000000000",
          "2024-12-07T00:00:00.000000000",
          "2024-12-10T00:00:00.000000000",
          "2024-12-11T00:00:00.000000000",
          "2024-12-13T00:00:00.000000000",
          "2024-12-15T00:00:00.000000000",
          "2024-12-16T00:00:00.000000000",
          "2024-12-18T00:00:00.000000000",
          "2024-12-18T00:00:00.000000000",
          "2024-12-19T00:00:00.000000000",
          "2024-12-19T00:00:00.000000000",
          "2024-12-21T00:00:00.000000000",
          "2024-12-24T00:00:00.000000000",
          "2024-12-25T00:00:00.000000000",
          "2024-12-26T00:00:00.000000000",
          "2024-12-26T00:00:00.000000000",
          "2024-12-26T00:00:00.000000000",
          "2024-12-26T00:00:00.000000000",
          "2024-12-27T00:00:00.000000000",
          "2024-12-30T00:00:00.000000000",
          "2024-12-30T00:00:00.000000000",
          "2024-12-31T00:00:00.000000000",
          "2025-01-02T00:00:00.000000000",
          "2025-01-02T00:00:00.000000000",
          "2025-01-03T00:00:00.000000000",
          "2025-01-04T00:00:00.000000000",
          "2025-01-05T00:00:00.000000000",
          "2025-01-06T00:00:00.000000000",
          "2025-01-07T00:00:00.000000000",
          "2025-01-08T00:00:00.000000000",
          "2025-01-09T00:00:00.000000000",
          "2025-01-12T00:00:00.000000000",
          "2025-01-13T00:00:00.000000000",
          "2025-01-13T00:00:00.000000000",
          "2025-01-14T00:00:00.000000000",
          "2025-01-17T00:00:00.000000000",
          "2025-01-17T00:00:00.000000000",
          "2025-01-17T00:00:00.000000000",
          "2025-01-20T00:00:00.000000000",
          "2025-01-21T00:00:00.000000000",
          "2025-01-21T00:00:00.000000000",
          "2025-01-25T00:00:00.000000000",
          "2025-01-25T00:00:00.000000000",
          "2025-01-25T00:00:00.000000000",
          "2025-01-25T00:00:00.000000000",
          "2025-01-25T00:00:00.000000000",
          "2025-01-27T00:00:00.000000000",
          "2025-01-28T00:00:00.000000000",
          "2025-01-29T00:00:00.000000000",
          "2025-01-29T00:00:00.000000000",
          "2025-01-29T00:00:00.000000000",
          "2025-01-30T00:00:00.000000000",
          "2025-01-30T00:00:00.000000000",
          "2025-01-31T00:00:00.000000000",
          "2025-01-31T00:00:00.000000000",
          "2025-02-01T00:00:00.000000000",
          "2025-02-02T00:00:00.000000000",
          "2025-02-02T00:00:00.000000000",
          "2025-02-05T00:00:00.000000000",
          "2025-02-05T00:00:00.000000000",
          "2025-02-07T00:00:00.000000000",
          "2025-02-07T00:00:00.000000000",
          "2025-02-08T00:00:00.000000000",
          "2025-02-12T00:00:00.000000000",
          "2025-02-13T00:00:00.000000000",
          "2025-02-14T00:00:00.000000000",
          "2025-02-15T00:00:00.000000000",
          "2025-02-16T00:00:00.000000000",
          "2025-02-17T00:00:00.000000000",
          "2025-02-19T00:00:00.000000000",
          "2025-02-20T00:00:00.000000000",
          "2025-02-20T00:00:00.000000000",
          "2025-02-20T00:00:00.000000000",
          "2025-02-20T00:00:00.000000000",
          "2025-02-20T00:00:00.000000000",
          "2025-02-25T00:00:00.000000000",
          "2025-02-28T00:00:00.000000000",
          "2025-03-01T00:00:00.000000000",
          "2025-03-01T00:00:00.000000000",
          "2025-03-01T00:00:00.000000000",
          "2025-03-02T00:00:00.000000000",
          "2025-03-02T00:00:00.000000000",
          "2025-03-02T00:00:00.000000000",
          "2025-03-02T00:00:00.000000000",
          "2025-03-05T00:00:00.000000000",
          "2025-03-05T00:00:00.000000000",
          "2025-03-05T00:00:00.000000000",
          "2025-03-07T00:00:00.000000000",
          "2025-03-07T00:00:00.000000000",
          "2025-03-12T00:00:00.000000000",
          "2025-03-12T00:00:00.000000000",
          "2025-03-12T00:00:00.000000000",
          "2025-03-13T00:00:00.000000000",
          "2025-03-14T00:00:00.000000000",
          "2025-03-17T00:00:00.000000000",
          "2025-03-20T00:00:00.000000000",
          "2025-03-22T00:00:00.000000000",
          "2025-03-22T00:00:00.000000000",
          "2025-03-24T00:00:00.000000000",
          "2025-03-26T00:00:00.000000000",
          "2025-03-28T00:00:00.000000000",
          "2025-03-29T00:00:00.000000000",
          "2025-03-29T00:00:00.000000000",
          "2025-04-01T00:00:00.000000000",
          "2025-04-01T00:00:00.000000000",
          "2025-04-04T00:00:00.000000000",
          "2025-04-04T00:00:00.000000000",
          "2025-04-04T00:00:00.000000000",
          "2025-04-05T00:00:00.000000000",
          "2025-04-05T00:00:00.000000000",
          "2025-04-05T00:00:00.000000000",
          "2025-04-06T00:00:00.000000000",
          "2025-04-06T00:00:00.000000000",
          "2025-04-06T00:00:00.000000000",
          "2025-04-07T00:00:00.000000000",
          "2025-04-08T00:00:00.000000000",
          "2025-04-09T00:00:00.000000000",
          "2025-04-12T00:00:00.000000000",
          "2025-04-12T00:00:00.000000000",
          "2025-04-12T00:00:00.000000000",
          "2025-04-12T00:00:00.000000000",
          "2025-04-12T00:00:00.000000000",
          "2025-04-13T00:00:00.000000000",
          "2025-04-14T00:00:00.000000000",
          "2025-04-16T00:00:00.000000000",
          "2025-04-17T00:00:00.000000000",
          "2025-04-19T00:00:00.000000000",
          "2025-04-22T00:00:00.000000000",
          "2025-04-23T00:00:00.000000000",
          "2025-04-26T00:00:00.000000000",
          "2025-04-27T00:00:00.000000000",
          "2025-04-28T00:00:00.000000000",
          "2025-04-29T00:00:00.000000000",
          "2025-04-29T00:00:00.000000000",
          "2025-05-02T00:00:00.000000000",
          "2025-05-04T00:00:00.000000000",
          "2025-05-04T00:00:00.000000000",
          "2025-05-06T00:00:00.000000000",
          "2025-05-09T00:00:00.000000000",
          "2025-05-10T00:00:00.000000000",
          "2025-05-14T00:00:00.000000000",
          "2025-05-17T00:00:00.000000000",
          "2025-05-20T00:00:00.000000000",
          "2025-05-21T00:00:00.000000000",
          "2025-05-21T00:00:00.000000000",
          "2025-05-22T00:00:00.000000000",
          "2025-05-27T00:00:00.000000000",
          "2025-05-29T00:00:00.000000000",
          "2025-05-29T00:00:00.000000000",
          "2025-05-29T00:00:00.000000000",
          "2025-05-31T00:00:00.000000000",
          "2025-06-01T00:00:00.000000000",
          "2025-06-02T00:00:00.000000000",
          "2025-06-03T00:00:00.000000000",
          "2025-06-05T00:00:00.000000000",
          "2025-06-05T00:00:00.000000000",
          "2025-06-11T00:00:00.000000000",
          "2025-06-12T00:00:00.000000000",
          "2025-06-16T00:00:00.000000000",
          "2025-06-20T00:00:00.000000000",
          "2025-06-20T00:00:00.000000000",
          "2025-06-20T00:00:00.000000000",
          "2025-06-22T00:00:00.000000000",
          "2025-06-22T00:00:00.000000000",
          "2025-06-22T00:00:00.000000000",
          "2025-06-26T00:00:00.000000000",
          "2025-06-27T00:00:00.000000000",
          "2025-07-05T00:00:00.000000000",
          "2025-07-05T00:00:00.000000000",
          "2025-07-06T00:00:00.000000000",
          "2025-07-10T00:00:00.000000000",
          "2025-07-14T00:00:00.000000000",
          "2025-07-17T00:00:00.000000000",
          "2025-07-18T00:00:00.000000000",
          "2025-07-23T00:00:00.000000000",
          "2025-07-25T00:00:00.000000000",
          "2025-07-27T00:00:00.000000000",
          "2025-07-31T00:00:00.000000000",
          "2025-07-31T00:00:00.000000000"
         ],
         "xaxis": "x",
         "y": {
          "bdata": "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",
          "dtype": "f8"
         },
         "yaxis": "y"
        },
        {
         "hovertemplate": "Series=prediction<br>date=%{x}<br>Compliance Rate=%{y}<extra></extra>",
         "legendgroup": "prediction",
         "line": {
          "color": "rgb(0,60,170)",
          "dash": "solid"
         },
         "marker": {
          "symbol": "circle"
         },
         "mode": "markers+lines",
         "name": "prediction",
         "showlegend": true,
         "type": "scattergl",
         "x": [
          "2022-01-02T00:00:00.000000000",
          "2022-01-16T00:00:00.000000000",
          "2022-01-27T00:00:00.000000000",
          "2022-02-04T00:00:00.000000000",
          "2022-02-04T00:00:00.000000000",
          "2022-02-23T00:00:00.000000000",
          "2022-03-24T00:00:00.000000000",
          "2022-03-25T00:00:00.000000000",
          "2022-03-31T00:00:00.000000000",
          "2022-04-15T00:00:00.000000000",
          "2022-05-23T00:00:00.000000000",
          "2022-07-13T00:00:00.000000000",
          "2022-07-25T00:00:00.000000000",
          "2022-08-18T00:00:00.000000000",
          "2022-09-11T00:00:00.000000000",
          "2022-11-28T00:00:00.000000000",
          "2023-01-10T00:00:00.000000000",
          "2023-02-02T00:00:00.000000000",
          "2023-02-15T00:00:00.000000000",
          "2023-03-16T00:00:00.000000000",
          "2023-03-23T00:00:00.000000000",
          "2023-03-31T00:00:00.000000000",
          "2023-04-03T00:00:00.000000000",
          "2023-04-14T00:00:00.000000000",
          "2023-04-20T00:00:00.000000000",
          "2023-04-24T00:00:00.000000000",
          "2023-04-24T00:00:00.000000000",
          "2023-05-21T00:00:00.000000000",
          "2023-05-24T00:00:00.000000000",
          "2023-05-24T00:00:00.000000000",
          "2023-06-05T00:00:00.000000000",
          "2023-06-17T00:00:00.000000000",
          "2023-07-12T00:00:00.000000000",
          "2023-07-17T00:00:00.000000000",
          "2023-07-17T00:00:00.000000000",
          "2023-07-28T00:00:00.000000000",
          "2023-07-28T00:00:00.000000000",
          "2023-07-30T00:00:00.000000000",
          "2023-07-30T00:00:00.000000000",
          "2023-07-31T00:00:00.000000000",
          "2023-08-01T00:00:00.000000000",
          "2023-08-02T00:00:00.000000000",
          "2023-08-04T00:00:00.000000000",
          "2023-08-07T00:00:00.000000000",
          "2023-08-07T00:00:00.000000000",
          "2023-08-10T00:00:00.000000000",
          "2023-08-16T00:00:00.000000000",
          "2023-08-17T00:00:00.000000000",
          "2023-08-17T00:00:00.000000000",
          "2023-08-25T00:00:00.000000000",
          "2023-08-25T00:00:00.000000000",
          "2023-08-27T00:00:00.000000000",
          "2023-08-28T00:00:00.000000000",
          "2023-08-28T00:00:00.000000000",
          "2023-08-31T00:00:00.000000000",
          "2023-09-06T00:00:00.000000000",
          "2023-09-07T00:00:00.000000000",
          "2023-09-09T00:00:00.000000000",
          "2023-09-10T00:00:00.000000000",
          "2023-09-13T00:00:00.000000000",
          "2023-09-17T00:00:00.000000000",
          "2023-09-21T00:00:00.000000000",
          "2023-09-23T00:00:00.000000000",
          "2023-09-28T00:00:00.000000000",
          "2023-09-28T00:00:00.000000000",
          "2023-09-28T00:00:00.000000000",
          "2023-09-29T00:00:00.000000000",
          "2023-09-29T00:00:00.000000000",
          "2023-10-02T00:00:00.000000000",
          "2023-10-08T00:00:00.000000000",
          "2023-10-09T00:00:00.000000000",
          "2023-10-15T00:00:00.000000000",
          "2023-10-19T00:00:00.000000000",
          "2023-10-21T00:00:00.000000000",
          "2023-10-28T00:00:00.000000000",
          "2023-10-28T00:00:00.000000000",
          "2023-10-28T00:00:00.000000000",
          "2023-10-28T00:00:00.000000000",
          "2023-11-16T00:00:00.000000000",
          "2023-11-29T00:00:00.000000000",
          "2023-12-08T00:00:00.000000000",
          "2023-12-11T00:00:00.000000000",
          "2023-12-15T00:00:00.000000000",
          "2023-12-29T00:00:00.000000000",
          "2024-01-25T00:00:00.000000000",
          "2024-01-25T00:00:00.000000000",
          "2024-01-26T00:00:00.000000000",
          "2024-01-28T00:00:00.000000000",
          "2024-01-28T00:00:00.000000000",
          "2024-02-14T00:00:00.000000000",
          "2024-02-16T00:00:00.000000000",
          "2024-02-29T00:00:00.000000000",
          "2024-02-29T00:00:00.000000000",
          "2024-03-03T00:00:00.000000000",
          "2024-03-07T00:00:00.000000000",
          "2024-03-08T00:00:00.000000000",
          "2024-03-08T00:00:00.000000000",
          "2024-03-08T00:00:00.000000000",
          "2024-03-10T00:00:00.000000000",
          "2024-03-12T00:00:00.000000000",
          "2024-03-12T00:00:00.000000000",
          "2024-03-12T00:00:00.000000000",
          "2024-03-14T00:00:00.000000000",
          "2024-03-22T00:00:00.000000000",
          "2024-03-25T00:00:00.000000000",
          "2024-03-27T00:00:00.000000000",
          "2024-03-30T00:00:00.000000000",
          "2024-04-03T00:00:00.000000000",
          "2024-04-08T00:00:00.000000000",
          "2024-04-08T00:00:00.000000000",
          "2024-04-12T00:00:00.000000000",
          "2024-04-12T00:00:00.000000000",
          "2024-04-13T00:00:00.000000000",
          "2024-04-14T00:00:00.000000000",
          "2024-04-16T00:00:00.000000000",
          "2024-04-16T00:00:00.000000000",
          "2024-04-16T00:00:00.000000000",
          "2024-04-17T00:00:00.000000000",
          "2024-04-19T00:00:00.000000000",
          "2024-04-19T00:00:00.000000000",
          "2024-04-20T00:00:00.000000000",
          "2024-04-21T00:00:00.000000000",
          "2024-04-21T00:00:00.000000000",
          "2024-04-22T00:00:00.000000000",
          "2024-04-27T00:00:00.000000000",
          "2024-04-27T00:00:00.000000000",
          "2024-04-28T00:00:00.000000000",
          "2024-04-29T00:00:00.000000000",
          "2024-04-30T00:00:00.000000000",
          "2024-04-30T00:00:00.000000000",
          "2024-05-01T00:00:00.000000000",
          "2024-05-01T00:00:00.000000000",
          "2024-05-02T00:00:00.000000000",
          "2024-05-04T00:00:00.000000000",
          "2024-05-06T00:00:00.000000000",
          "2024-05-06T00:00:00.000000000",
          "2024-05-06T00:00:00.000000000",
          "2024-05-06T00:00:00.000000000",
          "2024-05-08T00:00:00.000000000",
          "2024-05-10T00:00:00.000000000",
          "2024-05-11T00:00:00.000000000",
          "2024-05-11T00:00:00.000000000",
          "2024-05-13T00:00:00.000000000",
          "2024-05-13T00:00:00.000000000",
          "2024-05-14T00:00:00.000000000",
          "2024-05-16T00:00:00.000000000",
          "2024-05-16T00:00:00.000000000",
          "2024-05-17T00:00:00.000000000",
          "2024-05-19T00:00:00.000000000",
          "2024-05-20T00:00:00.000000000",
          "2024-05-21T00:00:00.000000000",
          "2024-05-21T00:00:00.000000000",
          "2024-05-23T00:00:00.000000000",
          "2024-05-23T00:00:00.000000000",
          "2024-05-23T00:00:00.000000000",
          "2024-05-24T00:00:00.000000000",
          "2024-05-25T00:00:00.000000000",
          "2024-05-25T00:00:00.000000000",
          "2024-05-25T00:00:00.000000000",
          "2024-05-26T00:00:00.000000000",
          "2024-05-27T00:00:00.000000000",
          "2024-05-27T00:00:00.000000000",
          "2024-05-29T00:00:00.000000000",
          "2024-05-31T00:00:00.000000000",
          "2024-06-03T00:00:00.000000000",
          "2024-06-05T00:00:00.000000000",
          "2024-06-06T00:00:00.000000000",
          "2024-06-06T00:00:00.000000000",
          "2024-06-07T00:00:00.000000000",
          "2024-06-09T00:00:00.000000000",
          "2024-06-10T00:00:00.000000000",
          "2024-06-10T00:00:00.000000000",
          "2024-06-10T00:00:00.000000000",
          "2024-06-11T00:00:00.000000000",
          "2024-06-11T00:00:00.000000000",
          "2024-06-12T00:00:00.000000000",
          "2024-06-12T00:00:00.000000000",
          "2024-06-13T00:00:00.000000000",
          "2024-06-18T00:00:00.000000000",
          "2024-06-18T00:00:00.000000000",
          "2024-06-20T00:00:00.000000000",
          "2024-06-20T00:00:00.000000000",
          "2024-06-22T00:00:00.000000000",
          "2024-06-22T00:00:00.000000000",
          "2024-06-23T00:00:00.000000000",
          "2024-06-24T00:00:00.000000000",
          "2024-06-25T00:00:00.000000000",
          "2024-06-25T00:00:00.000000000",
          "2024-06-25T00:00:00.000000000",
          "2024-06-26T00:00:00.000000000",
          "2024-06-26T00:00:00.000000000",
          "2024-06-26T00:00:00.000000000",
          "2024-06-28T00:00:00.000000000",
          "2024-07-01T00:00:00.000000000",
          "2024-07-02T00:00:00.000000000",
          "2024-07-02T00:00:00.000000000",
          "2024-07-02T00:00:00.000000000",
          "2024-07-03T00:00:00.000000000",
          "2024-07-08T00:00:00.000000000",
          "2024-07-08T00:00:00.000000000",
          "2024-07-10T00:00:00.000000000",
          "2024-07-10T00:00:00.000000000",
          "2024-07-11T00:00:00.000000000",
          "2024-07-11T00:00:00.000000000",
          "2024-07-11T00:00:00.000000000",
          "2024-07-15T00:00:00.000000000",
          "2024-07-17T00:00:00.000000000",
          "2024-07-18T00:00:00.000000000",
          "2024-07-18T00:00:00.000000000",
          "2024-07-20T00:00:00.000000000",
          "2024-07-21T00:00:00.000000000",
          "2024-07-23T00:00:00.000000000",
          "2024-07-23T00:00:00.000000000",
          "2024-07-24T00:00:00.000000000",
          "2024-07-27T00:00:00.000000000",
          "2024-07-31T00:00:00.000000000",
          "2024-08-01T00:00:00.000000000",
          "2024-08-01T00:00:00.000000000",
          "2024-08-03T00:00:00.000000000",
          "2024-08-03T00:00:00.000000000",
          "2024-08-04T00:00:00.000000000",
          "2024-08-06T00:00:00.000000000",
          "2024-08-07T00:00:00.000000000",
          "2024-08-07T00:00:00.000000000",
          "2024-08-07T00:00:00.000000000",
          "2024-08-09T00:00:00.000000000",
          "2024-08-10T00:00:00.000000000",
          "2024-08-10T00:00:00.000000000",
          "2024-08-11T00:00:00.000000000",
          "2024-08-11T00:00:00.000000000",
          "2024-08-11T00:00:00.000000000",
          "2024-08-11T00:00:00.000000000",
          "2024-08-12T00:00:00.000000000",
          "2024-08-12T00:00:00.000000000",
          "2024-08-12T00:00:00.000000000",
          "2024-08-12T00:00:00.000000000",
          "2024-08-12T00:00:00.000000000",
          "2024-08-12T00:00:00.000000000",
          "2024-08-12T00:00:00.000000000",
          "2024-08-12T00:00:00.000000000",
          "2024-08-12T00:00:00.000000000",
          "2024-08-13T00:00:00.000000000",
          "2024-08-13T00:00:00.000000000",
          "2024-08-13T00:00:00.000000000",
          "2024-08-14T00:00:00.000000000",
          "2024-08-14T00:00:00.000000000",
          "2024-08-14T00:00:00.000000000",
          "2024-08-14T00:00:00.000000000",
          "2024-08-14T00:00:00.000000000",
          "2024-08-14T00:00:00.000000000",
          "2024-08-14T00:00:00.000000000",
          "2024-08-14T00:00:00.000000000",
          "2024-08-14T00:00:00.000000000",
          "2024-08-15T00:00:00.000000000",
          "2024-08-15T00:00:00.000000000",
          "2024-08-15T00:00:00.000000000",
          "2024-08-15T00:00:00.000000000",
          "2024-08-15T00:00:00.000000000",
          "2024-08-15T00:00:00.000000000",
          "2024-08-15T00:00:00.000000000",
          "2024-08-16T00:00:00.000000000",
          "2024-08-16T00:00:00.000000000",
          "2024-08-16T00:00:00.000000000",
          "2024-08-16T00:00:00.000000000",
          "2024-08-16T00:00:00.000000000",
          "2024-08-16T00:00:00.000000000",
          "2024-08-17T00:00:00.000000000",
          "2024-08-17T00:00:00.000000000",
          "2024-08-17T00:00:00.000000000",
          "2024-08-17T00:00:00.000000000",
          "2024-08-17T00:00:00.000000000",
          "2024-08-18T00:00:00.000000000",
          "2024-08-18T00:00:00.000000000",
          "2024-08-19T00:00:00.000000000",
          "2024-08-19T00:00:00.000000000",
          "2024-08-19T00:00:00.000000000",
          "2024-08-19T00:00:00.000000000",
          "2024-08-20T00:00:00.000000000",
          "2024-08-20T00:00:00.000000000",
          "2024-08-20T00:00:00.000000000",
          "2024-08-20T00:00:00.000000000",
          "2024-08-20T00:00:00.000000000",
          "2024-08-20T00:00:00.000000000",
          "2024-08-21T00:00:00.000000000",
          "2024-08-21T00:00:00.000000000",
          "2024-08-21T00:00:00.000000000",
          "2024-08-21T00:00:00.000000000",
          "2024-08-21T00:00:00.000000000",
          "2024-08-21T00:00:00.000000000",
          "2024-08-21T00:00:00.000000000",
          "2024-08-21T00:00:00.000000000",
          "2024-08-21T00:00:00.000000000",
          "2024-08-21T00:00:00.000000000",
          "2024-08-21T00:00:00.000000000",
          "2024-08-21T00:00:00.000000000",
          "2024-08-22T00:00:00.000000000",
          "2024-08-22T00:00:00.000000000",
          "2024-08-23T00:00:00.000000000",
          "2024-08-23T00:00:00.000000000",
          "2024-08-23T00:00:00.000000000",
          "2024-08-23T00:00:00.000000000",
          "2024-08-23T00:00:00.000000000",
          "2024-08-23T00:00:00.000000000",
          "2024-08-23T00:00:00.000000000",
          "2024-08-23T00:00:00.000000000",
          "2024-08-23T00:00:00.000000000",
          "2024-08-24T00:00:00.000000000",
          "2024-08-24T00:00:00.000000000",
          "2024-08-24T00:00:00.000000000",
          "2024-08-24T00:00:00.000000000",
          "2024-08-24T00:00:00.000000000",
          "2024-08-24T00:00:00.000000000",
          "2024-08-25T00:00:00.000000000",
          "2024-08-25T00:00:00.000000000",
          "2024-08-25T00:00:00.000000000",
          "2024-08-25T00:00:00.000000000",
          "2024-08-26T00:00:00.000000000",
          "2024-08-26T00:00:00.000000000",
          "2024-08-26T00:00:00.000000000",
          "2024-08-26T00:00:00.000000000",
          "2024-08-26T00:00:00.000000000",
          "2024-08-26T00:00:00.000000000",
          "2024-08-27T00:00:00.000000000",
          "2024-08-27T00:00:00.000000000",
          "2024-08-27T00:00:00.000000000",
          "2024-08-27T00:00:00.000000000",
          "2024-08-27T00:00:00.000000000",
          "2024-08-27T00:00:00.000000000",
          "2024-08-27T00:00:00.000000000",
          "2024-08-27T00:00:00.000000000",
          "2024-08-28T00:00:00.000000000",
          "2024-08-28T00:00:00.000000000",
          "2024-08-28T00:00:00.000000000",
          "2024-08-28T00:00:00.000000000",
          "2024-08-28T00:00:00.000000000",
          "2024-08-28T00:00:00.000000000",
          "2024-08-29T00:00:00.000000000",
          "2024-08-29T00:00:00.000000000",
          "2024-08-29T00:00:00.000000000",
          "2024-08-29T00:00:00.000000000",
          "2024-08-29T00:00:00.000000000",
          "2024-08-29T00:00:00.000000000",
          "2024-08-29T00:00:00.000000000",
          "2024-08-29T00:00:00.000000000",
          "2024-08-29T00:00:00.000000000",
          "2024-08-29T00:00:00.000000000",
          "2024-08-29T00:00:00.000000000",
          "2024-08-29T00:00:00.000000000",
          "2024-08-29T00:00:00.000000000",
          "2024-08-29T00:00:00.000000000",
          "2024-08-30T00:00:00.000000000",
          "2024-08-31T00:00:00.000000000",
          "2024-08-31T00:00:00.000000000",
          "2024-08-31T00:00:00.000000000",
          "2024-09-01T00:00:00.000000000",
          "2024-09-01T00:00:00.000000000",
          "2024-09-01T00:00:00.000000000",
          "2024-09-01T00:00:00.000000000",
          "2024-09-01T00:00:00.000000000",
          "2024-09-01T00:00:00.000000000",
          "2024-09-01T00:00:00.000000000",
          "2024-09-01T00:00:00.000000000",
          "2024-09-01T00:00:00.000000000",
          "2024-09-01T00:00:00.000000000",
          "2024-09-01T00:00:00.000000000",
          "2024-09-02T00:00:00.000000000",
          "2024-09-02T00:00:00.000000000",
          "2024-09-02T00:00:00.000000000",
          "2024-09-03T00:00:00.000000000",
          "2024-09-03T00:00:00.000000000",
          "2024-09-03T00:00:00.000000000",
          "2024-09-03T00:00:00.000000000",
          "2024-09-03T00:00:00.000000000",
          "2024-09-03T00:00:00.000000000",
          "2024-09-03T00:00:00.000000000",
          "2024-09-03T00:00:00.000000000",
          "2024-09-04T00:00:00.000000000",
          "2024-09-04T00:00:00.000000000",
          "2024-09-04T00:00:00.000000000",
          "2024-09-04T00:00:00.000000000",
          "2024-09-04T00:00:00.000000000",
          "2024-09-04T00:00:00.000000000",
          "2024-09-04T00:00:00.000000000",
          "2024-09-05T00:00:00.000000000",
          "2024-09-05T00:00:00.000000000",
          "2024-09-05T00:00:00.000000000",
          "2024-09-05T00:00:00.000000000",
          "2024-09-05T00:00:00.000000000",
          "2024-09-05T00:00:00.000000000",
          "2024-09-05T00:00:00.000000000",
          "2024-09-06T00:00:00.000000000",
          "2024-09-06T00:00:00.000000000",
          "2024-09-06T00:00:00.000000000",
          "2024-09-06T00:00:00.000000000",
          "2024-09-06T00:00:00.000000000",
          "2024-09-06T00:00:00.000000000",
          "2024-09-07T00:00:00.000000000",
          "2024-09-07T00:00:00.000000000",
          "2024-09-07T00:00:00.000000000",
          "2024-09-07T00:00:00.000000000",
          "2024-09-07T00:00:00.000000000",
          "2024-09-07T00:00:00.000000000",
          "2024-09-07T00:00:00.000000000",
          "2024-09-07T00:00:00.000000000",
          "2024-09-08T00:00:00.000000000",
          "2024-09-08T00:00:00.000000000",
          "2024-09-08T00:00:00.000000000",
          "2024-09-08T00:00:00.000000000",
          "2024-09-08T00:00:00.000000000",
          "2024-09-09T00:00:00.000000000",
          "2024-09-09T00:00:00.000000000",
          "2024-09-09T00:00:00.000000000",
          "2024-09-09T00:00:00.000000000",
          "2024-09-09T00:00:00.000000000",
          "2024-09-09T00:00:00.000000000",
          "2024-09-09T00:00:00.000000000",
          "2024-09-10T00:00:00.000000000",
          "2024-09-10T00:00:00.000000000",
          "2024-09-10T00:00:00.000000000",
          "2024-09-10T00:00:00.000000000",
          "2024-09-11T00:00:00.000000000",
          "2024-09-11T00:00:00.000000000",
          "2024-09-11T00:00:00.000000000",
          "2024-09-11T00:00:00.000000000",
          "2024-09-12T00:00:00.000000000",
          "2024-09-12T00:00:00.000000000",
          "2024-09-12T00:00:00.000000000",
          "2024-09-12T00:00:00.000000000",
          "2024-09-12T00:00:00.000000000",
          "2024-09-13T00:00:00.000000000",
          "2024-09-13T00:00:00.000000000",
          "2024-09-13T00:00:00.000000000",
          "2024-09-13T00:00:00.000000000",
          "2024-09-13T00:00:00.000000000",
          "2024-09-13T00:00:00.000000000",
          "2024-09-13T00:00:00.000000000",
          "2024-09-13T00:00:00.000000000",
          "2024-09-13T00:00:00.000000000",
          "2024-09-13T00:00:00.000000000",
          "2024-09-13T00:00:00.000000000",
          "2024-09-14T00:00:00.000000000",
          "2024-09-14T00:00:00.000000000",
          "2024-09-15T00:00:00.000000000",
          "2024-09-15T00:00:00.000000000",
          "2024-09-15T00:00:00.000000000",
          "2024-09-15T00:00:00.000000000",
          "2024-09-15T00:00:00.000000000",
          "2024-09-15T00:00:00.000000000",
          "2024-09-15T00:00:00.000000000",
          "2024-09-16T00:00:00.000000000",
          "2024-09-16T00:00:00.000000000",
          "2024-09-16T00:00:00.000000000",
          "2024-09-16T00:00:00.000000000",
          "2024-09-17T00:00:00.000000000",
          "2024-09-17T00:00:00.000000000",
          "2024-09-17T00:00:00.000000000",
          "2024-09-17T00:00:00.000000000",
          "2024-09-17T00:00:00.000000000",
          "2024-09-17T00:00:00.000000000",
          "2024-09-17T00:00:00.000000000",
          "2024-09-17T00:00:00.000000000",
          "2024-09-17T00:00:00.000000000",
          "2024-09-17T00:00:00.000000000",
          "2024-09-18T00:00:00.000000000",
          "2024-09-18T00:00:00.000000000",
          "2024-09-18T00:00:00.000000000",
          "2024-09-18T00:00:00.000000000",
          "2024-09-18T00:00:00.000000000",
          "2024-09-18T00:00:00.000000000",
          "2024-09-18T00:00:00.000000000",
          "2024-09-18T00:00:00.000000000",
          "2024-09-19T00:00:00.000000000",
          "2024-09-19T00:00:00.000000000",
          "2024-09-20T00:00:00.000000000",
          "2024-09-21T00:00:00.000000000",
          "2024-09-22T00:00:00.000000000",
          "2024-09-22T00:00:00.000000000",
          "2024-09-23T00:00:00.000000000",
          "2024-09-24T00:00:00.000000000",
          "2024-09-24T00:00:00.000000000",
          "2024-09-25T00:00:00.000000000",
          "2024-09-25T00:00:00.000000000",
          "2024-09-26T00:00:00.000000000",
          "2024-09-26T00:00:00.000000000",
          "2024-09-26T00:00:00.000000000",
          "2024-09-27T00:00:00.000000000",
          "2024-09-27T00:00:00.000000000",
          "2024-10-02T00:00:00.000000000",
          "2024-10-02T00:00:00.000000000",
          "2024-10-02T00:00:00.000000000",
          "2024-10-03T00:00:00.000000000",
          "2024-10-04T00:00:00.000000000",
          "2024-10-05T00:00:00.000000000",
          "2024-10-07T00:00:00.000000000",
          "2024-10-08T00:00:00.000000000",
          "2024-10-09T00:00:00.000000000",
          "2024-10-12T00:00:00.000000000",
          "2024-10-14T00:00:00.000000000",
          "2024-10-17T00:00:00.000000000",
          "2024-10-17T00:00:00.000000000",
          "2024-10-22T00:00:00.000000000",
          "2024-10-22T00:00:00.000000000",
          "2024-10-23T00:00:00.000000000",
          "2024-10-24T00:00:00.000000000",
          "2024-10-29T00:00:00.000000000",
          "2024-11-01T00:00:00.000000000",
          "2024-11-02T00:00:00.000000000",
          "2024-11-02T00:00:00.000000000",
          "2024-11-03T00:00:00.000000000",
          "2024-11-07T00:00:00.000000000",
          "2024-11-08T00:00:00.000000000",
          "2024-11-09T00:00:00.000000000",
          "2024-11-09T00:00:00.000000000",
          "2024-11-13T00:00:00.000000000",
          "2024-11-13T00:00:00.000000000",
          "2024-11-14T00:00:00.000000000",
          "2024-11-14T00:00:00.000000000",
          "2024-11-14T00:00:00.000000000",
          "2024-11-15T00:00:00.000000000",
          "2024-11-15T00:00:00.000000000",
          "2024-11-16T00:00:00.000000000",
          "2024-11-17T00:00:00.000000000",
          "2024-11-20T00:00:00.000000000",
          "2024-11-22T00:00:00.000000000",
          "2024-11-23T00:00:00.000000000",
          "2024-11-25T00:00:00.000000000",
          "2024-11-25T00:00:00.000000000",
          "2024-11-27T00:00:00.000000000",
          "2024-11-27T00:00:00.000000000",
          "2024-11-29T00:00:00.000000000",
          "2024-12-03T00:00:00.000000000",
          "2024-12-03T00:00:00.000000000",
          "2024-12-03T00:00:00.000000000",
          "2024-12-03T00:00:00.000000000",
          "2024-12-05T00:00:00.000000000",
          "2024-12-07T00:00:00.000000000",
          "2024-12-10T00:00:00.000000000",
          "2024-12-11T00:00:00.000000000",
          "2024-12-13T00:00:00.000000000",
          "2024-12-15T00:00:00.000000000",
          "2024-12-16T00:00:00.000000000",
          "2024-12-18T00:00:00.000000000",
          "2024-12-18T00:00:00.000000000",
          "2024-12-19T00:00:00.000000000",
          "2024-12-19T00:00:00.000000000",
          "2024-12-21T00:00:00.000000000",
          "2024-12-24T00:00:00.000000000",
          "2024-12-25T00:00:00.000000000",
          "2024-12-26T00:00:00.000000000",
          "2024-12-26T00:00:00.000000000",
          "2024-12-26T00:00:00.000000000",
          "2024-12-26T00:00:00.000000000",
          "2024-12-27T00:00:00.000000000",
          "2024-12-30T00:00:00.000000000",
          "2024-12-30T00:00:00.000000000",
          "2024-12-31T00:00:00.000000000",
          "2025-01-02T00:00:00.000000000",
          "2025-01-02T00:00:00.000000000",
          "2025-01-03T00:00:00.000000000",
          "2025-01-04T00:00:00.000000000",
          "2025-01-05T00:00:00.000000000",
          "2025-01-06T00:00:00.000000000",
          "2025-01-07T00:00:00.000000000",
          "2025-01-08T00:00:00.000000000",
          "2025-01-09T00:00:00.000000000",
          "2025-01-12T00:00:00.000000000",
          "2025-01-13T00:00:00.000000000",
          "2025-01-13T00:00:00.000000000",
          "2025-01-14T00:00:00.000000000",
          "2025-01-17T00:00:00.000000000",
          "2025-01-17T00:00:00.000000000",
          "2025-01-17T00:00:00.000000000",
          "2025-01-20T00:00:00.000000000",
          "2025-01-21T00:00:00.000000000",
          "2025-01-21T00:00:00.000000000",
          "2025-01-25T00:00:00.000000000",
          "2025-01-25T00:00:00.000000000",
          "2025-01-25T00:00:00.000000000",
          "2025-01-25T00:00:00.000000000",
          "2025-01-25T00:00:00.000000000",
          "2025-01-27T00:00:00.000000000",
          "2025-01-28T00:00:00.000000000",
          "2025-01-29T00:00:00.000000000",
          "2025-01-29T00:00:00.000000000",
          "2025-01-29T00:00:00.000000000",
          "2025-01-30T00:00:00.000000000",
          "2025-01-30T00:00:00.000000000",
          "2025-01-31T00:00:00.000000000",
          "2025-01-31T00:00:00.000000000",
          "2025-02-01T00:00:00.000000000",
          "2025-02-02T00:00:00.000000000",
          "2025-02-02T00:00:00.000000000",
          "2025-02-05T00:00:00.000000000",
          "2025-02-05T00:00:00.000000000",
          "2025-02-07T00:00:00.000000000",
          "2025-02-07T00:00:00.000000000",
          "2025-02-08T00:00:00.000000000",
          "2025-02-12T00:00:00.000000000",
          "2025-02-13T00:00:00.000000000",
          "2025-02-14T00:00:00.000000000",
          "2025-02-15T00:00:00.000000000",
          "2025-02-16T00:00:00.000000000",
          "2025-02-17T00:00:00.000000000",
          "2025-02-19T00:00:00.000000000",
          "2025-02-20T00:00:00.000000000",
          "2025-02-20T00:00:00.000000000",
          "2025-02-20T00:00:00.000000000",
          "2025-02-20T00:00:00.000000000",
          "2025-02-20T00:00:00.000000000",
          "2025-02-25T00:00:00.000000000",
          "2025-02-28T00:00:00.000000000",
          "2025-03-01T00:00:00.000000000",
          "2025-03-01T00:00:00.000000000",
          "2025-03-01T00:00:00.000000000",
          "2025-03-02T00:00:00.000000000",
          "2025-03-02T00:00:00.000000000",
          "2025-03-02T00:00:00.000000000",
          "2025-03-02T00:00:00.000000000",
          "2025-03-05T00:00:00.000000000",
          "2025-03-05T00:00:00.000000000",
          "2025-03-05T00:00:00.000000000",
          "2025-03-07T00:00:00.000000000",
          "2025-03-07T00:00:00.000000000",
          "2025-03-12T00:00:00.000000000",
          "2025-03-12T00:00:00.000000000",
          "2025-03-12T00:00:00.000000000",
          "2025-03-13T00:00:00.000000000",
          "2025-03-14T00:00:00.000000000",
          "2025-03-17T00:00:00.000000000",
          "2025-03-20T00:00:00.000000000",
          "2025-03-22T00:00:00.000000000",
          "2025-03-22T00:00:00.000000000",
          "2025-03-24T00:00:00.000000000",
          "2025-03-26T00:00:00.000000000",
          "2025-03-28T00:00:00.000000000",
          "2025-03-29T00:00:00.000000000",
          "2025-03-29T00:00:00.000000000",
          "2025-04-01T00:00:00.000000000",
          "2025-04-01T00:00:00.000000000",
          "2025-04-04T00:00:00.000000000",
          "2025-04-04T00:00:00.000000000",
          "2025-04-04T00:00:00.000000000",
          "2025-04-05T00:00:00.000000000",
          "2025-04-05T00:00:00.000000000",
          "2025-04-05T00:00:00.000000000",
          "2025-04-06T00:00:00.000000000",
          "2025-04-06T00:00:00.000000000",
          "2025-04-06T00:00:00.000000000",
          "2025-04-07T00:00:00.000000000",
          "2025-04-08T00:00:00.000000000",
          "2025-04-09T00:00:00.000000000",
          "2025-04-12T00:00:00.000000000",
          "2025-04-12T00:00:00.000000000",
          "2025-04-12T00:00:00.000000000",
          "2025-04-12T00:00:00.000000000",
          "2025-04-12T00:00:00.000000000",
          "2025-04-13T00:00:00.000000000",
          "2025-04-14T00:00:00.000000000",
          "2025-04-16T00:00:00.000000000",
          "2025-04-17T00:00:00.000000000",
          "2025-04-19T00:00:00.000000000",
          "2025-04-22T00:00:00.000000000",
          "2025-04-23T00:00:00.000000000",
          "2025-04-26T00:00:00.000000000",
          "2025-04-27T00:00:00.000000000",
          "2025-04-28T00:00:00.000000000",
          "2025-04-29T00:00:00.000000000",
          "2025-04-29T00:00:00.000000000",
          "2025-05-02T00:00:00.000000000",
          "2025-05-04T00:00:00.000000000",
          "2025-05-04T00:00:00.000000000",
          "2025-05-06T00:00:00.000000000",
          "2025-05-09T00:00:00.000000000",
          "2025-05-10T00:00:00.000000000",
          "2025-05-14T00:00:00.000000000",
          "2025-05-17T00:00:00.000000000",
          "2025-05-20T00:00:00.000000000",
          "2025-05-21T00:00:00.000000000",
          "2025-05-21T00:00:00.000000000",
          "2025-05-22T00:00:00.000000000",
          "2025-05-27T00:00:00.000000000",
          "2025-05-29T00:00:00.000000000",
          "2025-05-29T00:00:00.000000000",
          "2025-05-29T00:00:00.000000000",
          "2025-05-31T00:00:00.000000000",
          "2025-06-01T00:00:00.000000000",
          "2025-06-02T00:00:00.000000000",
          "2025-06-03T00:00:00.000000000",
          "2025-06-05T00:00:00.000000000",
          "2025-06-05T00:00:00.000000000",
          "2025-06-11T00:00:00.000000000",
          "2025-06-12T00:00:00.000000000",
          "2025-06-16T00:00:00.000000000",
          "2025-06-20T00:00:00.000000000",
          "2025-06-20T00:00:00.000000000",
          "2025-06-20T00:00:00.000000000",
          "2025-06-22T00:00:00.000000000",
          "2025-06-22T00:00:00.000000000",
          "2025-06-22T00:00:00.000000000",
          "2025-06-26T00:00:00.000000000",
          "2025-06-27T00:00:00.000000000",
          "2025-07-05T00:00:00.000000000",
          "2025-07-05T00:00:00.000000000",
          "2025-07-06T00:00:00.000000000",
          "2025-07-10T00:00:00.000000000",
          "2025-07-14T00:00:00.000000000",
          "2025-07-17T00:00:00.000000000",
          "2025-07-18T00:00:00.000000000",
          "2025-07-23T00:00:00.000000000",
          "2025-07-25T00:00:00.000000000",
          "2025-07-27T00:00:00.000000000",
          "2025-07-31T00:00:00.000000000",
          "2025-07-31T00:00:00.000000000"
         ],
         "xaxis": "x",
         "y": {
          "bdata": "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",
          "dtype": "f8"
         },
         "yaxis": "y"
        }
       ],
       "layout": {
        "height": 500,
        "legend": {
         "bgcolor": "rgba(0,0,0,0.5)",
         "title": {
          "text": "Series"
         },
         "tracegroupgap": 0
        },
        "paper_bgcolor": "black",
        "plot_bgcolor": "black",
        "template": {
         "data": {
          "bar": [
           {
            "error_x": {
             "color": "#f2f5fa"
            },
            "error_y": {
             "color": "#f2f5fa"
            },
            "marker": {
             "line": {
              "color": "rgb(17,17,17)",
              "width": 0.5
             },
             "pattern": {
              "fillmode": "overlay",
              "size": 10,
              "solidity": 0.2
             }
            },
            "type": "bar"
           }
          ],
          "barpolar": [
           {
            "marker": {
             "line": {
              "color": "rgb(17,17,17)",
              "width": 0.5
             },
             "pattern": {
              "fillmode": "overlay",
              "size": 10,
              "solidity": 0.2
             }
            },
            "type": "barpolar"
           }
          ],
          "carpet": [
           {
            "aaxis": {
             "endlinecolor": "#A2B1C6",
             "gridcolor": "#506784",
             "linecolor": "#506784",
             "minorgridcolor": "#506784",
             "startlinecolor": "#A2B1C6"
            },
            "baxis": {
             "endlinecolor": "#A2B1C6",
             "gridcolor": "#506784",
             "linecolor": "#506784",
             "minorgridcolor": "#506784",
             "startlinecolor": "#A2B1C6"
            },
            "type": "carpet"
           }
          ],
          "choropleth": [
           {
            "colorbar": {
             "outlinewidth": 0,
             "ticks": ""
            },
            "type": "choropleth"
           }
          ],
          "contour": [
           {
            "colorbar": {
             "outlinewidth": 0,
             "ticks": ""
            },
            "colorscale": [
             [
              0,
              "#0d0887"
             ],
             [
              0.1111111111111111,
              "#46039f"
             ],
             [
              0.2222222222222222,
              "#7201a8"
             ],
             [
              0.3333333333333333,
              "#9c179e"
             ],
             [
              0.4444444444444444,
              "#bd3786"
             ],
             [
              0.5555555555555556,
              "#d8576b"
             ],
             [
              0.6666666666666666,
              "#ed7953"
             ],
             [
              0.7777777777777778,
              "#fb9f3a"
             ],
             [
              0.8888888888888888,
              "#fdca26"
             ],
             [
              1,
              "#f0f921"
             ]
            ],
            "type": "contour"
           }
          ],
          "contourcarpet": [
           {
            "colorbar": {
             "outlinewidth": 0,
             "ticks": ""
            },
            "type": "contourcarpet"
           }
          ],
          "heatmap": [
           {
            "colorbar": {
             "outlinewidth": 0,
             "ticks": ""
            },
            "colorscale": [
             [
              0,
              "#0d0887"
             ],
             [
              0.1111111111111111,
              "#46039f"
             ],
             [
              0.2222222222222222,
              "#7201a8"
             ],
             [
              0.3333333333333333,
              "#9c179e"
             ],
             [
              0.4444444444444444,
              "#bd3786"
             ],
             [
              0.5555555555555556,
              "#d8576b"
             ],
             [
              0.6666666666666666,
              "#ed7953"
             ],
             [
              0.7777777777777778,
              "#fb9f3a"
             ],
             [
              0.8888888888888888,
              "#fdca26"
             ],
             [
              1,
              "#f0f921"
             ]
            ],
            "type": "heatmap"
           }
          ],
          "histogram": [
           {
            "marker": {
             "pattern": {
              "fillmode": "overlay",
              "size": 10,
              "solidity": 0.2
             }
            },
            "type": "histogram"
           }
          ],
          "histogram2d": [
           {
            "colorbar": {
             "outlinewidth": 0,
             "ticks": ""
            },
            "colorscale": [
             [
              0,
              "#0d0887"
             ],
             [
              0.1111111111111111,
              "#46039f"
             ],
             [
              0.2222222222222222,
              "#7201a8"
             ],
             [
              0.3333333333333333,
              "#9c179e"
             ],
             [
              0.4444444444444444,
              "#bd3786"
             ],
             [
              0.5555555555555556,
              "#d8576b"
             ],
             [
              0.6666666666666666,
              "#ed7953"
             ],
             [
              0.7777777777777778,
              "#fb9f3a"
             ],
             [
              0.8888888888888888,
              "#fdca26"
             ],
             [
              1,
              "#f0f921"
             ]
            ],
            "type": "histogram2d"
           }
          ],
          "histogram2dcontour": [
           {
            "colorbar": {
             "outlinewidth": 0,
             "ticks": ""
            },
            "colorscale": [
             [
              0,
              "#0d0887"
             ],
             [
              0.1111111111111111,
              "#46039f"
             ],
             [
              0.2222222222222222,
              "#7201a8"
             ],
             [
              0.3333333333333333,
              "#9c179e"
             ],
             [
              0.4444444444444444,
              "#bd3786"
             ],
             [
              0.5555555555555556,
              "#d8576b"
             ],
             [
              0.6666666666666666,
              "#ed7953"
             ],
             [
              0.7777777777777778,
              "#fb9f3a"
             ],
             [
              0.8888888888888888,
              "#fdca26"
             ],
             [
              1,
              "#f0f921"
             ]
            ],
            "type": "histogram2dcontour"
           }
          ],
          "mesh3d": [
           {
            "colorbar": {
             "outlinewidth": 0,
             "ticks": ""
            },
            "type": "mesh3d"
           }
          ],
          "parcoords": [
           {
            "line": {
             "colorbar": {
              "outlinewidth": 0,
              "ticks": ""
             }
            },
            "type": "parcoords"
           }
          ],
          "pie": [
           {
            "automargin": true,
            "type": "pie"
           }
          ],
          "scatter": [
           {
            "marker": {
             "line": {
              "color": "#283442"
             }
            },
            "type": "scatter"
           }
          ],
          "scatter3d": [
           {
            "line": {
             "colorbar": {
              "outlinewidth": 0,
              "ticks": ""
             }
            },
            "marker": {
             "colorbar": {
              "outlinewidth": 0,
              "ticks": ""
             }
            },
            "type": "scatter3d"
           }
          ],
          "scattercarpet": [
           {
            "marker": {
             "colorbar": {
              "outlinewidth": 0,
              "ticks": ""
             }
            },
            "type": "scattercarpet"
           }
          ],
          "scattergeo": [
           {
            "marker": {
             "colorbar": {
              "outlinewidth": 0,
              "ticks": ""
             }
            },
            "type": "scattergeo"
           }
          ],
          "scattergl": [
           {
            "marker": {
             "line": {
              "color": "#283442"
             }
            },
            "type": "scattergl"
           }
          ],
          "scattermap": [
           {
            "marker": {
             "colorbar": {
              "outlinewidth": 0,
              "ticks": ""
             }
            },
            "type": "scattermap"
           }
          ],
          "scattermapbox": [
           {
            "marker": {
             "colorbar": {
              "outlinewidth": 0,
              "ticks": ""
             }
            },
            "type": "scattermapbox"
           }
          ],
          "scatterpolar": [
           {
            "marker": {
             "colorbar": {
              "outlinewidth": 0,
              "ticks": ""
             }
            },
            "type": "scatterpolar"
           }
          ],
          "scatterpolargl": [
           {
            "marker": {
             "colorbar": {
              "outlinewidth": 0,
              "ticks": ""
             }
            },
            "type": "scatterpolargl"
           }
          ],
          "scatterternary": [
           {
            "marker": {
             "colorbar": {
              "outlinewidth": 0,
              "ticks": ""
             }
            },
            "type": "scatterternary"
           }
          ],
          "surface": [
           {
            "colorbar": {
             "outlinewidth": 0,
             "ticks": ""
            },
            "colorscale": [
             [
              0,
              "#0d0887"
             ],
             [
              0.1111111111111111,
              "#46039f"
             ],
             [
              0.2222222222222222,
              "#7201a8"
             ],
             [
              0.3333333333333333,
              "#9c179e"
             ],
             [
              0.4444444444444444,
              "#bd3786"
             ],
             [
              0.5555555555555556,
              "#d8576b"
             ],
             [
              0.6666666666666666,
              "#ed7953"
             ],
             [
              0.7777777777777778,
              "#fb9f3a"
             ],
             [
              0.8888888888888888,
              "#fdca26"
             ],
             [
              1,
              "#f0f921"
             ]
            ],
            "type": "surface"
           }
          ],
          "table": [
           {
            "cells": {
             "fill": {
              "color": "#506784"
             },
             "line": {
              "color": "rgb(17,17,17)"
             }
            },
            "header": {
             "fill": {
              "color": "#2a3f5f"
             },
             "line": {
              "color": "rgb(17,17,17)"
             }
            },
            "type": "table"
           }
          ]
         },
         "layout": {
          "annotationdefaults": {
           "arrowcolor": "#f2f5fa",
           "arrowhead": 0,
           "arrowwidth": 1
          },
          "autotypenumbers": "strict",
          "coloraxis": {
           "colorbar": {
            "outlinewidth": 0,
            "ticks": ""
           }
          },
          "colorscale": {
           "diverging": [
            [
             0,
             "#8e0152"
            ],
            [
             0.1,
             "#c51b7d"
            ],
            [
             0.2,
             "#de77ae"
            ],
            [
             0.3,
             "#f1b6da"
            ],
            [
             0.4,
             "#fde0ef"
            ],
            [
             0.5,
             "#f7f7f7"
            ],
            [
             0.6,
             "#e6f5d0"
            ],
            [
             0.7,
             "#b8e186"
            ],
            [
             0.8,
             "#7fbc41"
            ],
            [
             0.9,
             "#4d9221"
            ],
            [
             1,
             "#276419"
            ]
           ],
           "sequential": [
            [
             0,
             "#0d0887"
            ],
            [
             0.1111111111111111,
             "#46039f"
            ],
            [
             0.2222222222222222,
             "#7201a8"
            ],
            [
             0.3333333333333333,
             "#9c179e"
            ],
            [
             0.4444444444444444,
             "#bd3786"
            ],
            [
             0.5555555555555556,
             "#d8576b"
            ],
            [
             0.6666666666666666,
             "#ed7953"
            ],
            [
             0.7777777777777778,
             "#fb9f3a"
            ],
            [
             0.8888888888888888,
             "#fdca26"
            ],
            [
             1,
             "#f0f921"
            ]
           ],
           "sequentialminus": [
            [
             0,
             "#0d0887"
            ],
            [
             0.1111111111111111,
             "#46039f"
            ],
            [
             0.2222222222222222,
             "#7201a8"
            ],
            [
             0.3333333333333333,
             "#9c179e"
            ],
            [
             0.4444444444444444,
             "#bd3786"
            ],
            [
             0.5555555555555556,
             "#d8576b"
            ],
            [
             0.6666666666666666,
             "#ed7953"
            ],
            [
             0.7777777777777778,
             "#fb9f3a"
            ],
            [
             0.8888888888888888,
             "#fdca26"
            ],
            [
             1,
             "#f0f921"
            ]
           ]
          },
          "colorway": [
           "#636efa",
           "#EF553B",
           "#00cc96",
           "#ab63fa",
           "#FFA15A",
           "#19d3f3",
           "#FF6692",
           "#B6E880",
           "#FF97FF",
           "#FECB52"
          ],
          "font": {
           "color": "#f2f5fa"
          },
          "geo": {
           "bgcolor": "rgb(17,17,17)",
           "lakecolor": "rgb(17,17,17)",
           "landcolor": "rgb(17,17,17)",
           "showlakes": true,
           "showland": true,
           "subunitcolor": "#506784"
          },
          "hoverlabel": {
           "align": "left"
          },
          "hovermode": "closest",
          "mapbox": {
           "style": "dark"
          },
          "paper_bgcolor": "rgb(17,17,17)",
          "plot_bgcolor": "rgb(17,17,17)",
          "polar": {
           "angularaxis": {
            "gridcolor": "#506784",
            "linecolor": "#506784",
            "ticks": ""
           },
           "bgcolor": "rgb(17,17,17)",
           "radialaxis": {
            "gridcolor": "#506784",
            "linecolor": "#506784",
            "ticks": ""
           }
          },
          "scene": {
           "xaxis": {
            "backgroundcolor": "rgb(17,17,17)",
            "gridcolor": "#506784",
            "gridwidth": 2,
            "linecolor": "#506784",
            "showbackground": true,
            "ticks": "",
            "zerolinecolor": "#C8D4E3"
           },
           "yaxis": {
            "backgroundcolor": "rgb(17,17,17)",
            "gridcolor": "#506784",
            "gridwidth": 2,
            "linecolor": "#506784",
            "showbackground": true,
            "ticks": "",
            "zerolinecolor": "#C8D4E3"
           },
           "zaxis": {
            "backgroundcolor": "rgb(17,17,17)",
            "gridcolor": "#506784",
            "gridwidth": 2,
            "linecolor": "#506784",
            "showbackground": true,
            "ticks": "",
            "zerolinecolor": "#C8D4E3"
           }
          },
          "shapedefaults": {
           "line": {
            "color": "#f2f5fa"
           }
          },
          "sliderdefaults": {
           "bgcolor": "#C8D4E3",
           "bordercolor": "rgb(17,17,17)",
           "borderwidth": 1,
           "tickwidth": 0
          },
          "ternary": {
           "aaxis": {
            "gridcolor": "#506784",
            "linecolor": "#506784",
            "ticks": ""
           },
           "baxis": {
            "gridcolor": "#506784",
            "linecolor": "#506784",
            "ticks": ""
           },
           "bgcolor": "rgb(17,17,17)",
           "caxis": {
            "gridcolor": "#506784",
            "linecolor": "#506784",
            "ticks": ""
           }
          },
          "title": {
           "x": 0.05
          },
          "updatemenudefaults": {
           "bgcolor": "#506784",
           "borderwidth": 0
          },
          "xaxis": {
           "automargin": true,
           "gridcolor": "#283442",
           "linecolor": "#506784",
           "ticks": "",
           "title": {
            "standoff": 15
           },
           "zerolinecolor": "#283442",
           "zerolinewidth": 2
          },
          "yaxis": {
           "automargin": true,
           "gridcolor": "#283442",
           "linecolor": "#506784",
           "ticks": "",
           "title": {
            "standoff": 15
           },
           "zerolinecolor": "#283442",
           "zerolinewidth": 2
          }
         }
        },
        "title": {
         "text": "Actual vs. Predicted Compliance Rate Over Time"
        },
        "xaxis": {
         "anchor": "y",
         "domain": [
          0,
          1
         ],
         "title": {
          "text": "date"
         }
        },
        "yaxis": {
         "anchor": "x",
         "domain": [
          0,
          1
         ],
         "title": {
          "text": "Compliance Rate"
         }
        }
       }
      },
      "image/png": "[encoded data removed]"
     },
     "metadata": {},
     "output_type": "display_data"
    },
    {
     "data": {
      "application/vnd.plotly.v1+json": {
       "config": {
        "plotlyServerURL": "https://plot.ly"
       },
       "data": [
        {
         "hovertemplate": "Actual=%{x}<br>Predicted=%{y}<extra></extra>",
         "legendgroup": "",
         "marker": {
          "color": "rgb(0,0,131)",
          "opacity": 0.7,
          "symbol": "circle"
         },
         "mode": "markers",
         "name": "",
         "orientation": "v",
         "showlegend": false,
         "type": "scatter",
         "x": {
          "bdata": "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",
          "dtype": "f8"
         },
         "xaxis": "x",
         "y": {
          "bdata": "AAAAAAAA8D8AAAAAAAAAAEYk5tA3eFA/AAAAAAAA8D8AAAAAAAAAAGSA0oM5nNs/AAAAAAAA8D8AAAAAAADwPxe5n6rQg2I/AAAAAAAA8D8hZLfmKKRUPwAAAAAAAPA/YWJ0WECDnz8AAAAAAAAAAAAAAAAAAAAANt2t9iTXdT++zy3kqwjvP22LQMWO+O8/AAAAAAAA8D8AAAAAAADwPxe5n6rQg2I/HDs0+Ip7YT+mJ62LlN6DPwAAAAAAAPA/kCDLcZyNUT8AAAAAAADwPwAAAAAAAPA/Gtq7Z8JF4D9E0lnPctfuP5zhNiLmNU8/7lotn/UPlj8AAAAAAADwPwAAAAAAAPA/AAAAAAAA8D8AAAAAAADwP0ROF/Qr1ks/YKAVZ6r87z8MbIxVbjxHP6j9rfeD++8/AAAAAAAA8D9otgUlwPrvP+jdg9jWRkI/TIefx8i97z8AAAAAAADwPwAAAAAAAPA/102yr7fgcz8AAAAAAAAAAAAAAAAAAPA/AAAAAAAA8D+iIsqp5WF4PwAAAAAAAPA/AAAAAAAA8D9VcoUDloZ2PwQD+5bY1O8/SvXciXTC7z9oJf0f8V5YPwAAAAAAAAAAAAAAAAAA8D8AAAAAAADwP9ZTOuIA6+A/JNCY7CnZ6D8AAAAAAAAAAHFWV7G49uY/94kxsrBx7j8AAAAAAAAAAAAAAAAAAAAAEyDzPgMo4T8AAAAAAAAAAAAAAAAAAPA/Bl4Xd3Ah4D8r9H05zGxuP+Yri4q4vOk/AAAAAAAA8D/TB00sFyDgP2bO2XlkNHU/AAAAAAAA8D8x8qtkJ+DvP37oYGhneu4/nUj9+JTg7z8OIIlHi3vuP4kVD8X2MF4/AAAAAAAA8D8AAAAAAAAAAODG38tNMVs/MG9rdge9JD/h1cI6/K3vPwAAAAAAAAAAcDHz7xzL7z8AAAAAAAAAAAAAAAAAAPA/AAAAAAAA8D+m+BJaWKroP7NbdlYX+e8/mKxAf62A7D8AAAAAAADwPyKEm13fJHo/AAAAAAAAAAAAAAAAAADwP4pPt4bL6e8/AAAAAAAAAAAAAAAAAADwP5Y691V1ae8/AAAAAAAA8D98iK0/zghjP1NiIlOGJnA/M6BNybB07z+s0e0VeA18PyYKFn05ae8/AAAAAAAA8D9h8CxBvh/vP26d1AnuRlM/AAAAAAAA8D8AAAAAAAAAAAAAAAAAAPA/AAAAAAAAAABXCnAygfPvPwAAAAAAAAAAAAAAAAAAAABweSaKUhyJPwAAAAAAAPA/AAAAAAAA8D/LHeykT3HjPwAAAAAAAPA/AAAAAAAA8D/ssIdWVHRJP+Sl1mku9+8/AAAAAAAAAADzXeVEhG6EPwAAAAAAAPA/AAAAAAAAAAAAAAAAAAAAAAAAAAAAAAAAAAAAAAAA8D8y29bxDsdcPwAAAAAAAPA//qcn/bj1RT8AAAAAAADwP/6nJ/249UU/AAAAAAAA8D+LkK1mJf7vPwAAAAAAAPA/n1pv8qpt7T8AAAAAAADwPwAAAAAAAPA/s1SRUNr57z8AAAAAAAAAAAAAAAAAAAAAAAAAAAAAAAAPV5RtkHjjPwAAAAAAAPA/s1SRUNr57z8AAAAAAAAAAExaYt6XieM/TyadwI2M7z9lpM/zOtZIPwAAAAAAAPA/Unnc/qU87z8MuJnE7jjvPwAAAAAAAAAAAAAAAAAAAADQ1iIJA9VxPwAAAAAAAPA/AAAAAAAA8D8AAAAAAAAAAF2pg4YBAXE/BcYKky//7j8AAAAAAAAAAHT8DqV0tkY/glbm3beX4j8AAAAAAAAAAO78IR/FDmE/AAAAAAAAAAAAAAAAAADwPwAAAAAAAAAAgiSo9IDl7z9P0zdLQKlRP5GuNqa+Au8/d+S/+3Ob7z8B60EIo9XvP5UZ6tQIru8/YkRw6u7i7z8AAAAAAAAAANYFFTsssOQ/DCgSWdHT6D8AAAAAAAAAALfml7Dt5+0/AAAAAAAAAAAAAAAAAAAAAJ5aJKyoYO8/AAAAAAAAAADhkYtA8N7vPyURoAdp+2A/AAAAAAAAAACyf0hMxQjnPwAAAAAAAPA/qtnqDeH1XT8AAAAAAADwP01MDtzqyuI/AAAAAAAA8D/jSJvKujvgP5b3TzJc6k8/tX21FdTx7z8gWKfb55FOPwAAAAAAAAAAM2AuqKIV4D+4zGaNV19LPxR2hcWHwe4/AAAAAAAAAAAAAAAAAADwPwAAAAAAAPA/ogILaMa+Xz8/+NmOPFPvP0sAth8mFe8/AAAAAAAAAABy5nkilKl3PwAAAAAAAPA/eugrC5dA7j8xFekiZBXgP2CsLGUp3WU/AAAAAAAAAAA2FGq345nfPwAAAAAAAAAAAAAAAAAAAAD68g5piZFuP0Qm39bZ+u8/AAAAAAAAAAAAAAAAAADwPwAAAAAAAPA/M6p+0YiH3z+TrynBbTtePwAAAAAAAAAAnurOPuG77j/SxkdM4rHgPwAAAAAAAPA/26PAy7DC7z8+T6xK26ZYPyKSubFPru8/KcxJRCtO4D/4UaZ1ZVrgP5+olQaXX+A/vq3mqHYd4D+owxB+jWrtP62jKAKTLeA/2uDiRkTi7z8AAAAAAAAAAB7WO4u5x+8/MG8rA3Ff4T8OmrSr1fvfP2ZGkHG5LuA/V0FnaFb87z9jJI/kgjXfP1dBZ2hW/O8/bpWZA3ra7z+nN5uhAPvvPwAAAAAAAPA/AAAAAAAA8D+1jKad9+HmPyyx+gQTluo/aRaJQ9e+5z/cqZj+FsbfPwAAAAAAAAAAqbaS0Ln73z8AAAAAAADwP8HyCQxfoO8/6OLeOMtP4z8KIveYI83tPwAAAAAAAAAArgWT2mLe7T+zUErFXuTvP64Fk9pi3u0/cEHpfDzZ7j94YLcGIO7vP2+F/9r69e8/AAAAAAAA8D/SjTKD8MblP4Bd+OvsVe0/Ra833Iph3z+4G/Y9bPDvP87tgEE0lO0/cDlkgcgK5T9CP6p7AN/vP/pEKZDsM98/3A8g3v7X7z83aMff4eDsP4vfcVPaeOA/Ld5U2H3m7z9mQnna97ztP7gM8c2uxuU/qj6HdUbM4D+qPod1RszgP79pVhSYkO8/F3Jeu7Nj7z8uCiPzCIrvP6hJTzaE2N8/Lgoj8wiK7z80kANi/jPgPzEV6SJkFeA/KIfKmLM04D+c75ozHCbZP9oUFG8MweA/skJpX9Hx4j+zqTbdWxTgP2t5IGJ6N+A/AAAAAAAA8D8AAAAAAAAAAJG100rkCeA/s1BKxV7k7z/t7oH5sHviP8iwBCPcEeA/AAAAAAAA8D89jVDlRyPgP/abQbXE/+k/Oyso2Dx64z8XSIdmVO3vPwAAAAAAAPA/AAAAAAAAAAAAAAAAAADwP3q7kN+vGuA/BN9B/Ia97z+evaa2iO7vP47RpQkr8O0/AAAAAAAA8D+ZRwvXPPPvP83aJwb+r+8/AAAAAAAAAAD73QKmgAPnP67Er39xzu4/yNFzDecb6T8jV9nIO3LtPwAAAAAAAPA/EKFDs7if7z8AAAAAAAAAAIOLg650/O8/Kvqrnx3v7z9mRpBxuS7gP1dBZ2hW/O8/7pL7wv7p4T8TRFTNKpvgPwatDhnpHeA/kqRsTw/Faj/P+eUOevbgPwAAAAAAAPA/vbO3n5Ii4D/CtgmgCATvP+aDYvDPT+A/AAAAAAAA8D+1jKad9+HmPwAAAAAAAPA/aRaJQ9e+5z/cqZj+FsbfP02ImHag+e8/8RFCM+kv7z9KCQWOmbPgPykPTSB3C+A/AAAAAAAAAABtM7j4wlPgPwAAAAAAAAAAJ3noQVTo7z8AAAAAAADwPwAAAAAAAPA/RUm1ra/63z8AAAAAAADwPwAAAAAAAPA/F4EmmcMO4D8XgSaZww7gPyFZnEjSBOA/fnMuk/T27z+UzzY/IzPhP40XVOhzROA/tfLRVJNc4z9An/iigwzgPwAAAAAAAPA/ajwOxiDW6D/+k9nhczPfP4V7u55e9u8/Rs4fBjc04T9PLf8y5FvuPyQA0tacDlQ/JsEl9Rvq3z+gNkoCxZTjP3xeuXUA398/+UFgEqoN4D/wSXUquAbgPwAAAAAAAPA/VgtNvYop3z/4O//um1jgP8iokNTvUd8/a7V6G8b17z8AAAAAAADwP5ms0hlzEuA/sMZXVsDv3T91xq78WTDgPwAAAAAAAPA/AAAAAAAA8D8AAAAAAADwPwAAAAAAAPA/AAAAAAAA8D+2RZgif0bvP91onFoRsOI/+Pkqw2nL3z8iVw6nMovgPyLGZ9PkFuA/5CpcTmoN4D/kKlxOag3gPwAAAAAAAAAAXd5mvukq4D9tM7j4wlPgP+UwYIeWDu4/03ZPaR0+4D/OFeSkWPPgP7pt1pt3Z+A/8wEpUpat7j8hWZxI0gTgP7x1Lttgzd8/lzXoCj4W4D8AAAAAAAAAAMi0U+/U/u8/AAAAAAAA8D9ydaHmyWDtP/rglnPM+t8/iHujwK7o7z9ykRxYER3gPwAAAAAAAAAA6G1oGn0u4D8Om+jQowPgP2JNejCjSOA/P9uPSFYi4D8Om+jQowPgP5joCYkC6O0/r/nTpX1D4D+h9qyOuNDvP/MeT5xY/O8/iQzMXdmy7z83JoGOf1DnP9AjjgjqD+A/0COOCOoP4D/QI44I6g/gP9AjjgjqD+A/0COOCOoP4D8AAAAAAADwP8zbAAI8JeA/5CpcTmoN4D8AAAAAAADwP0oSPirUzO8/F4EmmcMO4D9FSbWtr/rfPxeBJpnDDuA/LbbEHycM4D8AAAAAAADwP/WvPQACr+w/3JIoMGQy4D8AAAAAAAAAAAAAAAAAAPA/AAAAAAAAAAAAAAAAAADwP/xkDgWLD+A//pPZ4XMz3z/p/QOVNFPsPwAAAAAAAPA/NZlwqyno5T8+vrA82fjvP8i0U+/U/u8/HIjqgp/07z/65V0WVn3gP/lBYBKqDeA/8GORhQyG4T9Nl2RoQwXuP/8mYgJqiO8/GOMGFkkE6T8ePSxWPdfvP5+0Q3rvweA/AAAAAAAAAABnQSNhq6LgPwAAAAAAAPA/9KE5XEeB7j8AAAAAAAAAAAAAAAAAAAAAAAAAAAAAAACFe7ueXvbvPwAAAAAAAAAAAAAAAAAAAAA+HiMOhffvP5l7sY2rwe8/AAAAAAAA8D8AAAAAAADwP4HdD50t/u8/AAAAAAAAAABirwyu7ZpFPwAAAAAAAPA/AAAAAAAAAAAAAAAAAADwP8jvAW8R2DA/uOZLkadQ6j8AAAAAAADwPwAAAAAAAPA/Yq8Mru2aRT+XCCtLlbTvPysqD3HoTYg/AAAAAAAA8D9GxM9QMwJNPwAAAAAAAAAAAAAAAAAAAAAAAAAAAADwP3QaGLButZI/M8lhthzw7D9y8tlOvClfPwAAAAAAAPA/AAAAAAAA8D9qfIHO0v/tPwAAAAAAAAAAo90/+I0BQz+/+/pAuoxxP+fykzxs/O8/TguMjk6Q5T9IB6cD8P3jP938XuMgC0g/AAAAAAAA8D8AAAAAAADwPwAAAAAAAPA/AJ4ESkfo8D4AAAAAAADwP0qKGmS8k2k/AAAAAAAA8D8AAAAAAADwPwAAAAAAAAAAInLl3x0ccj+A1IeSm3YoP4II9r7qikU/AAAAAAAA8D8AAAAAAAAAAOhkRQ14iSU/AAAAAAAA8D8n53fWZf3vP+BILDZJ4mI/AAAAAAAA8D8AAAAAAADwP8Lk3w9fckM/AAAAAAAAAAAAAAAAAAAAAAAAAAAAAPA/G3bd179LVD+upHHYeeruPwAAAAAAAPA/zGSyUkyE7z8AAAAAAADwPwAAAAAAAPA/zcthPHXu7z8AAAAAAAAAAAAAAAAAAPA/hiXCpv+5Zj+ouRiKTLdVP8MAkjjEfu8/AAAAAAAA8D8UBKnNFrJDP7MlboNdc24/AAAAAAAAAADvaHU4LrVyPzBOYJXZr+8/AAAAAAAA8D8Xdw8N9ElQPwAAAAAAAAAAwOoY537r7z84J7KbX/LvPwAAAAAAAAAAAAAAAAAA8D8AAAAAAADwP9GLrpfcEk4/AAAAAAAAAAAAAAAAAAAAAAAAAAAAAPA/AAAAAAAAAAAAAAAAAAAAAACm2aQxxC4/AAAAAAAAAAAAAAAAAADwP48MAgbs8u8/AAAAAAAA8D/o9cYah/TvPwAAAAAAAPA/XWa95bwcYD/Ri66X3BJOP5Fh/KArAGw/elBik39a4T9/Mc8NlvZoP7Fsfe+OxO8/Dq/3JF3yND+Y9qZJvrUoP/GHdVFG6Oc/AAAAAAAAAAC+9ppT3MjvP0EGkJ9m4e8/DNPKLk7z7z/A73KYEzc0PwAAAAAAAPA/AAAAAAAAAADf7Ahq8I/vPwAAAAAAAAAAuvtX4M3w7z8me+Gzg+PvPwAAAAAAAPA/AAAAAAAA8D8AAAAAAAAAAAAAAAAAAAAAfj+5Y89IgT8AAAAAAAAAAGAaZaOvj1U/AAAAAAAAAADVeiqj8vruPwAAAAAAAAAAAAAAAAAAAAD5qPcOjeLvPzV6NjRq2u8/1ALxPmeGUz/2CgNV+9DvP93NFhhE6e8/AAAAAAAA8D8AAAAAAADwPwAAAAAAAAAAO/zhFSPm7z8AAAAAAADwP3Ux79iJc0A/AAAAAAAA8D8AAAAAAADwPwAAAAAAAPA/VcPeWKv47z/skm64BCBEPwAAAAAAAPA/AAAAAAAA8D8nNdMcDPjvP/T7fdSpATY/AAAAAAAA8D/N+mS76/jvPwAAAAAAAPA/5IJFGYjrQj8hvObxvPJFPxmexLlV1TM/tkEd/M7dSj8s12KifstLPwAAAAAAAAAAAAAAAAAA8D/CLvs1R8FjP4Av6hCu0u8/AAAAAAAAAAD9Ll4vDFZsPwAAAAAAAAAAAAAAAAAA8D8AAAAAAADwPwAAAAAAAPA/shk1gdrw7z8AAAAAAAAAANTdTq2jXlg/DE3SzkLg7z8AAAAAAAAAAAAAAAAAAPA/qG5PTYvMaz8AAAAAAAAAAAAAAAAAAAAAaCmQnghu7z8AAAAAAADwP+0AdHaR5O8/E9M84OGM7z8AAAAAAAAAAM92miR7Wu8/AAAAAAAA8D8AAAAAAADwPwAAAAAAAPA/AzcL2Rjt7z+eSZxbyvjvP7xO30xg9e8/xmF86/r37z8AAAAAAAAAALB7dMHMGEY/Wr2/GiF4Pj9I7rFEH9BrP+tDMzgk9O8/AAAAAAAA8D/TWgh91dTgP4G2j5luz3M/8C4bnt7PNj8AAAAAAAAAAAAAAAAAAAAAAAAAAAAA8D8AAAAAAADwPwAAAAAAAAAAiFBBUHYIOz8AAAAAAADwPwAAAAAAAPA/AAAAAAAAAAAAAAAAAADwPwQ0h5y8/+8/AAAAAAAA8D9GQgf/s33vPwAAAAAAAPA/S2VUDYPR7z8AAAAAAAAAAAAAAAAAAAAAAAAAAAAAAAAAAAAAAAAAAAAAAAAAAAAAAAAAAAAA8D/WWc3VX//vPwDOxhTbbME/yJie6YhiYz8AAAAAAADwPxqB5122XVQ/IOibu+MJ7z/Why7i3fDvPwAAAAAAAPA/eJS8W3+ATD9ZYAg59K7vP1xdYesA+e8/AAAAAAAAAAAAAAAAAAAAAA==",
          "dtype": "f8"
         },
         "yaxis": "y"
        },
        {
         "line": {
          "color": "white",
          "dash": "dash"
         },
         "mode": "lines",
         "name": "y = x",
         "type": "scatter",
         "x": [
          0,
          1
         ],
         "y": [
          0,
          1
         ]
        },
        {
         "line": {
          "color": "cyan",
          "width": 2
         },
         "mode": "lines",
         "name": "Regression fit",
         "type": "scatter",
         "x": {
          "bdata": "AAAAAAAAAAAAAAAAAADwPw==",
          "dtype": "f8"
         },
         "y": {
          "bdata": "sl0Uc/8Fkj+JAhcUzKfvPw==",
          "dtype": "f8"
         }
        }
       ],
       "layout": {
        "height": 500,
        "legend": {
         "tracegroupgap": 0
        },
        "paper_bgcolor": "black",
        "plot_bgcolor": "black",
        "template": {
         "data": {
          "bar": [
           {
            "error_x": {
             "color": "#f2f5fa"
            },
            "error_y": {
             "color": "#f2f5fa"
            },
            "marker": {
             "line": {
              "color": "rgb(17,17,17)",
              "width": 0.5
             },
             "pattern": {
              "fillmode": "overlay",
              "size": 10,
              "solidity": 0.2
             }
            },
            "type": "bar"
           }
          ],
          "barpolar": [
           {
            "marker": {
             "line": {
              "color": "rgb(17,17,17)",
              "width": 0.5
             },
             "pattern": {
              "fillmode": "overlay",
              "size": 10,
              "solidity": 0.2
             }
            },
            "type": "barpolar"
           }
          ],
          "carpet": [
           {
            "aaxis": {
             "endlinecolor": "#A2B1C6",
             "gridcolor": "#506784",
             "linecolor": "#506784",
             "minorgridcolor": "#506784",
             "startlinecolor": "#A2B1C6"
            },
            "baxis": {
             "endlinecolor": "#A2B1C6",
             "gridcolor": "#506784",
             "linecolor": "#506784",
             "minorgridcolor": "#506784",
             "startlinecolor": "#A2B1C6"
            },
            "type": "carpet"
           }
          ],
          "choropleth": [
           {
            "colorbar": {
             "outlinewidth": 0,
             "ticks": ""
            },
            "type": "choropleth"
           }
          ],
          "contour": [
           {
            "colorbar": {
             "outlinewidth": 0,
             "ticks": ""
            },
            "colorscale": [
             [
              0,
              "#0d0887"
             ],
             [
              0.1111111111111111,
              "#46039f"
             ],
             [
              0.2222222222222222,
              "#7201a8"
             ],
             [
              0.3333333333333333,
              "#9c179e"
             ],
             [
              0.4444444444444444,
              "#bd3786"
             ],
             [
              0.5555555555555556,
              "#d8576b"
             ],
             [
              0.6666666666666666,
              "#ed7953"
             ],
             [
              0.7777777777777778,
              "#fb9f3a"
             ],
             [
              0.8888888888888888,
              "#fdca26"
             ],
             [
              1,
              "#f0f921"
             ]
            ],
            "type": "contour"
           }
          ],
          "contourcarpet": [
           {
            "colorbar": {
             "outlinewidth": 0,
             "ticks": ""
            },
            "type": "contourcarpet"
           }
          ],
          "heatmap": [
           {
            "colorbar": {
             "outlinewidth": 0,
             "ticks": ""
            },
            "colorscale": [
             [
              0,
              "#0d0887"
             ],
             [
              0.1111111111111111,
              "#46039f"
             ],
             [
              0.2222222222222222,
              "#7201a8"
             ],
             [
              0.3333333333333333,
              "#9c179e"
             ],
             [
              0.4444444444444444,
              "#bd3786"
             ],
             [
              0.5555555555555556,
              "#d8576b"
             ],
             [
              0.6666666666666666,
              "#ed7953"
             ],
             [
              0.7777777777777778,
              "#fb9f3a"
             ],
             [
              0.8888888888888888,
              "#fdca26"
             ],
             [
              1,
              "#f0f921"
             ]
            ],
            "type": "heatmap"
           }
          ],
          "histogram": [
           {
            "marker": {
             "pattern": {
              "fillmode": "overlay",
              "size": 10,
              "solidity": 0.2
             }
            },
            "type": "histogram"
           }
          ],
          "histogram2d": [
           {
            "colorbar": {
             "outlinewidth": 0,
             "ticks": ""
            },
            "colorscale": [
             [
              0,
              "#0d0887"
             ],
             [
              0.1111111111111111,
              "#46039f"
             ],
             [
              0.2222222222222222,
              "#7201a8"
             ],
             [
              0.3333333333333333,
              "#9c179e"
             ],
             [
              0.4444444444444444,
              "#bd3786"
             ],
             [
              0.5555555555555556,
              "#d8576b"
             ],
             [
              0.6666666666666666,
              "#ed7953"
             ],
             [
              0.7777777777777778,
              "#fb9f3a"
             ],
             [
              0.8888888888888888,
              "#fdca26"
             ],
             [
              1,
              "#f0f921"
             ]
            ],
            "type": "histogram2d"
           }
          ],
          "histogram2dcontour": [
           {
            "colorbar": {
             "outlinewidth": 0,
             "ticks": ""
            },
            "colorscale": [
             [
              0,
              "#0d0887"
             ],
             [
              0.1111111111111111,
              "#46039f"
             ],
             [
              0.2222222222222222,
              "#7201a8"
             ],
             [
              0.3333333333333333,
              "#9c179e"
             ],
             [
              0.4444444444444444,
              "#bd3786"
             ],
             [
              0.5555555555555556,
              "#d8576b"
             ],
             [
              0.6666666666666666,
              "#ed7953"
             ],
             [
              0.7777777777777778,
              "#fb9f3a"
             ],
             [
              0.8888888888888888,
              "#fdca26"
             ],
             [
              1,
              "#f0f921"
             ]
            ],
            "type": "histogram2dcontour"
           }
          ],
          "mesh3d": [
           {
            "colorbar": {
             "outlinewidth": 0,
             "ticks": ""
            },
            "type": "mesh3d"
           }
          ],
          "parcoords": [
           {
            "line": {
             "colorbar": {
              "outlinewidth": 0,
              "ticks": ""
             }
            },
            "type": "parcoords"
           }
          ],
          "pie": [
           {
            "automargin": true,
            "type": "pie"
           }
          ],
          "scatter": [
           {
            "marker": {
             "line": {
              "color": "#283442"
             }
            },
            "type": "scatter"
           }
          ],
          "scatter3d": [
           {
            "line": {
             "colorbar": {
              "outlinewidth": 0,
              "ticks": ""
             }
            },
            "marker": {
             "colorbar": {
              "outlinewidth": 0,
              "ticks": ""
             }
            },
            "type": "scatter3d"
           }
          ],
          "scattercarpet": [
           {
            "marker": {
             "colorbar": {
              "outlinewidth": 0,
              "ticks": ""
             }
            },
            "type": "scattercarpet"
           }
          ],
          "scattergeo": [
           {
            "marker": {
             "colorbar": {
              "outlinewidth": 0,
              "ticks": ""
             }
            },
            "type": "scattergeo"
           }
          ],
          "scattergl": [
           {
            "marker": {
             "line": {
              "color": "#283442"
             }
            },
            "type": "scattergl"
           }
          ],
          "scattermap": [
           {
            "marker": {
             "colorbar": {
              "outlinewidth": 0,
              "ticks": ""
             }
            },
            "type": "scattermap"
           }
          ],
          "scattermapbox": [
           {
            "marker": {
             "colorbar": {
              "outlinewidth": 0,
              "ticks": ""
             }
            },
            "type": "scattermapbox"
           }
          ],
          "scatterpolar": [
           {
            "marker": {
             "colorbar": {
              "outlinewidth": 0,
              "ticks": ""
             }
            },
            "type": "scatterpolar"
           }
          ],
          "scatterpolargl": [
           {
            "marker": {
             "colorbar": {
              "outlinewidth": 0,
              "ticks": ""
             }
            },
            "type": "scatterpolargl"
           }
          ],
          "scatterternary": [
           {
            "marker": {
             "colorbar": {
              "outlinewidth": 0,
              "ticks": ""
             }
            },
            "type": "scatterternary"
           }
          ],
          "surface": [
           {
            "colorbar": {
             "outlinewidth": 0,
             "ticks": ""
            },
            "colorscale": [
             [
              0,
              "#0d0887"
             ],
             [
              0.1111111111111111,
              "#46039f"
             ],
             [
              0.2222222222222222,
              "#7201a8"
             ],
             [
              0.3333333333333333,
              "#9c179e"
             ],
             [
              0.4444444444444444,
              "#bd3786"
             ],
             [
              0.5555555555555556,
              "#d8576b"
             ],
             [
              0.6666666666666666,
              "#ed7953"
             ],
             [
              0.7777777777777778,
              "#fb9f3a"
             ],
             [
              0.8888888888888888,
              "#fdca26"
             ],
             [
              1,
              "#f0f921"
             ]
            ],
            "type": "surface"
           }
          ],
          "table": [
           {
            "cells": {
             "fill": {
              "color": "#506784"
             },
             "line": {
              "color": "rgb(17,17,17)"
             }
            },
            "header": {
             "fill": {
              "color": "#2a3f5f"
             },
             "line": {
              "color": "rgb(17,17,17)"
             }
            },
            "type": "table"
           }
          ]
         },
         "layout": {
          "annotationdefaults": {
           "arrowcolor": "#f2f5fa",
           "arrowhead": 0,
           "arrowwidth": 1
          },
          "autotypenumbers": "strict",
          "coloraxis": {
           "colorbar": {
            "outlinewidth": 0,
            "ticks": ""
           }
          },
          "colorscale": {
           "diverging": [
            [
             0,
             "#8e0152"
            ],
            [
             0.1,
             "#c51b7d"
            ],
            [
             0.2,
             "#de77ae"
            ],
            [
             0.3,
             "#f1b6da"
            ],
            [
             0.4,
             "#fde0ef"
            ],
            [
             0.5,
             "#f7f7f7"
            ],
            [
             0.6,
             "#e6f5d0"
            ],
            [
             0.7,
             "#b8e186"
            ],
            [
             0.8,
             "#7fbc41"
            ],
            [
             0.9,
             "#4d9221"
            ],
            [
             1,
             "#276419"
            ]
           ],
           "sequential": [
            [
             0,
             "#0d0887"
            ],
            [
             0.1111111111111111,
             "#46039f"
            ],
            [
             0.2222222222222222,
             "#7201a8"
            ],
            [
             0.3333333333333333,
             "#9c179e"
            ],
            [
             0.4444444444444444,
             "#bd3786"
            ],
            [
             0.5555555555555556,
             "#d8576b"
            ],
            [
             0.6666666666666666,
             "#ed7953"
            ],
            [
             0.7777777777777778,
             "#fb9f3a"
            ],
            [
             0.8888888888888888,
             "#fdca26"
            ],
            [
             1,
             "#f0f921"
            ]
           ],
           "sequentialminus": [
            [
             0,
             "#0d0887"
            ],
            [
             0.1111111111111111,
             "#46039f"
            ],
            [
             0.2222222222222222,
             "#7201a8"
            ],
            [
             0.3333333333333333,
             "#9c179e"
            ],
            [
             0.4444444444444444,
             "#bd3786"
            ],
            [
             0.5555555555555556,
             "#d8576b"
            ],
            [
             0.6666666666666666,
             "#ed7953"
            ],
            [
             0.7777777777777778,
             "#fb9f3a"
            ],
            [
             0.8888888888888888,
             "#fdca26"
            ],
            [
             1,
             "#f0f921"
            ]
           ]
          },
          "colorway": [
           "#636efa",
           "#EF553B",
           "#00cc96",
           "#ab63fa",
           "#FFA15A",
           "#19d3f3",
           "#FF6692",
           "#B6E880",
           "#FF97FF",
           "#FECB52"
          ],
          "font": {
           "color": "#f2f5fa"
          },
          "geo": {
           "bgcolor": "rgb(17,17,17)",
           "lakecolor": "rgb(17,17,17)",
           "landcolor": "rgb(17,17,17)",
           "showlakes": true,
           "showland": true,
           "subunitcolor": "#506784"
          },
          "hoverlabel": {
           "align": "left"
          },
          "hovermode": "closest",
          "mapbox": {
           "style": "dark"
          },
          "paper_bgcolor": "rgb(17,17,17)",
          "plot_bgcolor": "rgb(17,17,17)",
          "polar": {
           "angularaxis": {
            "gridcolor": "#506784",
            "linecolor": "#506784",
            "ticks": ""
           },
           "bgcolor": "rgb(17,17,17)",
           "radialaxis": {
            "gridcolor": "#506784",
            "linecolor": "#506784",
            "ticks": ""
           }
          },
          "scene": {
           "xaxis": {
            "backgroundcolor": "rgb(17,17,17)",
            "gridcolor": "#506784",
            "gridwidth": 2,
            "linecolor": "#506784",
            "showbackground": true,
            "ticks": "",
            "zerolinecolor": "#C8D4E3"
           },
           "yaxis": {
            "backgroundcolor": "rgb(17,17,17)",
            "gridcolor": "#506784",
            "gridwidth": 2,
            "linecolor": "#506784",
            "showbackground": true,
            "ticks": "",
            "zerolinecolor": "#C8D4E3"
           },
           "zaxis": {
            "backgroundcolor": "rgb(17,17,17)",
            "gridcolor": "#506784",
            "gridwidth": 2,
            "linecolor": "#506784",
            "showbackground": true,
            "ticks": "",
            "zerolinecolor": "#C8D4E3"
           }
          },
          "shapedefaults": {
           "line": {
            "color": "#f2f5fa"
           }
          },
          "sliderdefaults": {
           "bgcolor": "#C8D4E3",
           "bordercolor": "rgb(17,17,17)",
           "borderwidth": 1,
           "tickwidth": 0
          },
          "ternary": {
           "aaxis": {
            "gridcolor": "#506784",
            "linecolor": "#506784",
            "ticks": ""
           },
           "baxis": {
            "gridcolor": "#506784",
            "linecolor": "#506784",
            "ticks": ""
           },
           "bgcolor": "rgb(17,17,17)",
           "caxis": {
            "gridcolor": "#506784",
            "linecolor": "#506784",
            "ticks": ""
           }
          },
          "title": {
           "x": 0.05
          },
          "updatemenudefaults": {
           "bgcolor": "#506784",
           "borderwidth": 0
          },
          "xaxis": {
           "automargin": true,
           "gridcolor": "#283442",
           "linecolor": "#506784",
           "ticks": "",
           "title": {
            "standoff": 15
           },
           "zerolinecolor": "#283442",
           "zerolinewidth": 2
          },
          "yaxis": {
           "automargin": true,
           "gridcolor": "#283442",
           "linecolor": "#506784",
           "ticks": "",
           "title": {
            "standoff": 15
           },
           "zerolinecolor": "#283442",
           "zerolinewidth": 2
          }
         }
        },
        "title": {
         "text": "Predicted vs. Actual Compliance Rate"
        },
        "xaxis": {
         "anchor": "y",
         "domain": [
          0,
          1
         ],
         "title": {
          "text": "Actual"
         }
        },
        "yaxis": {
         "anchor": "x",
         "domain": [
          0,
          1
         ],
         "scaleanchor": "x",
         "scaleratio": 1,
         "title": {
          "text": "Predicted"
         }
        }
       }
      },
      "image/png": "[encoded data removed]"
     },
     "metadata": {},
     "output_type": "display_data"
    }
   ],
   "source": [
    "fig_time, fig_scatter = plot_compliance_predictions(preds, sample_size=1000)\n",
    "fig_time.show()\n",
    "fig_scatter.show()"
   ]
  }
 ],
 "metadata": {
  "colab": {
   "provenance": []
  },
  "kernelspec": {
   "display_name": "Python 3 (ipykernel)",
   "language": "python",
   "name": "python3"
  },
  "language_info": {
   "codemirror_mode": {
    "name": "ipython",
    "version": 3
   },
   "file_extension": ".py",
   "mimetype": "text/x-python",
   "name": "python",
   "nbconvert_exporter": "python",
   "pygments_lexer": "ipython3",
   "version": "3.12.3"
  }
 },
 "nbformat": 4,
 "nbformat_minor": 4
}
