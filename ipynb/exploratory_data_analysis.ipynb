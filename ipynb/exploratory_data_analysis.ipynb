{
 "cells": [
  {
   "cell_type": "markdown",
   "metadata": {
    "id": "87Ldt3uONy5v"
   },
   "source": [
    "## Common Imports"
   ]
  },
  {
   "cell_type": "code",
   "execution_count": 26,
   "metadata": {
    "id": "ch9CNz0g6tIK"
   },
   "outputs": [],
   "source": [
    "import os\n",
    "import math\n",
    "import numpy as np\n",
    "import pandas as pd\n",
    "import plotly.express as px\n",
    "from datetime import datetime\n",
    "import plotly.graph_objects as go\n",
    "\n",
    "from datetime import datetime\n",
    "\n",
    "import pyspark.sql.functions as F\n",
    "import pyspark.sql.types as T\n",
    "from pyspark.sql import SparkSession"
   ]
  },
  {
   "cell_type": "markdown",
   "metadata": {
    "id": "239MhqzF-KxQ"
   },
   "source": [
    "## Spark Session Initialization"
   ]
  },
  {
   "cell_type": "code",
   "execution_count": 27,
   "metadata": {
    "id": "Cl2z6ere_h0a"
   },
   "outputs": [],
   "source": [
    "Spark = SparkSession.builder \\\n",
    "    .appName(\"Aircraft Compliance Exploration\") \\\n",
    "    .config(\"spark.driver.memory\", \"2g\") \\\n",
    "    .config(\"spark.executor.memory\", \"2g\") \\\n",
    "    .config(\"spark.driver.cores\", \"2\") \\\n",
    "    .config(\"spark.executor.cores\", \"2\") \\\n",
    "    .config(\"spark.driver.bindAddress\", \"127.0.0.1\") \\\n",
    "    .config(\"spark.driver.host\", \"localhost\") \\\n",
    "    .config(\"spark.driver.port\", \"4041\") \\\n",
    "    .getOrCreate()"
   ]
  },
  {
   "cell_type": "markdown",
   "metadata": {
    "id": "_OnhYb5tN23g"
   },
   "source": [
    "## Loading the data"
   ]
  },
  {
   "cell_type": "code",
   "execution_count": 28,
   "metadata": {
    "colab": {
     "base_uri": "https://localhost:8080/"
    },
    "id": "k3jP7S_SAPBf",
    "outputId": "667b7732-33e4-4ec7-a4ec-99533e6657cd"
   },
   "outputs": [
    {
     "name": "stdout",
     "output_type": "stream",
     "text": [
      "File loaded successfully.\n"
     ]
    }
   ],
   "source": [
    "file_path = '../data/case_study.csv'\n",
    "\n",
    "if os.path.exists(file_path):\n",
    "    df = Spark.read.csv(file_path, header=True, inferSchema=True)\n",
    "    print(\"File loaded successfully.\")\n",
    "else:\n",
    "    print(\"File not found.\")"
   ]
  },
  {
   "cell_type": "markdown",
   "metadata": {
    "id": "f_8GvM2lOYXA"
   },
   "source": [
    "## Examining the schema"
   ]
  },
  {
   "cell_type": "code",
   "execution_count": 29,
   "metadata": {
    "colab": {
     "base_uri": "https://localhost:8080/"
    },
    "id": "WHE0YUduAv_T",
    "outputId": "ac606858-5d01-460d-e1a8-d0d85e1f0375"
   },
   "outputs": [
    {
     "name": "stdout",
     "output_type": "stream",
     "text": [
      "root\n",
      " |-- date: date (nullable = true)\n",
      " |-- airport: string (nullable = true)\n",
      " |-- reference_number: string (nullable = true)\n",
      " |-- airline: string (nullable = true)\n",
      " |-- departures: integer (nullable = true)\n",
      " |-- count_of_compliant_audit: integer (nullable = true)\n",
      " |-- count_of_audit: integer (nullable = true)\n",
      "\n"
     ]
    }
   ],
   "source": [
    "df.printSchema()"
   ]
  },
  {
   "cell_type": "markdown",
   "metadata": {},
   "source": [
    "### Statistics"
   ]
  },
  {
   "cell_type": "code",
   "execution_count": 30,
   "metadata": {},
   "outputs": [
    {
     "name": "stderr",
     "output_type": "stream",
     "text": [
      "[Stage 28:===================>                                      (1 + 2) / 3]"
     ]
    },
    {
     "name": "stdout",
     "output_type": "stream",
     "text": [
      "+-------+----------+----------------+---------------+------------------+------------------------+-------------------+\n",
      "|summary|airport   |reference_number|airline        |departures        |count_of_compliant_audit|count_of_audit     |\n",
      "+-------+----------+----------------+---------------+------------------+------------------------+-------------------+\n",
      "|count  |195625    |195625          |192509         |195625            |3562                    |195625             |\n",
      "|mean   |0.0       |NULL            |NULL           |2211.8111028753992|0.9110050533408197      |1.0074479233226836 |\n",
      "|stddev |0.0       |NULL            |NULL           |2346.550572697632 |0.7662475079537892      |0.09338934535799949|\n",
      "|min    |#N/A      |Audit 1         |Mainline       |0                 |0                       |1                  |\n",
      "|max    |Station 99|Audit 3         |United Airlines|8328              |7                       |8                  |\n",
      "+-------+----------+----------------+---------------+------------------+------------------------+-------------------+\n",
      "\n"
     ]
    },
    {
     "name": "stderr",
     "output_type": "stream",
     "text": [
      "                                                                                "
     ]
    }
   ],
   "source": [
    "# Get all numeric columns of type int or float\n",
    "numeric_columns = [field.name for field in df.schema.fields\n",
    "                   if isinstance(field.dataType, (T.StringType, T.IntegerType, T.FloatType, T.DoubleType))]\n",
    "\n",
    "# Describe only those numeric columns\n",
    "summary_stats = df.describe(numeric_columns)\n",
    "summary_stats.show(truncate=False)"
   ]
  },
  {
   "cell_type": "markdown",
   "metadata": {
    "id": "sFeAE5t-ObIH"
   },
   "source": [
    "## Feature Engineering"
   ]
  },
  {
   "cell_type": "markdown",
   "metadata": {},
   "source": [
    "#### Temporal features such as 'year', 'month', 'day_of_week', 'quarter', 'is_weekend'. Alongwith cyclical encoding for 'month' and 'day_of_week'"
   ]
  },
  {
   "cell_type": "code",
   "execution_count": 31,
   "metadata": {
    "id": "87VXsBbo4vqz"
   },
   "outputs": [],
   "source": [
    "def create_temporal_features(df):\n",
    "    # Extract core temporal features\n",
    "    df = df.withColumn(\"year\", F.year(\"date\")) \\\n",
    "           .withColumn(\"month\", F.month(\"date\")) \\\n",
    "           .withColumn(\"day_of_week\", F.dayofweek(\"date\")) \\\n",
    "           .withColumn(\"quarter\", F.quarter(\"date\")) \\\n",
    "           .withColumn(\"is_weekend\", F.when(F.col(\"day_of_week\").isin([1, 7]), 1).otherwise(0))\n",
    "    return df"
   ]
  },
  {
   "cell_type": "code",
   "execution_count": 32,
   "metadata": {},
   "outputs": [],
   "source": [
    "df = create_temporal_features(df)"
   ]
  },
  {
   "cell_type": "markdown",
   "metadata": {},
   "source": [
    "#### Derived features: 'compliance_rate', 'audit_density' and 'compliance_per_departure'."
   ]
  },
  {
   "cell_type": "code",
   "execution_count": 33,
   "metadata": {},
   "outputs": [],
   "source": [
    "def create_derived_features(df):\n",
    "    df = df.withColumn(\"compliance_rate\",\n",
    "                       F.when(F.col(\"count_of_audit\") > 0,\n",
    "                              (F.col(\"count_of_compliant_audit\") / F.col(\"count_of_audit\")).cast(\"double\"))\n",
    "                        .otherwise(0.0))\n",
    "    df = df.withColumn(\"audit_density\",\n",
    "                       F.when(F.col(\"departures\") > 0,\n",
    "                              (F.col(\"count_of_audit\") / F.col(\"departures\")).cast(\"double\"))\n",
    "                        .otherwise(0.0))\n",
    "    df = df.withColumn(\"compliance_per_departure\",\n",
    "                       F.when(F.col(\"departures\") > 0,\n",
    "                              (F.col(\"count_of_compliant_audit\") / F.col(\"departures\")).cast(\"double\"))\n",
    "                        .otherwise(0.0))\n",
    "    return df"
   ]
  },
  {
   "cell_type": "code",
   "execution_count": 34,
   "metadata": {},
   "outputs": [],
   "source": [
    "df = create_derived_features(df)"
   ]
  },
  {
   "cell_type": "markdown",
   "metadata": {},
   "source": [
    "#### Handling null values"
   ]
  },
  {
   "cell_type": "code",
   "execution_count": 35,
   "metadata": {},
   "outputs": [],
   "source": [
    "def handle_nan_inf(df):\n",
    "    # Replace NaN, null, and infinite values with 0.0\n",
    "    print(f\"Original Dataframe: {df.count()}\")\n",
    "    df_processed = df.dropna()\n",
    "    print(f\"Processed Dataframe: {df_processed.count()}\")\n",
    "    return df_processed"
   ]
  },
  {
   "cell_type": "code",
   "execution_count": 36,
   "metadata": {},
   "outputs": [
    {
     "name": "stdout",
     "output_type": "stream",
     "text": [
      "Original Dataframe: 195625\n",
      "Processed Dataframe: 3525\n"
     ]
    }
   ],
   "source": [
    "df = handle_nan_inf(df)"
   ]
  },
  {
   "cell_type": "markdown",
   "metadata": {},
   "source": [
    "#### Unique values"
   ]
  },
  {
   "cell_type": "code",
   "execution_count": 37,
   "metadata": {},
   "outputs": [
    {
     "name": "stderr",
     "output_type": "stream",
     "text": [
      "[Stage 37:===================>                                      (1 + 2) / 3]"
     ]
    },
    {
     "name": "stdout",
     "output_type": "stream",
     "text": [
      "+---------------+------------------------+---------------+\n",
      "|unique_airports|unique_reference_numbers|unique_airlines|\n",
      "+---------------+------------------------+---------------+\n",
      "|186            |3                       |4              |\n",
      "+---------------+------------------------+---------------+\n",
      "\n"
     ]
    },
    {
     "name": "stderr",
     "output_type": "stream",
     "text": [
      "                                                                                "
     ]
    }
   ],
   "source": [
    "from pyspark.sql.functions import count, countDistinct\n",
    "\n",
    "# Unique counts per categorical column\n",
    "unique_counts = df.agg(\n",
    "    countDistinct(F.col(\"airport\")).alias(\"unique_airports\"),\n",
    "    countDistinct(F.col(\"reference_number\")).alias(\"unique_reference_numbers\"),\n",
    "    countDistinct(F.col(\"airline\")).alias(\"unique_airlines\")\n",
    ")\n",
    "unique_counts.show(1, truncate=False)"
   ]
  },
  {
   "cell_type": "markdown",
   "metadata": {},
   "source": [
    "#### Monthly aggregation"
   ]
  },
  {
   "cell_type": "code",
   "execution_count": 38,
   "metadata": {},
   "outputs": [
    {
     "name": "stdout",
     "output_type": "stream",
     "text": [
      "+----+-----+-----------------+------------------+------------------+----------------+\n",
      "|year|month|avg_departures   |avg_compliant     |avg_audit         |total_departures|\n",
      "+----+-----+-----------------+------------------+------------------+----------------+\n",
      "|2022|1    |4291.6           |0.5               |1.0               |42916           |\n",
      "|2022|2    |3268.7           |0.8               |1.2               |32687           |\n",
      "|2022|3    |4120.0           |0.6111111111111112|1.0               |74160           |\n",
      "|2022|4    |4608.0           |0.6666666666666666|1.0               |27648           |\n",
      "|2022|5    |4448.5           |0.5               |1.0               |44485           |\n",
      "|2022|6    |2845.714285714286|1.0               |1.2857142857142858|19920           |\n",
      "|2022|7    |2300.222222222222|0.3333333333333333|1.1111111111111112|20702           |\n",
      "|2022|8    |3011.4           |0.8               |1.4               |15057           |\n",
      "|2022|9    |1371.5           |0.5               |1.0               |10972           |\n",
      "|2022|10   |4693.75          |0.25              |1.0               |18775           |\n",
      "|2022|11   |2293.0           |0.5               |1.0               |9172            |\n",
      "|2022|12   |1130.6           |0.7               |1.0               |11306           |\n",
      "|2023|1    |1300.25          |0.5               |1.0               |10402           |\n",
      "|2023|2    |3288.25          |0.625             |1.0               |26306           |\n",
      "|2023|3    |3573.222222222222|0.5555555555555556|1.0               |32159           |\n",
      "|2023|4    |3572.1875        |0.5625            |1.125             |57155           |\n",
      "|2023|5    |1314.111111111111|0.5555555555555556|1.2222222222222223|11827           |\n",
      "|2023|6    |1570.923076923077|0.6153846153846154|1.1538461538461537|20422           |\n",
      "|2023|7    |977.5769230769231|0.6538461538461539|1.0               |25417           |\n",
      "|2023|8    |559.8518518518518|0.9259259259259259|1.4074074074074074|30232           |\n",
      "+----+-----+-----------------+------------------+------------------+----------------+\n",
      "only showing top 20 rows\n"
     ]
    }
   ],
   "source": [
    "from pyspark.sql.functions import year, month, sum, avg\n",
    "\n",
    "# Monthly averages for numerical columns\n",
    "df.groupBy(year(\"date\").alias(\"year\"), month(\"date\").alias(\"month\")).agg(\n",
    "    avg(\"departures\").alias(\"avg_departures\"),\n",
    "    avg(\"count_of_compliant_audit\").alias(\"avg_compliant\"),\n",
    "    avg(\"count_of_audit\").alias(\"avg_audit\"),\n",
    "    sum(\"departures\").alias(\"total_departures\")\n",
    ").orderBy(\"year\", \"month\").show(truncate=False)"
   ]
  },
  {
   "cell_type": "code",
   "execution_count": 39,
   "metadata": {},
   "outputs": [],
   "source": [
    "def create_cross_comparison_graph(df, date_col='date', filter_column='airline', filter_value='United Airlines', metric_cols='compliance_rate', start_date=None, end_date=None):\n",
    "    \"\"\"\n",
    "    Cross-comparison of average metric values across audit groups (reference_number) and monthly time periods,\n",
    "    with optional filtering by column and date range. Supports multiple metrics and automatically detects formatting\n",
    "    for hover (percentage, int, float, etc.).\n",
    "\n",
    "    Parameters:\n",
    "    - df: PySpark DataFrame with the schema including 'date', 'reference_number', and the metric columns.\n",
    "    - date_col: Column name for date (default: 'date').\n",
    "    - filter_column: Column to filter on (e.g., 'airline'). If None, no filtering is applied.\n",
    "    - filter_value: Value(s) to filter by (e.g., 'United Airlines' or ['United Airlines', 'Delta']). If None, no filtering is applied.\n",
    "    - metric_cols: Column name(s) for the metrics to analyze (e.g., 'compliance_rate' or ['compliance_rate', 'another_metric']). Required.\n",
    "    - start_date: Start date for filtering (format: 'YYYY-MM-DD' or None). If None, no start date filter is applied.\n",
    "    - end_date: End date for filtering (format: 'YYYY-MM-DD' or None). If None, no end date filter is applied.\n",
    "    \"\"\"\n",
    "    # Handle metric_cols as string or list\n",
    "    if isinstance(metric_cols, str):\n",
    "        metric_cols = [metric_cols]\n",
    "\n",
    "    # Validate that reference_number, metric_cols, and date_col exist in DataFrame\n",
    "    if 'reference_number' not in df.columns:\n",
    "        raise ValueError(\"Column 'reference_number' not found in DataFrame\")\n",
    "    for metric in metric_cols:\n",
    "        if metric not in df.columns:\n",
    "            raise ValueError(f\"Metric column '{metric}' not found in DataFrame\")\n",
    "    if date_col not in df.columns:\n",
    "        raise ValueError(f\"Date column '{date_col}' not found in DataFrame\")\n",
    "\n",
    "    # Apply filtering for filter_column and filter_value\n",
    "    df_filtered = df\n",
    "    if filter_column is not None and filter_value is not None:\n",
    "        if filter_column in df.columns:\n",
    "            if isinstance(filter_value, list):\n",
    "                df_filtered = df_filtered.filter(F.col(filter_column).isin(filter_value))\n",
    "            else:\n",
    "                df_filtered = df_filtered.filter(F.col(filter_column) == filter_value)\n",
    "\n",
    "    # Apply date range filtering if start_date or end_date is provided\n",
    "    if start_date is not None:\n",
    "        try:\n",
    "            datetime.strptime(start_date, '%Y-%m-%d')  # Validate format\n",
    "            df_filtered = df_filtered.filter(F.col(date_col) >= start_date)\n",
    "        except ValueError:\n",
    "            raise ValueError(\"start_date must be in 'YYYY-MM-DD' format or None\")\n",
    "    if end_date is not None:\n",
    "        try:\n",
    "            datetime.strptime(end_date, '%Y-%m-%d')  # Validate format\n",
    "            df_filtered = df_filtered.filter(F.col(date_col) <= end_date)\n",
    "        except ValueError:\n",
    "            raise ValueError(\"end_date must be in 'YYYY-MM-DD' format or None\")\n",
    "\n",
    "    # Drop rows where any metric_col is null to ensure clean aggregation\n",
    "    if metric_cols:\n",
    "        for metric in metric_cols:\n",
    "            df_filtered = df_filtered.filter(F.col(metric).isNotNull())\n",
    "\n",
    "    # Aggregate average metric values by month and reference_number\n",
    "    aggregated = df_filtered.groupBy(\n",
    "        F.date_format(F.col(date_col), \"yyyy-MM\").alias(\"month\"),\n",
    "        \"reference_number\"\n",
    "    ).agg(\n",
    "        *(F.avg(F.col(metric)).alias(f\"avg_{metric}\") for metric in metric_cols)\n",
    "    ).orderBy(\"month\", \"reference_number\")\n",
    "\n",
    "    # Convert to Pandas for Plotly\n",
    "    pd_agg = aggregated.toPandas()\n",
    "\n",
    "    # Melt the DataFrame for plotting multiple metrics\n",
    "    pd_melt = pd.melt(\n",
    "        pd_agg,\n",
    "        id_vars=['month', 'reference_number'],\n",
    "        value_vars=[f'avg_{metric}' for metric in metric_cols],\n",
    "        var_name='avg_metric',\n",
    "        value_name='avg_value'\n",
    "    )\n",
    "    pd_melt['metric'] = pd_melt['avg_metric'].str.replace('avg_', '')\n",
    "\n",
    "    # Define title based on filtering\n",
    "    title = \"Cross Comparison of Average Metrics Across Audit Groups Over Time\"\n",
    "    if filter_column is not None and filter_value is not None:\n",
    "        if isinstance(filter_value, list):\n",
    "            title += f\" ({', '.join(filter_value)})\"\n",
    "        else:\n",
    "            title += f\" ({filter_value})\"\n",
    "    if start_date is not None or end_date is not None:\n",
    "        date_range = f\"[{start_date or 'Start'} to {end_date or 'End'}]\"\n",
    "        title += f\" {date_range}\"\n",
    "\n",
    "    # Create line plot with splines for time series comparison across audit groups\n",
    "    fig = px.line(\n",
    "        pd_melt,\n",
    "        x=\"month\",\n",
    "        y=\"avg_value\",\n",
    "        color=\"reference_number\",\n",
    "        facet_row=\"metric\",\n",
    "        line_shape='spline',  # Use spline interpolation for smooth lines\n",
    "        title=title,\n",
    "        labels={\n",
    "            \"month\": \"Month (YYYY-MM)\",\n",
    "            \"avg_value\": \"Average Value\",\n",
    "            \"reference_number\": \"Audit Group\",\n",
    "            \"metric\": \"Metric\"\n",
    "        },\n",
    "        category_orders={\"metric\": metric_cols},  # Preserve metric order\n",
    "        color_discrete_sequence=px.colors.sequential.Jet,\n",
    "    )\n",
    "\n",
    "    fig.update_layout(\n",
    "        template=\"plotly_dark\",\n",
    "        paper_bgcolor=\"black\",\n",
    "        plot_bgcolor=\"black\",\n",
    "        font_color=\"white\",\n",
    "        title_font_size=20,\n",
    "        legend_title_font_color=\"white\",\n",
    "        legend_font_color=\"white\",\n",
    "        height=500,\n",
    "    )\n",
    "\n",
    "    # Rotate x-axis labels for better readability\n",
    "    fig.update_xaxes(tickangle=45)\n",
    "\n",
    "    # Automatically detect formats and update y-axes and hover templates per metric\n",
    "    for i, metric in enumerate(metric_cols):\n",
    "        col = f\"avg_{metric}\"\n",
    "        vals = pd_agg[col].dropna()\n",
    "        if len(vals) == 0:\n",
    "            continue\n",
    "        min_v = vals.min()\n",
    "        max_v = vals.max()\n",
    "\n",
    "        # Determine if percentage based on name or range\n",
    "        name_lower = metric.lower()\n",
    "        is_percentage = any(word in name_lower for word in ['rate', 'percent', 'pct', 'compliance', 'ratio', 'proportion']) or (min_v >= 0 and max_v <= 100)\n",
    "\n",
    "        if is_percentage:\n",
    "            if max_v <= 1.0001:\n",
    "                hover_format = '.2%'\n",
    "                y_label = f\"Average {metric.replace('_', ' ').title()} (%)\"\n",
    "            else:\n",
    "                hover_format = '.2f%'\n",
    "                y_label = f\"Average {metric.replace('_', ' ').title()} (%)\"\n",
    "        else:\n",
    "            if all(abs(v - round(v)) < 1e-6 for v in vals):\n",
    "                hover_format = '.0f'\n",
    "                y_label = f\"Average {metric.replace('_', ' ').title()}\"\n",
    "            else:\n",
    "                hover_format = '.2f'\n",
    "                y_label = f\"Average {metric.replace('_', ' ').title()}\"\n",
    "\n",
    "        # Update y-axis label and hover template for this subplot row\n",
    "        row_num = i + 1\n",
    "        fig.update_yaxes(title_text=y_label, row=row_num, col=1)\n",
    "        fig.update_traces(\n",
    "            hovertemplate=\"Month: %{x}<br>Avg: %{y:\" + hover_format + \"}<br>Audit Group: %{trace.name}\",\n",
    "            row=row_num, col=1\n",
    "        )\n",
    "\n",
    "    # Show the figure\n",
    "    fig.show()"
   ]
  },
  {
   "cell_type": "code",
   "execution_count": 40,
   "metadata": {},
   "outputs": [
    {
     "name": "stderr",
     "output_type": "stream",
     "text": [
      "                                                                                "
     ]
    },
    {
     "data": {
      "application/vnd.plotly.v1+json": {
       "config": {
        "plotlyServerURL": "https://plot.ly"
       },
       "data": [
        {
         "hovertemplate": "Month: %{x}<br>Avg: %{y:.2%}<br>Audit Group: %{trace.name}",
         "legendgroup": "Audit 3",
         "line": {
          "color": "rgb(0,0,131)",
          "dash": "solid",
          "shape": "spline"
         },
         "marker": {
          "symbol": "circle"
         },
         "mode": "lines",
         "name": "Audit 3",
         "orientation": "v",
         "showlegend": true,
         "type": "scatter",
         "x": [
          "2023-07",
          "2023-08",
          "2023-09",
          "2023-10",
          "2023-11",
          "2023-12",
          "2024-01",
          "2024-02",
          "2024-03",
          "2024-04",
          "2024-05",
          "2024-06",
          "2024-07",
          "2024-08",
          "2024-09",
          "2024-10",
          "2024-11",
          "2024-12",
          "2025-01",
          "2025-02",
          "2025-03",
          "2025-04",
          "2025-05",
          "2025-06",
          "2025-07",
          "2025-08"
         ],
         "xaxis": "x",
         "y": {
          "bdata": "zczMzMzM5D+PuCPuiDviP33WDabIZ90/x3Ecx3Ec4z+mpaWlpaXlPxzHcRzHcdw/NpTXUF5D2T/NzMzMzMzgP6cI/q4pgt8/zJcS0n524j/HcRzHcRzhPwmFQqFQKOQ/fVoe9ayu4T/33VLoTzLmPwzDMAzDMOY/uuiiiy664D9VVVVVVVXaP7BCZ7BCZ+A/4XwMzsfg4D/E5ApicgXhP/uVArV+peA/pZRSSiml4D/PLXHq99ziPwsVKlSoUOE/VVVVVVVV4T8AAAAAAADoPw==",
          "dtype": "f8"
         },
         "yaxis": "y"
        }
       ],
       "layout": {
        "annotations": [
         {
          "font": {},
          "showarrow": false,
          "text": "Metric=compliance_rate",
          "textangle": 90,
          "x": 0.98,
          "xanchor": "left",
          "xref": "paper",
          "y": 0.5,
          "yanchor": "middle",
          "yref": "paper"
         }
        ],
        "font": {
         "color": "white"
        },
        "height": 500,
        "legend": {
         "font": {
          "color": "white"
         },
         "title": {
          "font": {
           "color": "white"
          },
          "text": "Audit Group"
         },
         "tracegroupgap": 0
        },
        "paper_bgcolor": "black",
        "plot_bgcolor": "black",
        "template": {
         "data": {
          "bar": [
           {
            "error_x": {
             "color": "#f2f5fa"
            },
            "error_y": {
             "color": "#f2f5fa"
            },
            "marker": {
             "line": {
              "color": "rgb(17,17,17)",
              "width": 0.5
             },
             "pattern": {
              "fillmode": "overlay",
              "size": 10,
              "solidity": 0.2
             }
            },
            "type": "bar"
           }
          ],
          "barpolar": [
           {
            "marker": {
             "line": {
              "color": "rgb(17,17,17)",
              "width": 0.5
             },
             "pattern": {
              "fillmode": "overlay",
              "size": 10,
              "solidity": 0.2
             }
            },
            "type": "barpolar"
           }
          ],
          "carpet": [
           {
            "aaxis": {
             "endlinecolor": "#A2B1C6",
             "gridcolor": "#506784",
             "linecolor": "#506784",
             "minorgridcolor": "#506784",
             "startlinecolor": "#A2B1C6"
            },
            "baxis": {
             "endlinecolor": "#A2B1C6",
             "gridcolor": "#506784",
             "linecolor": "#506784",
             "minorgridcolor": "#506784",
             "startlinecolor": "#A2B1C6"
            },
            "type": "carpet"
           }
          ],
          "choropleth": [
           {
            "colorbar": {
             "outlinewidth": 0,
             "ticks": ""
            },
            "type": "choropleth"
           }
          ],
          "contour": [
           {
            "colorbar": {
             "outlinewidth": 0,
             "ticks": ""
            },
            "colorscale": [
             [
              0,
              "#0d0887"
             ],
             [
              0.1111111111111111,
              "#46039f"
             ],
             [
              0.2222222222222222,
              "#7201a8"
             ],
             [
              0.3333333333333333,
              "#9c179e"
             ],
             [
              0.4444444444444444,
              "#bd3786"
             ],
             [
              0.5555555555555556,
              "#d8576b"
             ],
             [
              0.6666666666666666,
              "#ed7953"
             ],
             [
              0.7777777777777778,
              "#fb9f3a"
             ],
             [
              0.8888888888888888,
              "#fdca26"
             ],
             [
              1,
              "#f0f921"
             ]
            ],
            "type": "contour"
           }
          ],
          "contourcarpet": [
           {
            "colorbar": {
             "outlinewidth": 0,
             "ticks": ""
            },
            "type": "contourcarpet"
           }
          ],
          "heatmap": [
           {
            "colorbar": {
             "outlinewidth": 0,
             "ticks": ""
            },
            "colorscale": [
             [
              0,
              "#0d0887"
             ],
             [
              0.1111111111111111,
              "#46039f"
             ],
             [
              0.2222222222222222,
              "#7201a8"
             ],
             [
              0.3333333333333333,
              "#9c179e"
             ],
             [
              0.4444444444444444,
              "#bd3786"
             ],
             [
              0.5555555555555556,
              "#d8576b"
             ],
             [
              0.6666666666666666,
              "#ed7953"
             ],
             [
              0.7777777777777778,
              "#fb9f3a"
             ],
             [
              0.8888888888888888,
              "#fdca26"
             ],
             [
              1,
              "#f0f921"
             ]
            ],
            "type": "heatmap"
           }
          ],
          "histogram": [
           {
            "marker": {
             "pattern": {
              "fillmode": "overlay",
              "size": 10,
              "solidity": 0.2
             }
            },
            "type": "histogram"
           }
          ],
          "histogram2d": [
           {
            "colorbar": {
             "outlinewidth": 0,
             "ticks": ""
            },
            "colorscale": [
             [
              0,
              "#0d0887"
             ],
             [
              0.1111111111111111,
              "#46039f"
             ],
             [
              0.2222222222222222,
              "#7201a8"
             ],
             [
              0.3333333333333333,
              "#9c179e"
             ],
             [
              0.4444444444444444,
              "#bd3786"
             ],
             [
              0.5555555555555556,
              "#d8576b"
             ],
             [
              0.6666666666666666,
              "#ed7953"
             ],
             [
              0.7777777777777778,
              "#fb9f3a"
             ],
             [
              0.8888888888888888,
              "#fdca26"
             ],
             [
              1,
              "#f0f921"
             ]
            ],
            "type": "histogram2d"
           }
          ],
          "histogram2dcontour": [
           {
            "colorbar": {
             "outlinewidth": 0,
             "ticks": ""
            },
            "colorscale": [
             [
              0,
              "#0d0887"
             ],
             [
              0.1111111111111111,
              "#46039f"
             ],
             [
              0.2222222222222222,
              "#7201a8"
             ],
             [
              0.3333333333333333,
              "#9c179e"
             ],
             [
              0.4444444444444444,
              "#bd3786"
             ],
             [
              0.5555555555555556,
              "#d8576b"
             ],
             [
              0.6666666666666666,
              "#ed7953"
             ],
             [
              0.7777777777777778,
              "#fb9f3a"
             ],
             [
              0.8888888888888888,
              "#fdca26"
             ],
             [
              1,
              "#f0f921"
             ]
            ],
            "type": "histogram2dcontour"
           }
          ],
          "mesh3d": [
           {
            "colorbar": {
             "outlinewidth": 0,
             "ticks": ""
            },
            "type": "mesh3d"
           }
          ],
          "parcoords": [
           {
            "line": {
             "colorbar": {
              "outlinewidth": 0,
              "ticks": ""
             }
            },
            "type": "parcoords"
           }
          ],
          "pie": [
           {
            "automargin": true,
            "type": "pie"
           }
          ],
          "scatter": [
           {
            "marker": {
             "line": {
              "color": "#283442"
             }
            },
            "type": "scatter"
           }
          ],
          "scatter3d": [
           {
            "line": {
             "colorbar": {
              "outlinewidth": 0,
              "ticks": ""
             }
            },
            "marker": {
             "colorbar": {
              "outlinewidth": 0,
              "ticks": ""
             }
            },
            "type": "scatter3d"
           }
          ],
          "scattercarpet": [
           {
            "marker": {
             "colorbar": {
              "outlinewidth": 0,
              "ticks": ""
             }
            },
            "type": "scattercarpet"
           }
          ],
          "scattergeo": [
           {
            "marker": {
             "colorbar": {
              "outlinewidth": 0,
              "ticks": ""
             }
            },
            "type": "scattergeo"
           }
          ],
          "scattergl": [
           {
            "marker": {
             "line": {
              "color": "#283442"
             }
            },
            "type": "scattergl"
           }
          ],
          "scattermap": [
           {
            "marker": {
             "colorbar": {
              "outlinewidth": 0,
              "ticks": ""
             }
            },
            "type": "scattermap"
           }
          ],
          "scattermapbox": [
           {
            "marker": {
             "colorbar": {
              "outlinewidth": 0,
              "ticks": ""
             }
            },
            "type": "scattermapbox"
           }
          ],
          "scatterpolar": [
           {
            "marker": {
             "colorbar": {
              "outlinewidth": 0,
              "ticks": ""
             }
            },
            "type": "scatterpolar"
           }
          ],
          "scatterpolargl": [
           {
            "marker": {
             "colorbar": {
              "outlinewidth": 0,
              "ticks": ""
             }
            },
            "type": "scatterpolargl"
           }
          ],
          "scatterternary": [
           {
            "marker": {
             "colorbar": {
              "outlinewidth": 0,
              "ticks": ""
             }
            },
            "type": "scatterternary"
           }
          ],
          "surface": [
           {
            "colorbar": {
             "outlinewidth": 0,
             "ticks": ""
            },
            "colorscale": [
             [
              0,
              "#0d0887"
             ],
             [
              0.1111111111111111,
              "#46039f"
             ],
             [
              0.2222222222222222,
              "#7201a8"
             ],
             [
              0.3333333333333333,
              "#9c179e"
             ],
             [
              0.4444444444444444,
              "#bd3786"
             ],
             [
              0.5555555555555556,
              "#d8576b"
             ],
             [
              0.6666666666666666,
              "#ed7953"
             ],
             [
              0.7777777777777778,
              "#fb9f3a"
             ],
             [
              0.8888888888888888,
              "#fdca26"
             ],
             [
              1,
              "#f0f921"
             ]
            ],
            "type": "surface"
           }
          ],
          "table": [
           {
            "cells": {
             "fill": {
              "color": "#506784"
             },
             "line": {
              "color": "rgb(17,17,17)"
             }
            },
            "header": {
             "fill": {
              "color": "#2a3f5f"
             },
             "line": {
              "color": "rgb(17,17,17)"
             }
            },
            "type": "table"
           }
          ]
         },
         "layout": {
          "annotationdefaults": {
           "arrowcolor": "#f2f5fa",
           "arrowhead": 0,
           "arrowwidth": 1
          },
          "autotypenumbers": "strict",
          "coloraxis": {
           "colorbar": {
            "outlinewidth": 0,
            "ticks": ""
           }
          },
          "colorscale": {
           "diverging": [
            [
             0,
             "#8e0152"
            ],
            [
             0.1,
             "#c51b7d"
            ],
            [
             0.2,
             "#de77ae"
            ],
            [
             0.3,
             "#f1b6da"
            ],
            [
             0.4,
             "#fde0ef"
            ],
            [
             0.5,
             "#f7f7f7"
            ],
            [
             0.6,
             "#e6f5d0"
            ],
            [
             0.7,
             "#b8e186"
            ],
            [
             0.8,
             "#7fbc41"
            ],
            [
             0.9,
             "#4d9221"
            ],
            [
             1,
             "#276419"
            ]
           ],
           "sequential": [
            [
             0,
             "#0d0887"
            ],
            [
             0.1111111111111111,
             "#46039f"
            ],
            [
             0.2222222222222222,
             "#7201a8"
            ],
            [
             0.3333333333333333,
             "#9c179e"
            ],
            [
             0.4444444444444444,
             "#bd3786"
            ],
            [
             0.5555555555555556,
             "#d8576b"
            ],
            [
             0.6666666666666666,
             "#ed7953"
            ],
            [
             0.7777777777777778,
             "#fb9f3a"
            ],
            [
             0.8888888888888888,
             "#fdca26"
            ],
            [
             1,
             "#f0f921"
            ]
           ],
           "sequentialminus": [
            [
             0,
             "#0d0887"
            ],
            [
             0.1111111111111111,
             "#46039f"
            ],
            [
             0.2222222222222222,
             "#7201a8"
            ],
            [
             0.3333333333333333,
             "#9c179e"
            ],
            [
             0.4444444444444444,
             "#bd3786"
            ],
            [
             0.5555555555555556,
             "#d8576b"
            ],
            [
             0.6666666666666666,
             "#ed7953"
            ],
            [
             0.7777777777777778,
             "#fb9f3a"
            ],
            [
             0.8888888888888888,
             "#fdca26"
            ],
            [
             1,
             "#f0f921"
            ]
           ]
          },
          "colorway": [
           "#636efa",
           "#EF553B",
           "#00cc96",
           "#ab63fa",
           "#FFA15A",
           "#19d3f3",
           "#FF6692",
           "#B6E880",
           "#FF97FF",
           "#FECB52"
          ],
          "font": {
           "color": "#f2f5fa"
          },
          "geo": {
           "bgcolor": "rgb(17,17,17)",
           "lakecolor": "rgb(17,17,17)",
           "landcolor": "rgb(17,17,17)",
           "showlakes": true,
           "showland": true,
           "subunitcolor": "#506784"
          },
          "hoverlabel": {
           "align": "left"
          },
          "hovermode": "closest",
          "mapbox": {
           "style": "dark"
          },
          "paper_bgcolor": "rgb(17,17,17)",
          "plot_bgcolor": "rgb(17,17,17)",
          "polar": {
           "angularaxis": {
            "gridcolor": "#506784",
            "linecolor": "#506784",
            "ticks": ""
           },
           "bgcolor": "rgb(17,17,17)",
           "radialaxis": {
            "gridcolor": "#506784",
            "linecolor": "#506784",
            "ticks": ""
           }
          },
          "scene": {
           "xaxis": {
            "backgroundcolor": "rgb(17,17,17)",
            "gridcolor": "#506784",
            "gridwidth": 2,
            "linecolor": "#506784",
            "showbackground": true,
            "ticks": "",
            "zerolinecolor": "#C8D4E3"
           },
           "yaxis": {
            "backgroundcolor": "rgb(17,17,17)",
            "gridcolor": "#506784",
            "gridwidth": 2,
            "linecolor": "#506784",
            "showbackground": true,
            "ticks": "",
            "zerolinecolor": "#C8D4E3"
           },
           "zaxis": {
            "backgroundcolor": "rgb(17,17,17)",
            "gridcolor": "#506784",
            "gridwidth": 2,
            "linecolor": "#506784",
            "showbackground": true,
            "ticks": "",
            "zerolinecolor": "#C8D4E3"
           }
          },
          "shapedefaults": {
           "line": {
            "color": "#f2f5fa"
           }
          },
          "sliderdefaults": {
           "bgcolor": "#C8D4E3",
           "bordercolor": "rgb(17,17,17)",
           "borderwidth": 1,
           "tickwidth": 0
          },
          "ternary": {
           "aaxis": {
            "gridcolor": "#506784",
            "linecolor": "#506784",
            "ticks": ""
           },
           "baxis": {
            "gridcolor": "#506784",
            "linecolor": "#506784",
            "ticks": ""
           },
           "bgcolor": "rgb(17,17,17)",
           "caxis": {
            "gridcolor": "#506784",
            "linecolor": "#506784",
            "ticks": ""
           }
          },
          "title": {
           "x": 0.05
          },
          "updatemenudefaults": {
           "bgcolor": "#506784",
           "borderwidth": 0
          },
          "xaxis": {
           "automargin": true,
           "gridcolor": "#283442",
           "linecolor": "#506784",
           "ticks": "",
           "title": {
            "standoff": 15
           },
           "zerolinecolor": "#283442",
           "zerolinewidth": 2
          },
          "yaxis": {
           "automargin": true,
           "gridcolor": "#283442",
           "linecolor": "#506784",
           "ticks": "",
           "title": {
            "standoff": 15
           },
           "zerolinecolor": "#283442",
           "zerolinewidth": 2
          }
         }
        },
        "title": {
         "font": {
          "size": 20
         },
         "text": "Cross Comparison of Average Metrics Across Audit Groups Over Time (Audit 3)"
        },
        "xaxis": {
         "anchor": "y",
         "domain": [
          0,
          0.98
         ],
         "tickangle": 45,
         "title": {
          "text": "Month (YYYY-MM)"
         }
        },
        "yaxis": {
         "anchor": "x",
         "domain": [
          0,
          1
         ],
         "title": {
          "text": "Average Compliance Rate (%)"
         }
        }
       }
      },
      "image/png": "[encoded data removed]"
     },
     "metadata": {},
     "output_type": "display_data"
    }
   ],
   "source": [
    "create_cross_comparison_graph(df, date_col='date', filter_column='reference_number', filter_value=['Audit 3'], metric_cols='compliance_rate', start_date=None, end_date=None)"
   ]
  },
  {
   "cell_type": "code",
   "execution_count": null,
   "metadata": {},
   "outputs": [],
   "source": []
  }
 ],
 "metadata": {
  "colab": {
   "provenance": []
  },
  "kernelspec": {
   "display_name": "Python 3 (ipykernel)",
   "language": "python",
   "name": "python3"
  },
  "language_info": {
   "codemirror_mode": {
    "name": "ipython",
    "version": 3
   },
   "file_extension": ".py",
   "mimetype": "text/x-python",
   "name": "python",
   "nbconvert_exporter": "python",
   "pygments_lexer": "ipython3",
   "version": "3.12.3"
  }
 },
 "nbformat": 4,
 "nbformat_minor": 4
}
