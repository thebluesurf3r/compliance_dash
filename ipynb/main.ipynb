{
 "cells": [
  {
   "cell_type": "code",
   "execution_count": null,
   "metadata": {
    "id": "NTnIrwCan5HQ"
   },
   "outputs": [],
   "source": [
    "import pyspark.sql.functions as F\n",
    "import pyspark.sql.types as T"
   ]
  },
  {
   "cell_type": "markdown",
   "metadata": {
    "id": "87Ldt3uONy5v"
   },
   "source": [
    "## Spark Session Initialization"
   ]
  },
  {
   "cell_type": "code",
   "execution_count": null,
   "metadata": {
    "id": "Cl2z6ere_h0a"
   },
   "outputs": [],
   "source": [
    "from pyspark.sql import SparkSession\n",
    "\n",
    "Spark = SparkSession.builder \\\n",
    "    .appName(\"Aircraft Compliance Exploration\") \\\n",
    "    .config(\"spark.driver.memory\", \"2g\") \\\n",
    "    .config(\"spark.executor.memory\", \"2g\") \\\n",
    "    .config(\"spark.executor.cores\", \"2\") \\\n",
    "    .config(\"spark.driver.cores\", \"2\") \\\n",
    "    .config(\"master\", \"local[*]\") \\\n",
    "    .config(\"spark.driver.bindAddress\", \"127.0.0.1\") \\\n",
    "    .config(\"spark.driver.host\", \"localhost\") \\\n",
    "    .config(\"spark.driver.port\", \"4040\") \\\n",
    "    .getOrCreate()"
   ]
  },
  {
   "cell_type": "code",
   "execution_count": null,
   "metadata": {
    "colab": {
     "base_uri": "https://localhost:8080/",
     "height": 326
    },
    "id": "Q8MxWS1iazT7",
    "outputId": "4aa84588-8c64-40df-c4dc-d4939de7b066"
   },
   "outputs": [
    {
     "data": {
      "text/markdown": [
       "\n",
       "Key configurations:\n",
       "\n",
       "- **Memory Allocation**:\n",
       "  - Driver memory: `2g`\n",
       "  - Executor memory: `2g`\n",
       "- **CPU Cores**:\n",
       "  - Driver cores: `2`\n",
       "  - Executor cores: `2`\n",
       "- **Execution Mode**:\n",
       "  - Runs in local mode using all available cores: `local[*]`\n",
       "- **Network Settings**:\n",
       "  - Driver bind address: `127.0.0.1`\n",
       "  - Driver host: `localhost`\n",
       "  - Driver port: `4040`\n",
       "\n",
       "These settings are suitable for developing and testing Spark applications on a single machine, while working with moderate-sized datasets.\n"
      ],
      "text/plain": [
       "<IPython.core.display.Markdown object>"
      ]
     },
     "metadata": {},
     "output_type": "display_data"
    }
   ],
   "source": [
    "from IPython.display import Markdown, display\n",
    "\n",
    "display(Markdown(\"\"\"\n",
    "Key configurations:\n",
    "\n",
    "- **Memory Allocation**:\n",
    "  - Driver memory: `2g`\n",
    "  - Executor memory: `2g`\n",
    "- **CPU Cores**:\n",
    "  - Driver cores: `2`\n",
    "  - Executor cores: `2`\n",
    "- **Execution Mode**:\n",
    "  - Runs in local mode using all available cores: `local[*]`\n",
    "- **Network Settings**:\n",
    "  - Driver bind address: `127.0.0.1`\n",
    "  - Driver host: `localhost`\n",
    "  - Driver port: `4040`\n",
    "\n",
    "These settings are suitable for developing and testing Spark applications on a single machine, while working with moderate-sized datasets.\n",
    "\"\"\"))"
   ]
  },
  {
   "cell_type": "markdown",
   "metadata": {
    "id": "_OnhYb5tN23g"
   },
   "source": [
    "## Loading the data as a Spark Dataframe"
   ]
  },
  {
   "cell_type": "code",
   "execution_count": null,
   "metadata": {
    "id": "8gTNMYLC_ydZ"
   },
   "outputs": [],
   "source": [
    "file_path = '/content/drive/MyDrive/UA_SA_ML/case_study.csv'"
   ]
  },
  {
   "cell_type": "code",
   "execution_count": null,
   "metadata": {
    "id": "k3jP7S_SAPBf"
   },
   "outputs": [],
   "source": [
    "df = Spark.read.csv(file_path, header=True, inferSchema=True)"
   ]
  },
  {
   "cell_type": "markdown",
   "metadata": {
    "id": "f_8GvM2lOYXA"
   },
   "source": [
    "## Examining the schema"
   ]
  },
  {
   "cell_type": "code",
   "execution_count": null,
   "metadata": {
    "colab": {
     "base_uri": "https://localhost:8080/"
    },
    "id": "WHE0YUduAv_T",
    "outputId": "725e6d83-47c8-4e9c-bc8f-09664223ebbe"
   },
   "outputs": [
    {
     "name": "stdout",
     "output_type": "stream",
     "text": [
      "root\n",
      " |-- date: date (nullable = true)\n",
      " |-- airport: string (nullable = true)\n",
      " |-- reference_number: string (nullable = true)\n",
      " |-- airline: string (nullable = true)\n",
      " |-- departures: integer (nullable = true)\n",
      " |-- count_of_compliant_audit: integer (nullable = true)\n",
      " |-- count_of_audit: integer (nullable = true)\n",
      "\n"
     ]
    }
   ],
   "source": [
    "df.printSchema()"
   ]
  },
  {
   "cell_type": "markdown",
   "metadata": {
    "id": "sFeAE5t-ObIH"
   },
   "source": [
    "## Descriptive Statistics"
   ]
  },
  {
   "cell_type": "code",
   "execution_count": 2,
   "metadata": {
    "colab": {
     "base_uri": "https://localhost:8080/",
     "height": 211
    },
    "id": "T7mRo82MyQKb",
    "outputId": "25d10667-4c0c-4194-bc76-b09450086520"
   },
   "outputs": [
    {
     "ename": "NameError",
     "evalue": "name 'df' is not defined",
     "output_type": "error",
     "traceback": [
      "\u001b[0;31m---------------------------------------------------------------------------\u001b[0m",
      "\u001b[0;31mNameError\u001b[0m                                 Traceback (most recent call last)",
      "\u001b[0;32m/tmp/ipython-input-3007157825.py\u001b[0m in \u001b[0;36m<cell line: 0>\u001b[0;34m()\u001b[0m\n\u001b[1;32m      1\u001b[0m \u001b[0;31m# Get all numeric columns of type int or float\u001b[0m\u001b[0;34m\u001b[0m\u001b[0;34m\u001b[0m\u001b[0m\n\u001b[0;32m----> 2\u001b[0;31m numeric_columns = [field.name for field in df.schema.fields\n\u001b[0m\u001b[1;32m      3\u001b[0m                    if isinstance(field.dataType, (T.StringType, T.IntegerType, T.FloatType, T.DoubleType))]\n\u001b[1;32m      4\u001b[0m \u001b[0;34m\u001b[0m\u001b[0m\n\u001b[1;32m      5\u001b[0m \u001b[0;31m# Describe only those numeric columns\u001b[0m\u001b[0;34m\u001b[0m\u001b[0;34m\u001b[0m\u001b[0m\n",
      "\u001b[0;31mNameError\u001b[0m: name 'df' is not defined"
     ]
    }
   ],
   "source": [
    "# Get all numeric columns of type int or float\n",
    "numeric_columns = [field.name for field in df.schema.fields\n",
    "                   if isinstance(field.dataType, (T.StringType, T.IntegerType, T.FloatType, T.DoubleType))]\n",
    "\n",
    "# Describe only those numeric columns\n",
    "summary_stats = df.describe(numeric_columns)\n",
    "summary_stats.show(truncate=False)"
   ]
  },
  {
   "cell_type": "markdown",
   "metadata": {
    "id": "P6YwB0-echsZ"
   },
   "source": [
    "## Time Series Analysis"
   ]
  },
  {
   "cell_type": "code",
   "execution_count": null,
   "metadata": {
    "id": "MbKRfbsxgmc4"
   },
   "outputs": [],
   "source": [
    "import plotly.express as px\n",
    "import pandas as pd"
   ]
  },
  {
   "cell_type": "code",
   "execution_count": null,
   "metadata": {
    "colab": {
     "base_uri": "https://localhost:8080/"
    },
    "id": "t3C0ef8jgyXb",
    "outputId": "bdc74b9e-cc3e-4021-b6bf-dfd9b19c11de"
   },
   "outputs": [
    {
     "name": "stdout",
     "output_type": "stream",
     "text": [
      "+---------------+\n",
      "|        airline|\n",
      "+---------------+\n",
      "|United Airlines|\n",
      "|            UAX|\n",
      "|Partner Airline|\n",
      "|       Mainline|\n",
      "|           NULL|\n",
      "+---------------+\n",
      "\n"
     ]
    }
   ],
   "source": [
    "df.select(\"airline\").distinct().show()"
   ]
  },
  {
   "cell_type": "code",
   "execution_count": null,
   "metadata": {
    "id": "r39cVVWOlEy7"
   },
   "outputs": [],
   "source": [
    "def calculate_compliance_rate(df, metric_name='compliance_rate', numerator_col='count_of_compliant_audit', denominator_col='count_of_audit'):\n",
    "    df = df.withColumn(metric_name, F.expr(f\"({numerator_col} / {denominator_col}) * 100\"))\n",
    "    return df"
   ]
  },
  {
   "cell_type": "code",
   "execution_count": null,
   "metadata": {
    "id": "ulIDyOBOmRt3"
   },
   "outputs": [],
   "source": [
    "df = calculate_compliance_rate(df, metric_name='compliance_rate', numerator_col='count_of_compliant_audit', denominator_col='count_of_audit')"
   ]
  },
  {
   "cell_type": "code",
   "execution_count": null,
   "metadata": {
    "id": "hpEJQHYVcnW8"
   },
   "outputs": [],
   "source": [
    "import plotly.express as px\n",
    "import pandas as pd\n",
    "from datetime import datetime\n",
    "from pyspark.sql import functions as F\n",
    "\n",
    "def create_cross_comparison_graph(df, date_col='date', filter_column='airline', filter_value='United Airlines', metric_cols='compliance_rate', start_date=None, end_date=None):\n",
    "    \"\"\"\n",
    "    Creates a spline graph for cross-comparison of average metric values\n",
    "    across audit groups (reference_number) and monthly time periods, with optional filtering by column and date range.\n",
    "    Supports multiple metrics and automatically detects formatting for hover (percentage, int, float, etc.).\n",
    "\n",
    "    Parameters:\n",
    "    - df: PySpark DataFrame with the schema including 'date', 'reference_number', and the metric columns.\n",
    "    - date_col: Column name for date (default: 'date').\n",
    "    - filter_column: Column to filter on (e.g., 'airline'). If None, no filtering is applied.\n",
    "    - filter_value: Value(s) to filter by (e.g., 'United Airlines' or ['United Airlines', 'Delta']). If None, no filtering is applied.\n",
    "    - metric_cols: Column name(s) for the metrics to analyze (e.g., 'compliance_rate' or ['compliance_rate', 'another_metric']). Required.\n",
    "    - start_date: Start date for filtering (format: 'YYYY-MM-DD' or None). If None, no start date filter is applied.\n",
    "    - end_date: End date for filtering (format: 'YYYY-MM-DD' or None). If None, no end date filter is applied.\n",
    "    \"\"\"\n",
    "    # Handle metric_cols as string or list\n",
    "    if isinstance(metric_cols, str):\n",
    "        metric_cols = [metric_cols]\n",
    "\n",
    "    # Validate that reference_number, metric_cols, and date_col exist in DataFrame\n",
    "    if 'reference_number' not in df.columns:\n",
    "        raise ValueError(\"Column 'reference_number' not found in DataFrame\")\n",
    "    for metric in metric_cols:\n",
    "        if metric not in df.columns:\n",
    "            raise ValueError(f\"Metric column '{metric}' not found in DataFrame\")\n",
    "    if date_col not in df.columns:\n",
    "        raise ValueError(f\"Date column '{date_col}' not found in DataFrame\")\n",
    "\n",
    "    # Apply filtering for filter_column and filter_value\n",
    "    df_filtered = df\n",
    "    if filter_column is not None and filter_value is not None:\n",
    "        if filter_column in df.columns:\n",
    "            if isinstance(filter_value, list):\n",
    "                df_filtered = df_filtered.filter(F.col(filter_column).isin(filter_value))\n",
    "            else:\n",
    "                df_filtered = df_filtered.filter(F.col(filter_column) == filter_value)\n",
    "\n",
    "    # Apply date range filtering if start_date or end_date is provided\n",
    "    if start_date is not None:\n",
    "        try:\n",
    "            datetime.strptime(start_date, '%Y-%m-%d')  # Validate format\n",
    "            df_filtered = df_filtered.filter(F.col(date_col) >= start_date)\n",
    "        except ValueError:\n",
    "            raise ValueError(\"start_date must be in 'YYYY-MM-DD' format or None\")\n",
    "    if end_date is not None:\n",
    "        try:\n",
    "            datetime.strptime(end_date, '%Y-%m-%d')  # Validate format\n",
    "            df_filtered = df_filtered.filter(F.col(date_col) <= end_date)\n",
    "        except ValueError:\n",
    "            raise ValueError(\"end_date must be in 'YYYY-MM-DD' format or None\")\n",
    "\n",
    "    # Drop rows where any metric_col is null to ensure clean aggregation\n",
    "    if metric_cols:\n",
    "        for metric in metric_cols:\n",
    "            df_filtered = df_filtered.filter(F.col(metric).isNotNull())\n",
    "\n",
    "    # Aggregate average metric values by month and reference_number\n",
    "    aggregated = df_filtered.groupBy(\n",
    "        F.date_format(F.col(date_col), \"yyyy-MM\").alias(\"month\"),\n",
    "        \"reference_number\"\n",
    "    ).agg(\n",
    "        *(F.avg(F.col(metric)).alias(f\"avg_{metric}\") for metric in metric_cols)\n",
    "    ).orderBy(\"month\", \"reference_number\")\n",
    "\n",
    "    # Convert to Pandas for Plotly\n",
    "    pd_agg = aggregated.toPandas()\n",
    "\n",
    "    # Melt the DataFrame for plotting multiple metrics\n",
    "    pd_melt = pd.melt(\n",
    "        pd_agg,\n",
    "        id_vars=['month', 'reference_number'],\n",
    "        value_vars=[f'avg_{metric}' for metric in metric_cols],\n",
    "        var_name='avg_metric',\n",
    "        value_name='avg_value'\n",
    "    )\n",
    "    pd_melt['metric'] = pd_melt['avg_metric'].str.replace('avg_', '')\n",
    "\n",
    "    # Define title based on filtering\n",
    "    title = \"Cross Comparison of Average Metrics Across Audit Groups Over Time\"\n",
    "    if filter_column is not None and filter_value is not None:\n",
    "        if isinstance(filter_value, list):\n",
    "            title += f\" ({', '.join(filter_value)})\"\n",
    "        else:\n",
    "            title += f\" ({filter_value})\"\n",
    "    if start_date is not None or end_date is not None:\n",
    "        date_range = f\"[{start_date or 'Start'} to {end_date or 'End'}]\"\n",
    "        title += f\" {date_range}\"\n",
    "\n",
    "    # Create line plot with splines for time series comparison across audit groups\n",
    "    fig = px.line(\n",
    "        pd_melt,\n",
    "        x=\"month\",\n",
    "        y=\"avg_value\",\n",
    "        color=\"reference_number\",\n",
    "        facet_row=\"metric\",\n",
    "        line_shape='spline',  # Use spline interpolation for smooth lines\n",
    "        title=title,\n",
    "        labels={\n",
    "            \"month\": \"Month (YYYY-MM)\",\n",
    "            \"avg_value\": \"Average Value\",\n",
    "            \"reference_number\": \"Audit Group\",\n",
    "            \"metric\": \"Metric\"\n",
    "        },\n",
    "        category_orders={\"metric\": metric_cols},  # Preserve metric order\n",
    "        color_discrete_sequence=px.colors.sequential.Jet,\n",
    "    )\n",
    "\n",
    "    # Apply dark theme with black background\n",
    "    fig.update_layout(\n",
    "        template=\"plotly_dark\",\n",
    "        paper_bgcolor=\"black\",\n",
    "        plot_bgcolor=\"black\",\n",
    "        font_color=\"white\",\n",
    "        title_font_size=20,\n",
    "        legend_title_font_color=\"white\",\n",
    "        legend_font_color=\"white\"\n",
    "    )\n",
    "\n",
    "    # Rotate x-axis labels for better readability\n",
    "    fig.update_xaxes(tickangle=45)\n",
    "\n",
    "    # Automatically detect formats and update y-axes and hover templates per metric\n",
    "    for i, metric in enumerate(metric_cols):\n",
    "        col = f\"avg_{metric}\"\n",
    "        vals = pd_agg[col].dropna()\n",
    "        if len(vals) == 0:\n",
    "            continue\n",
    "        min_v = vals.min()\n",
    "        max_v = vals.max()\n",
    "\n",
    "        # Determine if percentage based on name or range\n",
    "        name_lower = metric.lower()\n",
    "        is_percentage = any(word in name_lower for word in ['rate', 'percent', 'pct', 'compliance', 'ratio', 'proportion']) or (min_v >= 0 and max_v <= 100)\n",
    "\n",
    "        if is_percentage:\n",
    "            if max_v <= 1.0001:\n",
    "                hover_format = '.2%'\n",
    "                y_label = f\"Average {metric.replace('_', ' ').title()} (%)\"\n",
    "            else:\n",
    "                hover_format = '.2f%'\n",
    "                y_label = f\"Average {metric.replace('_', ' ').title()} (%)\"\n",
    "        else:\n",
    "            if all(abs(v - round(v)) < 1e-6 for v in vals):\n",
    "                hover_format = '.0f'\n",
    "                y_label = f\"Average {metric.replace('_', ' ').title()}\"\n",
    "            else:\n",
    "                hover_format = '.2f'\n",
    "                y_label = f\"Average {metric.replace('_', ' ').title()}\"\n",
    "\n",
    "        # Update y-axis label and hover template for this subplot row\n",
    "        row_num = i + 1\n",
    "        fig.update_yaxes(title_text=y_label, row=row_num, col=1)\n",
    "        fig.update_traces(\n",
    "            hovertemplate=\"Month: %{x}<br>Avg: %{y:\" + hover_format + \"}<br>Audit Group: %{trace.name}\",\n",
    "            row=row_num, col=1\n",
    "        )\n",
    "\n",
    "    # Show the figure\n",
    "    fig.show()"
   ]
  },
  {
   "cell_type": "code",
   "execution_count": null,
   "metadata": {
    "colab": {
     "base_uri": "https://localhost:8080/",
     "height": 159
    },
    "id": "qDUda1JZk1hq",
    "outputId": "68c256ba-68f4-4299-c0ec-9ca557ae6e07"
   },
   "outputs": [
    {
     "ename": "TypeError",
     "evalue": "create_cross_comparison_graph() got an unexpected keyword argument 'metric_col'",
     "output_type": "error",
     "traceback": [
      "\u001b[0;31m---------------------------------------------------------------------------\u001b[0m",
      "\u001b[0;31mTypeError\u001b[0m                                 Traceback (most recent call last)",
      "\u001b[0;32m/tmp/ipython-input-4286580036.py\u001b[0m in \u001b[0;36m<cell line: 0>\u001b[0;34m()\u001b[0m\n\u001b[0;32m----> 1\u001b[0;31m \u001b[0mcreate_cross_comparison_graph\u001b[0m\u001b[0;34m(\u001b[0m\u001b[0mdf\u001b[0m\u001b[0;34m,\u001b[0m \u001b[0mdate_col\u001b[0m\u001b[0;34m=\u001b[0m\u001b[0;34m'date'\u001b[0m\u001b[0;34m,\u001b[0m \u001b[0mfilter_column\u001b[0m\u001b[0;34m=\u001b[0m\u001b[0;34m'reference_number'\u001b[0m\u001b[0;34m,\u001b[0m \u001b[0mfilter_value\u001b[0m\u001b[0;34m=\u001b[0m\u001b[0;34m[\u001b[0m\u001b[0;34m'Audit 3'\u001b[0m\u001b[0;34m]\u001b[0m\u001b[0;34m,\u001b[0m \u001b[0mmetric_col\u001b[0m\u001b[0;34m=\u001b[0m\u001b[0;34m'compliance_rate'\u001b[0m\u001b[0;34m,\u001b[0m \u001b[0mstart_date\u001b[0m\u001b[0;34m=\u001b[0m\u001b[0;32mNone\u001b[0m\u001b[0;34m,\u001b[0m \u001b[0mend_date\u001b[0m\u001b[0;34m=\u001b[0m\u001b[0;32mNone\u001b[0m\u001b[0;34m)\u001b[0m\u001b[0;34m\u001b[0m\u001b[0;34m\u001b[0m\u001b[0m\n\u001b[0m",
      "\u001b[0;31mTypeError\u001b[0m: create_cross_comparison_graph() got an unexpected keyword argument 'metric_col'"
     ]
    }
   ],
   "source": [
    "create_cross_comparison_graph(df, date_col='date', filter_column='reference_number', filter_value=['Audit 3'], metric_col='compliance_rate', start_date=None, end_date=None)"
   ]
  },
  {
   "cell_type": "code",
   "execution_count": null,
   "metadata": {
    "colab": {
     "base_uri": "https://localhost:8080/",
     "height": 542
    },
    "id": "dO_cMX6mzss0",
    "outputId": "809d1544-de92-41ac-b2f4-c53545ccb561"
   },
   "outputs": [
    {
     "data": {
      "text/html": [
       "<html>\n",
       "<head><meta charset=\"utf-8\" /></head>\n",
       "<body>\n",
       "    <div>            <script src=\"https://cdnjs.cloudflare.com/ajax/libs/mathjax/2.7.5/MathJax.js?config=TeX-AMS-MML_SVG\"></script><script type=\"text/javascript\">if (window.MathJax && window.MathJax.Hub && window.MathJax.Hub.Config) {window.MathJax.Hub.Config({SVG: {font: \"STIX-Web\"}});}</script>                <script type=\"text/javascript\">window.PlotlyConfig = {MathJaxConfig: 'local'};</script>\n",
       "        <script charset=\"utf-8\" src=\"https://cdn.plot.ly/plotly-2.35.2.min.js\"></script>                <div id=\"974054fa-c2ed-4fde-89cc-49e417a3afde\" class=\"plotly-graph-div\" style=\"height:525px; width:100%;\"></div>            <script type=\"text/javascript\">                                    window.PLOTLYENV=window.PLOTLYENV || {};                                    if (document.getElementById(\"974054fa-c2ed-4fde-89cc-49e417a3afde\")) {                    Plotly.newPlot(                        \"974054fa-c2ed-4fde-89cc-49e417a3afde\",                        [{\"hovertemplate\":\"Month: %{x}\\u003cbr\\u003eAvg: %{y:.2f%}\\u003cbr\\u003eAudit Group: %{trace.name}\",\"legendgroup\":\"Audit 3\",\"line\":{\"color\":\"rgb(0,0,131)\",\"dash\":\"solid\",\"shape\":\"spline\"},\"marker\":{\"symbol\":\"circle\"},\"mode\":\"lines\",\"name\":\"Audit 3\",\"orientation\":\"v\",\"showlegend\":true,\"x\":[\"2023-07\",\"2023-08\",\"2023-09\",\"2023-10\",\"2023-11\",\"2023-12\",\"2024-01\",\"2024-02\",\"2024-03\",\"2024-04\",\"2024-05\",\"2024-06\",\"2024-07\",\"2024-08\",\"2024-09\",\"2024-10\",\"2024-11\",\"2024-12\",\"2025-01\",\"2025-02\",\"2025-03\",\"2025-04\",\"2025-05\",\"2025-06\",\"2025-07\",\"2025-08\"],\"xaxis\":\"x2\",\"y\":[1.0,1.488888888888889,1.131578947368421,1.2702702702702702,1.105263157894737,1.1666666666666667,1.105263157894737,1.8333333333333333,1.2741935483870968,1.4634146341463414,1.2222222222222223,1.3484848484848484,1.3733333333333333,1.8117816091954022,1.8169838945827232,1.0681818181818181,1.0520833333333333,1.0084033613445378,1.0303030303030303,1.0625,1.05,1.0317460317460319,1.1020408163265305,1.082191780821918,1.0655737704918034,1.0],\"yaxis\":\"y2\",\"type\":\"scatter\"},{\"hovertemplate\":\"Month: %{x}\\u003cbr\\u003eAvg: %{y:.2f%}\\u003cbr\\u003eAudit Group: %{trace.name}\",\"legendgroup\":\"Audit 3\",\"line\":{\"color\":\"rgb(0,0,131)\",\"dash\":\"solid\",\"shape\":\"spline\"},\"marker\":{\"symbol\":\"circle\"},\"mode\":\"lines\",\"name\":\"Audit 3\",\"orientation\":\"v\",\"showlegend\":false,\"x\":[\"2023-07\",\"2023-08\",\"2023-09\",\"2023-10\",\"2023-11\",\"2023-12\",\"2024-01\",\"2024-02\",\"2024-03\",\"2024-04\",\"2024-05\",\"2024-06\",\"2024-07\",\"2024-08\",\"2024-09\",\"2024-10\",\"2024-11\",\"2024-12\",\"2025-01\",\"2025-02\",\"2025-03\",\"2025-04\",\"2025-05\",\"2025-06\",\"2025-07\",\"2025-08\"],\"xaxis\":\"x\",\"y\":[65.0,56.666666666666664,47.36842105263158,58.108108108108105,60.526315789473685,44.44444444444444,39.473684210526315,52.5,49.23195084485407,57.69647696476965,53.47222222222222,63.63636363636363,54.88888888888888,69.4683908045977,69.39970717423134,52.27272727272727,41.145833333333336,51.260504201680675,53.03030303030303,53.645833333333336,52.5,51.98412698412698,59.183673469387756,54.10958904109589,54.91803278688525,75.0],\"yaxis\":\"y\",\"type\":\"scatter\"}],                        {\"template\":{\"data\":{\"barpolar\":[{\"marker\":{\"line\":{\"color\":\"rgb(17,17,17)\",\"width\":0.5},\"pattern\":{\"fillmode\":\"overlay\",\"size\":10,\"solidity\":0.2}},\"type\":\"barpolar\"}],\"bar\":[{\"error_x\":{\"color\":\"#f2f5fa\"},\"error_y\":{\"color\":\"#f2f5fa\"},\"marker\":{\"line\":{\"color\":\"rgb(17,17,17)\",\"width\":0.5},\"pattern\":{\"fillmode\":\"overlay\",\"size\":10,\"solidity\":0.2}},\"type\":\"bar\"}],\"carpet\":[{\"aaxis\":{\"endlinecolor\":\"#A2B1C6\",\"gridcolor\":\"#506784\",\"linecolor\":\"#506784\",\"minorgridcolor\":\"#506784\",\"startlinecolor\":\"#A2B1C6\"},\"baxis\":{\"endlinecolor\":\"#A2B1C6\",\"gridcolor\":\"#506784\",\"linecolor\":\"#506784\",\"minorgridcolor\":\"#506784\",\"startlinecolor\":\"#A2B1C6\"},\"type\":\"carpet\"}],\"choropleth\":[{\"colorbar\":{\"outlinewidth\":0,\"ticks\":\"\"},\"type\":\"choropleth\"}],\"contourcarpet\":[{\"colorbar\":{\"outlinewidth\":0,\"ticks\":\"\"},\"type\":\"contourcarpet\"}],\"contour\":[{\"colorbar\":{\"outlinewidth\":0,\"ticks\":\"\"},\"colorscale\":[[0.0,\"#0d0887\"],[0.1111111111111111,\"#46039f\"],[0.2222222222222222,\"#7201a8\"],[0.3333333333333333,\"#9c179e\"],[0.4444444444444444,\"#bd3786\"],[0.5555555555555556,\"#d8576b\"],[0.6666666666666666,\"#ed7953\"],[0.7777777777777778,\"#fb9f3a\"],[0.8888888888888888,\"#fdca26\"],[1.0,\"#f0f921\"]],\"type\":\"contour\"}],\"heatmapgl\":[{\"colorbar\":{\"outlinewidth\":0,\"ticks\":\"\"},\"colorscale\":[[0.0,\"#0d0887\"],[0.1111111111111111,\"#46039f\"],[0.2222222222222222,\"#7201a8\"],[0.3333333333333333,\"#9c179e\"],[0.4444444444444444,\"#bd3786\"],[0.5555555555555556,\"#d8576b\"],[0.6666666666666666,\"#ed7953\"],[0.7777777777777778,\"#fb9f3a\"],[0.8888888888888888,\"#fdca26\"],[1.0,\"#f0f921\"]],\"type\":\"heatmapgl\"}],\"heatmap\":[{\"colorbar\":{\"outlinewidth\":0,\"ticks\":\"\"},\"colorscale\":[[0.0,\"#0d0887\"],[0.1111111111111111,\"#46039f\"],[0.2222222222222222,\"#7201a8\"],[0.3333333333333333,\"#9c179e\"],[0.4444444444444444,\"#bd3786\"],[0.5555555555555556,\"#d8576b\"],[0.6666666666666666,\"#ed7953\"],[0.7777777777777778,\"#fb9f3a\"],[0.8888888888888888,\"#fdca26\"],[1.0,\"#f0f921\"]],\"type\":\"heatmap\"}],\"histogram2dcontour\":[{\"colorbar\":{\"outlinewidth\":0,\"ticks\":\"\"},\"colorscale\":[[0.0,\"#0d0887\"],[0.1111111111111111,\"#46039f\"],[0.2222222222222222,\"#7201a8\"],[0.3333333333333333,\"#9c179e\"],[0.4444444444444444,\"#bd3786\"],[0.5555555555555556,\"#d8576b\"],[0.6666666666666666,\"#ed7953\"],[0.7777777777777778,\"#fb9f3a\"],[0.8888888888888888,\"#fdca26\"],[1.0,\"#f0f921\"]],\"type\":\"histogram2dcontour\"}],\"histogram2d\":[{\"colorbar\":{\"outlinewidth\":0,\"ticks\":\"\"},\"colorscale\":[[0.0,\"#0d0887\"],[0.1111111111111111,\"#46039f\"],[0.2222222222222222,\"#7201a8\"],[0.3333333333333333,\"#9c179e\"],[0.4444444444444444,\"#bd3786\"],[0.5555555555555556,\"#d8576b\"],[0.6666666666666666,\"#ed7953\"],[0.7777777777777778,\"#fb9f3a\"],[0.8888888888888888,\"#fdca26\"],[1.0,\"#f0f921\"]],\"type\":\"histogram2d\"}],\"histogram\":[{\"marker\":{\"pattern\":{\"fillmode\":\"overlay\",\"size\":10,\"solidity\":0.2}},\"type\":\"histogram\"}],\"mesh3d\":[{\"colorbar\":{\"outlinewidth\":0,\"ticks\":\"\"},\"type\":\"mesh3d\"}],\"parcoords\":[{\"line\":{\"colorbar\":{\"outlinewidth\":0,\"ticks\":\"\"}},\"type\":\"parcoords\"}],\"pie\":[{\"automargin\":true,\"type\":\"pie\"}],\"scatter3d\":[{\"line\":{\"colorbar\":{\"outlinewidth\":0,\"ticks\":\"\"}},\"marker\":{\"colorbar\":{\"outlinewidth\":0,\"ticks\":\"\"}},\"type\":\"scatter3d\"}],\"scattercarpet\":[{\"marker\":{\"colorbar\":{\"outlinewidth\":0,\"ticks\":\"\"}},\"type\":\"scattercarpet\"}],\"scattergeo\":[{\"marker\":{\"colorbar\":{\"outlinewidth\":0,\"ticks\":\"\"}},\"type\":\"scattergeo\"}],\"scattergl\":[{\"marker\":{\"line\":{\"color\":\"#283442\"}},\"type\":\"scattergl\"}],\"scattermapbox\":[{\"marker\":{\"colorbar\":{\"outlinewidth\":0,\"ticks\":\"\"}},\"type\":\"scattermapbox\"}],\"scatterpolargl\":[{\"marker\":{\"colorbar\":{\"outlinewidth\":0,\"ticks\":\"\"}},\"type\":\"scatterpolargl\"}],\"scatterpolar\":[{\"marker\":{\"colorbar\":{\"outlinewidth\":0,\"ticks\":\"\"}},\"type\":\"scatterpolar\"}],\"scatter\":[{\"marker\":{\"line\":{\"color\":\"#283442\"}},\"type\":\"scatter\"}],\"scatterternary\":[{\"marker\":{\"colorbar\":{\"outlinewidth\":0,\"ticks\":\"\"}},\"type\":\"scatterternary\"}],\"surface\":[{\"colorbar\":{\"outlinewidth\":0,\"ticks\":\"\"},\"colorscale\":[[0.0,\"#0d0887\"],[0.1111111111111111,\"#46039f\"],[0.2222222222222222,\"#7201a8\"],[0.3333333333333333,\"#9c179e\"],[0.4444444444444444,\"#bd3786\"],[0.5555555555555556,\"#d8576b\"],[0.6666666666666666,\"#ed7953\"],[0.7777777777777778,\"#fb9f3a\"],[0.8888888888888888,\"#fdca26\"],[1.0,\"#f0f921\"]],\"type\":\"surface\"}],\"table\":[{\"cells\":{\"fill\":{\"color\":\"#506784\"},\"line\":{\"color\":\"rgb(17,17,17)\"}},\"header\":{\"fill\":{\"color\":\"#2a3f5f\"},\"line\":{\"color\":\"rgb(17,17,17)\"}},\"type\":\"table\"}]},\"layout\":{\"annotationdefaults\":{\"arrowcolor\":\"#f2f5fa\",\"arrowhead\":0,\"arrowwidth\":1},\"autotypenumbers\":\"strict\",\"coloraxis\":{\"colorbar\":{\"outlinewidth\":0,\"ticks\":\"\"}},\"colorscale\":{\"diverging\":[[0,\"#8e0152\"],[0.1,\"#c51b7d\"],[0.2,\"#de77ae\"],[0.3,\"#f1b6da\"],[0.4,\"#fde0ef\"],[0.5,\"#f7f7f7\"],[0.6,\"#e6f5d0\"],[0.7,\"#b8e186\"],[0.8,\"#7fbc41\"],[0.9,\"#4d9221\"],[1,\"#276419\"]],\"sequential\":[[0.0,\"#0d0887\"],[0.1111111111111111,\"#46039f\"],[0.2222222222222222,\"#7201a8\"],[0.3333333333333333,\"#9c179e\"],[0.4444444444444444,\"#bd3786\"],[0.5555555555555556,\"#d8576b\"],[0.6666666666666666,\"#ed7953\"],[0.7777777777777778,\"#fb9f3a\"],[0.8888888888888888,\"#fdca26\"],[1.0,\"#f0f921\"]],\"sequentialminus\":[[0.0,\"#0d0887\"],[0.1111111111111111,\"#46039f\"],[0.2222222222222222,\"#7201a8\"],[0.3333333333333333,\"#9c179e\"],[0.4444444444444444,\"#bd3786\"],[0.5555555555555556,\"#d8576b\"],[0.6666666666666666,\"#ed7953\"],[0.7777777777777778,\"#fb9f3a\"],[0.8888888888888888,\"#fdca26\"],[1.0,\"#f0f921\"]]},\"colorway\":[\"#636efa\",\"#EF553B\",\"#00cc96\",\"#ab63fa\",\"#FFA15A\",\"#19d3f3\",\"#FF6692\",\"#B6E880\",\"#FF97FF\",\"#FECB52\"],\"font\":{\"color\":\"#f2f5fa\"},\"geo\":{\"bgcolor\":\"rgb(17,17,17)\",\"lakecolor\":\"rgb(17,17,17)\",\"landcolor\":\"rgb(17,17,17)\",\"showlakes\":true,\"showland\":true,\"subunitcolor\":\"#506784\"},\"hoverlabel\":{\"align\":\"left\"},\"hovermode\":\"closest\",\"mapbox\":{\"style\":\"dark\"},\"paper_bgcolor\":\"rgb(17,17,17)\",\"plot_bgcolor\":\"rgb(17,17,17)\",\"polar\":{\"angularaxis\":{\"gridcolor\":\"#506784\",\"linecolor\":\"#506784\",\"ticks\":\"\"},\"bgcolor\":\"rgb(17,17,17)\",\"radialaxis\":{\"gridcolor\":\"#506784\",\"linecolor\":\"#506784\",\"ticks\":\"\"}},\"scene\":{\"xaxis\":{\"backgroundcolor\":\"rgb(17,17,17)\",\"gridcolor\":\"#506784\",\"gridwidth\":2,\"linecolor\":\"#506784\",\"showbackground\":true,\"ticks\":\"\",\"zerolinecolor\":\"#C8D4E3\"},\"yaxis\":{\"backgroundcolor\":\"rgb(17,17,17)\",\"gridcolor\":\"#506784\",\"gridwidth\":2,\"linecolor\":\"#506784\",\"showbackground\":true,\"ticks\":\"\",\"zerolinecolor\":\"#C8D4E3\"},\"zaxis\":{\"backgroundcolor\":\"rgb(17,17,17)\",\"gridcolor\":\"#506784\",\"gridwidth\":2,\"linecolor\":\"#506784\",\"showbackground\":true,\"ticks\":\"\",\"zerolinecolor\":\"#C8D4E3\"}},\"shapedefaults\":{\"line\":{\"color\":\"#f2f5fa\"}},\"sliderdefaults\":{\"bgcolor\":\"#C8D4E3\",\"bordercolor\":\"rgb(17,17,17)\",\"borderwidth\":1,\"tickwidth\":0},\"ternary\":{\"aaxis\":{\"gridcolor\":\"#506784\",\"linecolor\":\"#506784\",\"ticks\":\"\"},\"baxis\":{\"gridcolor\":\"#506784\",\"linecolor\":\"#506784\",\"ticks\":\"\"},\"bgcolor\":\"rgb(17,17,17)\",\"caxis\":{\"gridcolor\":\"#506784\",\"linecolor\":\"#506784\",\"ticks\":\"\"}},\"title\":{\"x\":0.05},\"updatemenudefaults\":{\"bgcolor\":\"#506784\",\"borderwidth\":0},\"xaxis\":{\"automargin\":true,\"gridcolor\":\"#283442\",\"linecolor\":\"#506784\",\"ticks\":\"\",\"title\":{\"standoff\":15},\"zerolinecolor\":\"#283442\",\"zerolinewidth\":2},\"yaxis\":{\"automargin\":true,\"gridcolor\":\"#283442\",\"linecolor\":\"#506784\",\"ticks\":\"\",\"title\":{\"standoff\":15},\"zerolinecolor\":\"#283442\",\"zerolinewidth\":2}}},\"xaxis\":{\"anchor\":\"y\",\"domain\":[0.0,0.98],\"title\":{\"text\":\"Month (YYYY-MM)\"},\"tickangle\":45},\"yaxis\":{\"anchor\":\"x\",\"domain\":[0.0,0.485],\"title\":{\"text\":\"Average Count Of Audit (%)\"}},\"xaxis2\":{\"anchor\":\"y2\",\"domain\":[0.0,0.98],\"matches\":\"x\",\"showticklabels\":false,\"tickangle\":45},\"yaxis2\":{\"anchor\":\"x2\",\"domain\":[0.515,1.0],\"matches\":\"y\",\"title\":{\"text\":\"Average Compliance Rate (%)\"}},\"annotations\":[{\"font\":{},\"showarrow\":false,\"text\":\"Metric=compliance_rate\",\"textangle\":90,\"x\":0.98,\"xanchor\":\"left\",\"xref\":\"paper\",\"y\":0.2425,\"yanchor\":\"middle\",\"yref\":\"paper\"},{\"font\":{},\"showarrow\":false,\"text\":\"Metric=count_of_audit\",\"textangle\":90,\"x\":0.98,\"xanchor\":\"left\",\"xref\":\"paper\",\"y\":0.7575000000000001,\"yanchor\":\"middle\",\"yref\":\"paper\"}],\"legend\":{\"title\":{\"text\":\"Audit Group\",\"font\":{\"color\":\"white\"}},\"tracegroupgap\":0,\"font\":{\"color\":\"white\"}},\"title\":{\"text\":\"Cross Comparison of Average Metrics Across Audit Groups Over Time (Audit 3)\",\"font\":{\"size\":20}},\"font\":{\"color\":\"white\"},\"paper_bgcolor\":\"black\",\"plot_bgcolor\":\"black\"},                        {\"responsive\": true}                    ).then(function(){\n",
       "                            \n",
       "var gd = document.getElementById('974054fa-c2ed-4fde-89cc-49e417a3afde');\n",
       "var x = new MutationObserver(function (mutations, observer) {{\n",
       "        var display = window.getComputedStyle(gd).display;\n",
       "        if (!display || display === 'none') {{\n",
       "            console.log([gd, 'removed!']);\n",
       "            Plotly.purge(gd);\n",
       "            observer.disconnect();\n",
       "        }}\n",
       "}});\n",
       "\n",
       "// Listen for the removal of the full notebook cells\n",
       "var notebookContainer = gd.closest('#notebook-container');\n",
       "if (notebookContainer) {{\n",
       "    x.observe(notebookContainer, {childList: true});\n",
       "}}\n",
       "\n",
       "// Listen for the clearing of the current output cell\n",
       "var outputEl = gd.closest('.output');\n",
       "if (outputEl) {{\n",
       "    x.observe(outputEl, {childList: true});\n",
       "}}\n",
       "\n",
       "                        })                };                            </script>        </div>\n",
       "</body>\n",
       "</html>"
      ]
     },
     "metadata": {},
     "output_type": "display_data"
    }
   ],
   "source": [
    "create_cross_comparison_graph(df, date_col='date', filter_column='reference_number', filter_value=['Audit 3'], metric_cols=['count_of_audit', 'compliance_rate'], start_date=None, end_date=None)"
   ]
  },
  {
   "cell_type": "code",
   "execution_count": null,
   "metadata": {
    "colab": {
     "base_uri": "https://localhost:8080/",
     "height": 542
    },
    "id": "ejY2AHHBzyjN",
    "outputId": "f7cd0eed-dd5a-4922-f2e3-13331fdcb6b3"
   },
   "outputs": [
    {
     "data": {
      "text/html": [
       "<html>\n",
       "<head><meta charset=\"utf-8\" /></head>\n",
       "<body>\n",
       "    <div>            <script src=\"https://cdnjs.cloudflare.com/ajax/libs/mathjax/2.7.5/MathJax.js?config=TeX-AMS-MML_SVG\"></script><script type=\"text/javascript\">if (window.MathJax && window.MathJax.Hub && window.MathJax.Hub.Config) {window.MathJax.Hub.Config({SVG: {font: \"STIX-Web\"}});}</script>                <script type=\"text/javascript\">window.PlotlyConfig = {MathJaxConfig: 'local'};</script>\n",
       "        <script charset=\"utf-8\" src=\"https://cdn.plot.ly/plotly-2.35.2.min.js\"></script>                <div id=\"a6fc218f-3daa-4ad7-a028-00068d7cb8e1\" class=\"plotly-graph-div\" style=\"height:525px; width:100%;\"></div>            <script type=\"text/javascript\">                                    window.PLOTLYENV=window.PLOTLYENV || {};                                    if (document.getElementById(\"a6fc218f-3daa-4ad7-a028-00068d7cb8e1\")) {                    Plotly.newPlot(                        \"a6fc218f-3daa-4ad7-a028-00068d7cb8e1\",                        [{\"hovertemplate\":\"Audit Group=Audit 3\\u003cbr\\u003eMonth (YYYY-MM)=%{x}\\u003cbr\\u003eAverage Count Of Compliant Audit (%)=%{y}\\u003cextra\\u003e\\u003c\\u002fextra\\u003e\",\"legendgroup\":\"Audit 3\",\"line\":{\"color\":\"rgb(0,0,131)\",\"dash\":\"solid\",\"shape\":\"spline\"},\"marker\":{\"symbol\":\"circle\"},\"mode\":\"lines\",\"name\":\"Audit 3\",\"orientation\":\"v\",\"showlegend\":true,\"x\":[\"2023-07\",\"2023-08\",\"2023-09\",\"2023-10\",\"2023-11\",\"2023-12\",\"2024-01\",\"2024-02\",\"2024-03\",\"2024-04\",\"2024-05\",\"2024-06\",\"2024-07\",\"2024-08\",\"2024-09\",\"2024-10\",\"2024-11\",\"2024-12\",\"2025-01\",\"2025-02\",\"2025-03\",\"2025-04\",\"2025-05\",\"2025-06\",\"2025-07\",\"2025-08\"],\"xaxis\":\"x\",\"y\":[0.65,1.0,0.5526315789473685,0.7297297297297297,0.6842105263157895,0.6111111111111112,0.47368421052631576,1.25,0.7258064516129032,0.983739837398374,0.7013888888888888,0.946969696969697,0.84,1.3117816091954022,1.294289897510981,0.5795454545454546,0.4375,0.5210084033613446,0.5515151515151515,0.5833333333333334,0.57,0.5396825396825397,0.6836734693877551,0.6027397260273972,0.5901639344262295,0.75],\"yaxis\":\"y\",\"type\":\"scatter\"}],                        {\"template\":{\"data\":{\"barpolar\":[{\"marker\":{\"line\":{\"color\":\"rgb(17,17,17)\",\"width\":0.5},\"pattern\":{\"fillmode\":\"overlay\",\"size\":10,\"solidity\":0.2}},\"type\":\"barpolar\"}],\"bar\":[{\"error_x\":{\"color\":\"#f2f5fa\"},\"error_y\":{\"color\":\"#f2f5fa\"},\"marker\":{\"line\":{\"color\":\"rgb(17,17,17)\",\"width\":0.5},\"pattern\":{\"fillmode\":\"overlay\",\"size\":10,\"solidity\":0.2}},\"type\":\"bar\"}],\"carpet\":[{\"aaxis\":{\"endlinecolor\":\"#A2B1C6\",\"gridcolor\":\"#506784\",\"linecolor\":\"#506784\",\"minorgridcolor\":\"#506784\",\"startlinecolor\":\"#A2B1C6\"},\"baxis\":{\"endlinecolor\":\"#A2B1C6\",\"gridcolor\":\"#506784\",\"linecolor\":\"#506784\",\"minorgridcolor\":\"#506784\",\"startlinecolor\":\"#A2B1C6\"},\"type\":\"carpet\"}],\"choropleth\":[{\"colorbar\":{\"outlinewidth\":0,\"ticks\":\"\"},\"type\":\"choropleth\"}],\"contourcarpet\":[{\"colorbar\":{\"outlinewidth\":0,\"ticks\":\"\"},\"type\":\"contourcarpet\"}],\"contour\":[{\"colorbar\":{\"outlinewidth\":0,\"ticks\":\"\"},\"colorscale\":[[0.0,\"#0d0887\"],[0.1111111111111111,\"#46039f\"],[0.2222222222222222,\"#7201a8\"],[0.3333333333333333,\"#9c179e\"],[0.4444444444444444,\"#bd3786\"],[0.5555555555555556,\"#d8576b\"],[0.6666666666666666,\"#ed7953\"],[0.7777777777777778,\"#fb9f3a\"],[0.8888888888888888,\"#fdca26\"],[1.0,\"#f0f921\"]],\"type\":\"contour\"}],\"heatmapgl\":[{\"colorbar\":{\"outlinewidth\":0,\"ticks\":\"\"},\"colorscale\":[[0.0,\"#0d0887\"],[0.1111111111111111,\"#46039f\"],[0.2222222222222222,\"#7201a8\"],[0.3333333333333333,\"#9c179e\"],[0.4444444444444444,\"#bd3786\"],[0.5555555555555556,\"#d8576b\"],[0.6666666666666666,\"#ed7953\"],[0.7777777777777778,\"#fb9f3a\"],[0.8888888888888888,\"#fdca26\"],[1.0,\"#f0f921\"]],\"type\":\"heatmapgl\"}],\"heatmap\":[{\"colorbar\":{\"outlinewidth\":0,\"ticks\":\"\"},\"colorscale\":[[0.0,\"#0d0887\"],[0.1111111111111111,\"#46039f\"],[0.2222222222222222,\"#7201a8\"],[0.3333333333333333,\"#9c179e\"],[0.4444444444444444,\"#bd3786\"],[0.5555555555555556,\"#d8576b\"],[0.6666666666666666,\"#ed7953\"],[0.7777777777777778,\"#fb9f3a\"],[0.8888888888888888,\"#fdca26\"],[1.0,\"#f0f921\"]],\"type\":\"heatmap\"}],\"histogram2dcontour\":[{\"colorbar\":{\"outlinewidth\":0,\"ticks\":\"\"},\"colorscale\":[[0.0,\"#0d0887\"],[0.1111111111111111,\"#46039f\"],[0.2222222222222222,\"#7201a8\"],[0.3333333333333333,\"#9c179e\"],[0.4444444444444444,\"#bd3786\"],[0.5555555555555556,\"#d8576b\"],[0.6666666666666666,\"#ed7953\"],[0.7777777777777778,\"#fb9f3a\"],[0.8888888888888888,\"#fdca26\"],[1.0,\"#f0f921\"]],\"type\":\"histogram2dcontour\"}],\"histogram2d\":[{\"colorbar\":{\"outlinewidth\":0,\"ticks\":\"\"},\"colorscale\":[[0.0,\"#0d0887\"],[0.1111111111111111,\"#46039f\"],[0.2222222222222222,\"#7201a8\"],[0.3333333333333333,\"#9c179e\"],[0.4444444444444444,\"#bd3786\"],[0.5555555555555556,\"#d8576b\"],[0.6666666666666666,\"#ed7953\"],[0.7777777777777778,\"#fb9f3a\"],[0.8888888888888888,\"#fdca26\"],[1.0,\"#f0f921\"]],\"type\":\"histogram2d\"}],\"histogram\":[{\"marker\":{\"pattern\":{\"fillmode\":\"overlay\",\"size\":10,\"solidity\":0.2}},\"type\":\"histogram\"}],\"mesh3d\":[{\"colorbar\":{\"outlinewidth\":0,\"ticks\":\"\"},\"type\":\"mesh3d\"}],\"parcoords\":[{\"line\":{\"colorbar\":{\"outlinewidth\":0,\"ticks\":\"\"}},\"type\":\"parcoords\"}],\"pie\":[{\"automargin\":true,\"type\":\"pie\"}],\"scatter3d\":[{\"line\":{\"colorbar\":{\"outlinewidth\":0,\"ticks\":\"\"}},\"marker\":{\"colorbar\":{\"outlinewidth\":0,\"ticks\":\"\"}},\"type\":\"scatter3d\"}],\"scattercarpet\":[{\"marker\":{\"colorbar\":{\"outlinewidth\":0,\"ticks\":\"\"}},\"type\":\"scattercarpet\"}],\"scattergeo\":[{\"marker\":{\"colorbar\":{\"outlinewidth\":0,\"ticks\":\"\"}},\"type\":\"scattergeo\"}],\"scattergl\":[{\"marker\":{\"line\":{\"color\":\"#283442\"}},\"type\":\"scattergl\"}],\"scattermapbox\":[{\"marker\":{\"colorbar\":{\"outlinewidth\":0,\"ticks\":\"\"}},\"type\":\"scattermapbox\"}],\"scatterpolargl\":[{\"marker\":{\"colorbar\":{\"outlinewidth\":0,\"ticks\":\"\"}},\"type\":\"scatterpolargl\"}],\"scatterpolar\":[{\"marker\":{\"colorbar\":{\"outlinewidth\":0,\"ticks\":\"\"}},\"type\":\"scatterpolar\"}],\"scatter\":[{\"marker\":{\"line\":{\"color\":\"#283442\"}},\"type\":\"scatter\"}],\"scatterternary\":[{\"marker\":{\"colorbar\":{\"outlinewidth\":0,\"ticks\":\"\"}},\"type\":\"scatterternary\"}],\"surface\":[{\"colorbar\":{\"outlinewidth\":0,\"ticks\":\"\"},\"colorscale\":[[0.0,\"#0d0887\"],[0.1111111111111111,\"#46039f\"],[0.2222222222222222,\"#7201a8\"],[0.3333333333333333,\"#9c179e\"],[0.4444444444444444,\"#bd3786\"],[0.5555555555555556,\"#d8576b\"],[0.6666666666666666,\"#ed7953\"],[0.7777777777777778,\"#fb9f3a\"],[0.8888888888888888,\"#fdca26\"],[1.0,\"#f0f921\"]],\"type\":\"surface\"}],\"table\":[{\"cells\":{\"fill\":{\"color\":\"#506784\"},\"line\":{\"color\":\"rgb(17,17,17)\"}},\"header\":{\"fill\":{\"color\":\"#2a3f5f\"},\"line\":{\"color\":\"rgb(17,17,17)\"}},\"type\":\"table\"}]},\"layout\":{\"annotationdefaults\":{\"arrowcolor\":\"#f2f5fa\",\"arrowhead\":0,\"arrowwidth\":1},\"autotypenumbers\":\"strict\",\"coloraxis\":{\"colorbar\":{\"outlinewidth\":0,\"ticks\":\"\"}},\"colorscale\":{\"diverging\":[[0,\"#8e0152\"],[0.1,\"#c51b7d\"],[0.2,\"#de77ae\"],[0.3,\"#f1b6da\"],[0.4,\"#fde0ef\"],[0.5,\"#f7f7f7\"],[0.6,\"#e6f5d0\"],[0.7,\"#b8e186\"],[0.8,\"#7fbc41\"],[0.9,\"#4d9221\"],[1,\"#276419\"]],\"sequential\":[[0.0,\"#0d0887\"],[0.1111111111111111,\"#46039f\"],[0.2222222222222222,\"#7201a8\"],[0.3333333333333333,\"#9c179e\"],[0.4444444444444444,\"#bd3786\"],[0.5555555555555556,\"#d8576b\"],[0.6666666666666666,\"#ed7953\"],[0.7777777777777778,\"#fb9f3a\"],[0.8888888888888888,\"#fdca26\"],[1.0,\"#f0f921\"]],\"sequentialminus\":[[0.0,\"#0d0887\"],[0.1111111111111111,\"#46039f\"],[0.2222222222222222,\"#7201a8\"],[0.3333333333333333,\"#9c179e\"],[0.4444444444444444,\"#bd3786\"],[0.5555555555555556,\"#d8576b\"],[0.6666666666666666,\"#ed7953\"],[0.7777777777777778,\"#fb9f3a\"],[0.8888888888888888,\"#fdca26\"],[1.0,\"#f0f921\"]]},\"colorway\":[\"#636efa\",\"#EF553B\",\"#00cc96\",\"#ab63fa\",\"#FFA15A\",\"#19d3f3\",\"#FF6692\",\"#B6E880\",\"#FF97FF\",\"#FECB52\"],\"font\":{\"color\":\"#f2f5fa\"},\"geo\":{\"bgcolor\":\"rgb(17,17,17)\",\"lakecolor\":\"rgb(17,17,17)\",\"landcolor\":\"rgb(17,17,17)\",\"showlakes\":true,\"showland\":true,\"subunitcolor\":\"#506784\"},\"hoverlabel\":{\"align\":\"left\"},\"hovermode\":\"closest\",\"mapbox\":{\"style\":\"dark\"},\"paper_bgcolor\":\"rgb(17,17,17)\",\"plot_bgcolor\":\"rgb(17,17,17)\",\"polar\":{\"angularaxis\":{\"gridcolor\":\"#506784\",\"linecolor\":\"#506784\",\"ticks\":\"\"},\"bgcolor\":\"rgb(17,17,17)\",\"radialaxis\":{\"gridcolor\":\"#506784\",\"linecolor\":\"#506784\",\"ticks\":\"\"}},\"scene\":{\"xaxis\":{\"backgroundcolor\":\"rgb(17,17,17)\",\"gridcolor\":\"#506784\",\"gridwidth\":2,\"linecolor\":\"#506784\",\"showbackground\":true,\"ticks\":\"\",\"zerolinecolor\":\"#C8D4E3\"},\"yaxis\":{\"backgroundcolor\":\"rgb(17,17,17)\",\"gridcolor\":\"#506784\",\"gridwidth\":2,\"linecolor\":\"#506784\",\"showbackground\":true,\"ticks\":\"\",\"zerolinecolor\":\"#C8D4E3\"},\"zaxis\":{\"backgroundcolor\":\"rgb(17,17,17)\",\"gridcolor\":\"#506784\",\"gridwidth\":2,\"linecolor\":\"#506784\",\"showbackground\":true,\"ticks\":\"\",\"zerolinecolor\":\"#C8D4E3\"}},\"shapedefaults\":{\"line\":{\"color\":\"#f2f5fa\"}},\"sliderdefaults\":{\"bgcolor\":\"#C8D4E3\",\"bordercolor\":\"rgb(17,17,17)\",\"borderwidth\":1,\"tickwidth\":0},\"ternary\":{\"aaxis\":{\"gridcolor\":\"#506784\",\"linecolor\":\"#506784\",\"ticks\":\"\"},\"baxis\":{\"gridcolor\":\"#506784\",\"linecolor\":\"#506784\",\"ticks\":\"\"},\"bgcolor\":\"rgb(17,17,17)\",\"caxis\":{\"gridcolor\":\"#506784\",\"linecolor\":\"#506784\",\"ticks\":\"\"}},\"title\":{\"x\":0.05},\"updatemenudefaults\":{\"bgcolor\":\"#506784\",\"borderwidth\":0},\"xaxis\":{\"automargin\":true,\"gridcolor\":\"#283442\",\"linecolor\":\"#506784\",\"ticks\":\"\",\"title\":{\"standoff\":15},\"zerolinecolor\":\"#283442\",\"zerolinewidth\":2},\"yaxis\":{\"automargin\":true,\"gridcolor\":\"#283442\",\"linecolor\":\"#506784\",\"ticks\":\"\",\"title\":{\"standoff\":15},\"zerolinecolor\":\"#283442\",\"zerolinewidth\":2}}},\"xaxis\":{\"anchor\":\"y\",\"domain\":[0.0,1.0],\"title\":{\"text\":\"Month (YYYY-MM)\"},\"tickangle\":45},\"yaxis\":{\"anchor\":\"x\",\"domain\":[0.0,1.0],\"title\":{\"text\":\"Average Count Of Compliant Audit (%)\"}},\"legend\":{\"title\":{\"text\":\"Audit Group\",\"font\":{\"color\":\"white\"}},\"tracegroupgap\":0,\"font\":{\"color\":\"white\"}},\"title\":{\"text\":\"Average Count Of Compliant Audit Across Audit Groups Over Time (['Audit 3'])\",\"font\":{\"size\":20}},\"font\":{\"color\":\"white\"},\"paper_bgcolor\":\"black\",\"plot_bgcolor\":\"black\"},                        {\"responsive\": true}                    ).then(function(){\n",
       "                            \n",
       "var gd = document.getElementById('a6fc218f-3daa-4ad7-a028-00068d7cb8e1');\n",
       "var x = new MutationObserver(function (mutations, observer) {{\n",
       "        var display = window.getComputedStyle(gd).display;\n",
       "        if (!display || display === 'none') {{\n",
       "            console.log([gd, 'removed!']);\n",
       "            Plotly.purge(gd);\n",
       "            observer.disconnect();\n",
       "        }}\n",
       "}});\n",
       "\n",
       "// Listen for the removal of the full notebook cells\n",
       "var notebookContainer = gd.closest('#notebook-container');\n",
       "if (notebookContainer) {{\n",
       "    x.observe(notebookContainer, {childList: true});\n",
       "}}\n",
       "\n",
       "// Listen for the clearing of the current output cell\n",
       "var outputEl = gd.closest('.output');\n",
       "if (outputEl) {{\n",
       "    x.observe(outputEl, {childList: true});\n",
       "}}\n",
       "\n",
       "                        })                };                            </script>        </div>\n",
       "</body>\n",
       "</html>"
      ]
     },
     "metadata": {},
     "output_type": "display_data"
    }
   ],
   "source": [
    "create_cross_comparison_graph(df, date_col='date', filter_column='reference_number', filter_value=['Audit 3'], metric_col='count_of_compliant_audit', start_date=None, end_date=None)"
   ]
  },
  {
   "cell_type": "code",
   "execution_count": null,
   "metadata": {
    "id": "xndn0Pzketdt"
   },
   "outputs": [],
   "source": [
    "from pyspark.sql import functions as F\n",
    "import plotly.express as px\n",
    "import pandas as pd\n",
    "from datetime import datetime\n",
    "\n",
    "def create_outlier_box_plot(df, date_col='date', filter_column='airline', filter_value='United Airlines', metric_col='compliance_rate', start_date=None, end_date=None):\n",
    "    \"\"\"\n",
    "    Creates a box plot to visualize the distribution and outliers of a metric (e.g., compliance_rate)\n",
    "    across audit groups (reference_number), with optional filtering by column and date range.\n",
    "\n",
    "    Parameters:\n",
    "    - df: PySpark DataFrame with the schema including 'date', 'reference_number', and the metric column.\n",
    "    - date_col: Column name for date (default: 'date').\n",
    "    - filter_column: Column to filter on (e.g., 'airline'). If None, no filtering is applied.\n",
    "    - filter_value: Value to filter by (e.g., 'United Airlines'). If None, no filtering is applied.\n",
    "    - metric_col: Column name for the metric to analyze (e.g., 'compliance_rate'). Required.\n",
    "    - start_date: Start date for filtering (format: 'YYYY-MM-DD' or None). If None, no start date filter is applied.\n",
    "    - end_date: End date for filtering (format: 'YYYY-MM-DD' or None). If None, no end date filter is applied.\n",
    "\n",
    "    The plot uses a dark theme with black background and a United Airlines-inspired blue color palette.\n",
    "    Outliers are shown as points beyond the whiskers.\n",
    "    \"\"\"\n",
    "    # Validate that metric_col and date_col exist in DataFrame\n",
    "    if metric_col not in df.columns:\n",
    "        raise ValueError(f\"Metric column '{metric_col}' not found in DataFrame\")\n",
    "    if date_col not in df.columns:\n",
    "        raise ValueError(f\"Date column '{date_col}' not found in DataFrame\")\n",
    "\n",
    "    # Apply filtering for filter_column and filter_value\n",
    "    df_filtered = df\n",
    "    if filter_column is not None and filter_value is not None:\n",
    "        if filter_column in df.columns:\n",
    "            df_filtered = df_filtered.filter(F.col(filter_column) == filter_value)\n",
    "        else:\n",
    "            raise ValueError(f\"Filter column '{filter_column}' not found in DataFrame\")\n",
    "\n",
    "    # Apply date range filtering if start_date or end_date is provided\n",
    "    if start_date is not None:\n",
    "        try:\n",
    "            datetime.strptime(start_date, '%Y-%m-%d')  # Validate format\n",
    "            df_filtered = df_filtered.filter(F.col(date_col) >= start_date)\n",
    "        except ValueError:\n",
    "            raise ValueError(\"start_date must be in 'YYYY-MM-DD' format or None\")\n",
    "    if end_date is not None:\n",
    "        try:\n",
    "            datetime.strptime(end_date, '%Y-%m-%d')  # Validate format\n",
    "            df_filtered = df_filtered.filter(F.col(date_col) <= end_date)\n",
    "        except ValueError:\n",
    "            raise ValueError(\"end_date must be in 'YYYY-MM-DD' format or None\")\n",
    "\n",
    "    # Drop nulls in metric_col to ensure clean data for plotting\n",
    "    df_filtered = df_filtered.filter(F.col(metric_col).isNotNull())\n",
    "\n",
    "    # Select relevant columns for the box plot\n",
    "    df_for_plot = df_filtered.select(\"reference_number\", metric_col)\n",
    "\n",
    "    # Convert to Pandas for Plotly\n",
    "    pd_df = df_for_plot.toPandas()\n",
    "\n",
    "    # Define title based on filtering\n",
    "    title = f\"{metric_col.replace('_', ' ').title()} Across Audit Groups (Outliers Highlighted)\"\n",
    "    if filter_column is not None and filter_value is not None:\n",
    "        title += f\" ({filter_value})\"\n",
    "    if start_date is not None or end_date is not None:\n",
    "        date_range = f\"[{start_date or 'Start'} to {end_date or 'End'}]\"\n",
    "        title += f\" {date_range}\"\n",
    "\n",
    "    # Create box plot to show distribution and outliers across audit groups\n",
    "    fig = px.box(\n",
    "        pd_df,\n",
    "        x=\"reference_number\",\n",
    "        y=metric_col,\n",
    "        color=\"reference_number\",\n",
    "        title=title,\n",
    "        labels={\n",
    "            \"reference_number\": \"Audit Group\",\n",
    "            metric_col: f\"{metric_col.replace('_', ' ').title()} (%)\"\n",
    "        },\n",
    "        color_discrete_sequence=px.colors.sequential.Jet  # Jet\n",
    "    )\n",
    "\n",
    "    # Show outliers as points\n",
    "    fig.update_traces(boxpoints='outliers', jitter=0.3)  # Jitter for better visibility of outliers\n",
    "\n",
    "    # Apply dark theme with black background\n",
    "    fig.update_layout(\n",
    "        template=\"plotly_dark\",\n",
    "        paper_bgcolor=\"black\",\n",
    "        plot_bgcolor=\"black\",\n",
    "        font_color=\"white\",\n",
    "        title_font_size=20,\n",
    "        legend_title_font_color=\"white\",\n",
    "        legend_font_color=\"white\"\n",
    "    )\n",
    "\n",
    "    # Rotate x-axis labels for better readability\n",
    "    fig.update_xaxes(tickangle=45)\n",
    "\n",
    "    # Show the figure\n",
    "    fig.show()"
   ]
  },
  {
   "cell_type": "code",
   "execution_count": null,
   "metadata": {
    "colab": {
     "base_uri": "https://localhost:8080/",
     "height": 542
    },
    "id": "L7Pwy57Xes53",
    "outputId": "8e64b534-b239-4486-de75-8ee3e44c2bc2"
   },
   "outputs": [
    {
     "data": {
      "text/html": [
       "<html>\n",
       "<head><meta charset=\"utf-8\" /></head>\n",
       "<body>\n",
       "    <div>            <script src=\"https://cdnjs.cloudflare.com/ajax/libs/mathjax/2.7.5/MathJax.js?config=TeX-AMS-MML_SVG\"></script><script type=\"text/javascript\">if (window.MathJax && window.MathJax.Hub && window.MathJax.Hub.Config) {window.MathJax.Hub.Config({SVG: {font: \"STIX-Web\"}});}</script>                <script type=\"text/javascript\">window.PlotlyConfig = {MathJaxConfig: 'local'};</script>\n",
       "        <script charset=\"utf-8\" src=\"https://cdn.plot.ly/plotly-2.35.2.min.js\"></script>                <div id=\"ed465c99-a579-432b-9578-dea984a1ff0f\" class=\"plotly-graph-div\" style=\"height:525px; width:100%;\"></div>            <script type=\"text/javascript\">                                    window.PLOTLYENV=window.PLOTLYENV || {};                                    if (document.getElementById(\"ed465c99-a579-432b-9578-dea984a1ff0f\")) {                    Plotly.newPlot(                        \"ed465c99-a579-432b-9578-dea984a1ff0f\",                        [{\"alignmentgroup\":\"True\",\"hovertemplate\":\"Audit Group=%{x}\\u003cbr\\u003eCount Of Compliant Audit (%)=%{y}\\u003cextra\\u003e\\u003c\\u002fextra\\u003e\",\"legendgroup\":\"Audit 3\",\"marker\":{\"color\":\"rgb(0,0,131)\"},\"name\":\"Audit 3\",\"notched\":false,\"offsetgroup\":\"Audit 3\",\"orientation\":\"v\",\"showlegend\":true,\"x\":[\"Audit 3\",\"Audit 3\",\"Audit 3\",\"Audit 3\",\"Audit 3\",\"Audit 3\",\"Audit 3\",\"Audit 3\",\"Audit 3\",\"Audit 3\",\"Audit 3\",\"Audit 3\",\"Audit 3\",\"Audit 3\",\"Audit 3\",\"Audit 3\",\"Audit 3\",\"Audit 3\",\"Audit 3\",\"Audit 3\",\"Audit 3\",\"Audit 3\",\"Audit 3\",\"Audit 3\",\"Audit 3\",\"Audit 3\",\"Audit 3\",\"Audit 3\",\"Audit 3\",\"Audit 3\",\"Audit 3\",\"Audit 3\",\"Audit 3\",\"Audit 3\",\"Audit 3\",\"Audit 3\",\"Audit 3\",\"Audit 3\",\"Audit 3\",\"Audit 3\",\"Audit 3\",\"Audit 3\",\"Audit 3\",\"Audit 3\",\"Audit 3\",\"Audit 3\",\"Audit 3\",\"Audit 3\",\"Audit 3\",\"Audit 3\",\"Audit 3\",\"Audit 3\",\"Audit 3\",\"Audit 3\",\"Audit 3\",\"Audit 3\",\"Audit 3\",\"Audit 3\",\"Audit 3\",\"Audit 3\",\"Audit 3\",\"Audit 3\",\"Audit 3\",\"Audit 3\",\"Audit 3\",\"Audit 3\",\"Audit 3\",\"Audit 3\",\"Audit 3\",\"Audit 3\",\"Audit 3\",\"Audit 3\",\"Audit 3\",\"Audit 3\",\"Audit 3\",\"Audit 3\",\"Audit 3\",\"Audit 3\",\"Audit 3\",\"Audit 3\",\"Audit 3\",\"Audit 3\",\"Audit 3\",\"Audit 3\",\"Audit 3\",\"Audit 3\",\"Audit 3\",\"Audit 3\",\"Audit 3\",\"Audit 3\",\"Audit 3\",\"Audit 3\",\"Audit 3\",\"Audit 3\",\"Audit 3\",\"Audit 3\",\"Audit 3\",\"Audit 3\",\"Audit 3\",\"Audit 3\",\"Audit 3\",\"Audit 3\",\"Audit 3\",\"Audit 3\",\"Audit 3\",\"Audit 3\",\"Audit 3\",\"Audit 3\",\"Audit 3\",\"Audit 3\",\"Audit 3\",\"Audit 3\",\"Audit 3\",\"Audit 3\",\"Audit 3\",\"Audit 3\",\"Audit 3\",\"Audit 3\",\"Audit 3\",\"Audit 3\",\"Audit 3\",\"Audit 3\",\"Audit 3\",\"Audit 3\",\"Audit 3\",\"Audit 3\",\"Audit 3\",\"Audit 3\",\"Audit 3\",\"Audit 3\",\"Audit 3\",\"Audit 3\",\"Audit 3\",\"Audit 3\",\"Audit 3\",\"Audit 3\",\"Audit 3\",\"Audit 3\",\"Audit 3\",\"Audit 3\",\"Audit 3\",\"Audit 3\",\"Audit 3\",\"Audit 3\",\"Audit 3\",\"Audit 3\",\"Audit 3\",\"Audit 3\",\"Audit 3\",\"Audit 3\",\"Audit 3\",\"Audit 3\",\"Audit 3\",\"Audit 3\",\"Audit 3\",\"Audit 3\",\"Audit 3\",\"Audit 3\",\"Audit 3\",\"Audit 3\",\"Audit 3\",\"Audit 3\",\"Audit 3\",\"Audit 3\",\"Audit 3\",\"Audit 3\",\"Audit 3\",\"Audit 3\",\"Audit 3\",\"Audit 3\",\"Audit 3\",\"Audit 3\",\"Audit 3\",\"Audit 3\",\"Audit 3\",\"Audit 3\",\"Audit 3\",\"Audit 3\",\"Audit 3\",\"Audit 3\",\"Audit 3\",\"Audit 3\",\"Audit 3\",\"Audit 3\",\"Audit 3\",\"Audit 3\",\"Audit 3\",\"Audit 3\",\"Audit 3\",\"Audit 3\",\"Audit 3\",\"Audit 3\",\"Audit 3\",\"Audit 3\",\"Audit 3\",\"Audit 3\",\"Audit 3\",\"Audit 3\",\"Audit 3\",\"Audit 3\",\"Audit 3\",\"Audit 3\",\"Audit 3\",\"Audit 3\",\"Audit 3\",\"Audit 3\",\"Audit 3\",\"Audit 3\",\"Audit 3\",\"Audit 3\",\"Audit 3\",\"Audit 3\",\"Audit 3\",\"Audit 3\",\"Audit 3\",\"Audit 3\",\"Audit 3\",\"Audit 3\",\"Audit 3\",\"Audit 3\",\"Audit 3\",\"Audit 3\",\"Audit 3\",\"Audit 3\",\"Audit 3\",\"Audit 3\",\"Audit 3\",\"Audit 3\",\"Audit 3\",\"Audit 3\",\"Audit 3\",\"Audit 3\",\"Audit 3\",\"Audit 3\",\"Audit 3\",\"Audit 3\",\"Audit 3\",\"Audit 3\",\"Audit 3\",\"Audit 3\",\"Audit 3\",\"Audit 3\",\"Audit 3\",\"Audit 3\",\"Audit 3\",\"Audit 3\",\"Audit 3\",\"Audit 3\",\"Audit 3\",\"Audit 3\",\"Audit 3\",\"Audit 3\",\"Audit 3\",\"Audit 3\",\"Audit 3\",\"Audit 3\",\"Audit 3\",\"Audit 3\",\"Audit 3\",\"Audit 3\",\"Audit 3\",\"Audit 3\",\"Audit 3\",\"Audit 3\",\"Audit 3\",\"Audit 3\",\"Audit 3\",\"Audit 3\",\"Audit 3\",\"Audit 3\",\"Audit 3\",\"Audit 3\",\"Audit 3\",\"Audit 3\",\"Audit 3\",\"Audit 3\",\"Audit 3\",\"Audit 3\",\"Audit 3\",\"Audit 3\",\"Audit 3\",\"Audit 3\",\"Audit 3\",\"Audit 3\",\"Audit 3\",\"Audit 3\",\"Audit 3\",\"Audit 3\",\"Audit 3\",\"Audit 3\",\"Audit 3\",\"Audit 3\",\"Audit 3\",\"Audit 3\",\"Audit 3\",\"Audit 3\",\"Audit 3\",\"Audit 3\",\"Audit 3\",\"Audit 3\",\"Audit 3\",\"Audit 3\",\"Audit 3\",\"Audit 3\",\"Audit 3\",\"Audit 3\",\"Audit 3\",\"Audit 3\",\"Audit 3\",\"Audit 3\",\"Audit 3\",\"Audit 3\",\"Audit 3\",\"Audit 3\",\"Audit 3\",\"Audit 3\",\"Audit 3\",\"Audit 3\",\"Audit 3\",\"Audit 3\",\"Audit 3\",\"Audit 3\",\"Audit 3\",\"Audit 3\",\"Audit 3\",\"Audit 3\",\"Audit 3\",\"Audit 3\",\"Audit 3\",\"Audit 3\",\"Audit 3\",\"Audit 3\",\"Audit 3\",\"Audit 3\",\"Audit 3\",\"Audit 3\",\"Audit 3\",\"Audit 3\",\"Audit 3\",\"Audit 3\",\"Audit 3\",\"Audit 3\",\"Audit 3\",\"Audit 3\",\"Audit 3\",\"Audit 3\",\"Audit 3\",\"Audit 3\",\"Audit 3\",\"Audit 3\",\"Audit 3\",\"Audit 3\",\"Audit 3\",\"Audit 3\",\"Audit 3\",\"Audit 3\",\"Audit 3\",\"Audit 3\",\"Audit 3\",\"Audit 3\",\"Audit 3\",\"Audit 3\",\"Audit 3\",\"Audit 3\",\"Audit 3\",\"Audit 3\",\"Audit 3\",\"Audit 3\",\"Audit 3\",\"Audit 3\",\"Audit 3\",\"Audit 3\",\"Audit 3\",\"Audit 3\",\"Audit 3\",\"Audit 3\",\"Audit 3\",\"Audit 3\",\"Audit 3\",\"Audit 3\",\"Audit 3\",\"Audit 3\",\"Audit 3\",\"Audit 3\",\"Audit 3\",\"Audit 3\",\"Audit 3\",\"Audit 3\",\"Audit 3\",\"Audit 3\",\"Audit 3\",\"Audit 3\",\"Audit 3\",\"Audit 3\",\"Audit 3\",\"Audit 3\",\"Audit 3\",\"Audit 3\",\"Audit 3\",\"Audit 3\",\"Audit 3\",\"Audit 3\",\"Audit 3\",\"Audit 3\",\"Audit 3\",\"Audit 3\",\"Audit 3\",\"Audit 3\",\"Audit 3\",\"Audit 3\",\"Audit 3\",\"Audit 3\",\"Audit 3\",\"Audit 3\",\"Audit 3\",\"Audit 3\",\"Audit 3\",\"Audit 3\",\"Audit 3\",\"Audit 3\",\"Audit 3\",\"Audit 3\",\"Audit 3\",\"Audit 3\",\"Audit 3\",\"Audit 3\",\"Audit 3\",\"Audit 3\",\"Audit 3\",\"Audit 3\",\"Audit 3\",\"Audit 3\",\"Audit 3\",\"Audit 3\",\"Audit 3\",\"Audit 3\",\"Audit 3\",\"Audit 3\",\"Audit 3\",\"Audit 3\",\"Audit 3\",\"Audit 3\",\"Audit 3\",\"Audit 3\",\"Audit 3\",\"Audit 3\",\"Audit 3\",\"Audit 3\",\"Audit 3\",\"Audit 3\",\"Audit 3\",\"Audit 3\",\"Audit 3\",\"Audit 3\",\"Audit 3\",\"Audit 3\",\"Audit 3\",\"Audit 3\",\"Audit 3\",\"Audit 3\",\"Audit 3\",\"Audit 3\",\"Audit 3\",\"Audit 3\",\"Audit 3\",\"Audit 3\",\"Audit 3\",\"Audit 3\",\"Audit 3\",\"Audit 3\",\"Audit 3\",\"Audit 3\",\"Audit 3\",\"Audit 3\",\"Audit 3\",\"Audit 3\",\"Audit 3\",\"Audit 3\",\"Audit 3\",\"Audit 3\",\"Audit 3\",\"Audit 3\",\"Audit 3\",\"Audit 3\",\"Audit 3\",\"Audit 3\",\"Audit 3\",\"Audit 3\",\"Audit 3\",\"Audit 3\",\"Audit 3\",\"Audit 3\",\"Audit 3\"],\"x0\":\" \",\"xaxis\":\"x\",\"y\":[0,0,1,0,0,1,1,1,0,0,0,1,0,1,0,0,0,0,1,0,0,1,1,1,0,1,0,1,0,0,1,1,0,0,0,1,0,1,1,1,0,0,1,1,1,1,1,1,1,1,0,0,1,0,0,1,0,0,0,0,0,1,1,1,1,0,0,1,1,1,1,0,0,0,0,1,0,1,1,0,0,0,0,0,0,1,1,0,0,1,1,1,1,0,0,1,0,0,0,0,0,1,1,0,1,1,0,1,1,0,0,1,0,1,1,0,0,1,1,1,0,1,1,0,0,1,1,0,1,0,0,0,1,1,1,1,1,0,0,1,1,2,0,1,1,1,0,0,1,0,0,1,1,1,0,0,1,0,0,0,1,0,0,1,1,1,0,0,1,1,1,1,1,1,0,0,1,1,0,0,0,1,1,1,1,1,1,1,0,1,0,0,1,0,0,1,1,1,1,0,0,0,0,1,0,1,1,0,0,1,1,1,1,0,1,0,0,1,1,0,1,0,1,0,0,0,1,0,1,1,0,1,1,0,1,1,1,0,0,0,0,1,2,0,0,2,1,1,1,1,0,0,2,1,0,0,1,1,1,0,1,0,1,0,1,1,0,0,1,0,1,1,0,0,0,1,1,1,0,1,0,0,0,1,2,1,1,1,1,0,2,1,1,0,0,1,1,1,1,0,0,1,0,1,1,0,1,0,1,1,0,0,1,1,0,1,1,1,0,1,1,0,0,0,1,0,0,0,1,1,1,0,1,1,1,1,1,0,1,0,0,0,1,1,1,1,0,1,0,1,0,1,0,1,1,0,0,1,1,0,1,0,0,0,0,0,1,1,0,0,0,0,1,0,0,0,1,0,1,0,1,1,0,0,1,1,0,1,2,2,1,0,1,0,1,1,1,0,1,0,1,1,0,1,1,0,0,0,0,1,0,1,0,1,1,0,0,1,1,2,1,1,1,0,0,1,0,1,0,1,1,0,1,1,1,1,0,0,1,1,0,1,1,1,1,1,1,0,1,0,0,1,1,1,1,1,1,0,0,0,0,1,1,1,0,0,1,1,0,0,0,1,1,0,1,0,1,0,0,0,0,1,2,1,0,1,0,0,1,1,0,1,0],\"y0\":\" \",\"yaxis\":\"y\",\"type\":\"box\",\"boxpoints\":\"outliers\",\"jitter\":0.3},{\"alignmentgroup\":\"True\",\"hovertemplate\":\"Audit Group=%{x}\\u003cbr\\u003eCount Of Compliant Audit (%)=%{y}\\u003cextra\\u003e\\u003c\\u002fextra\\u003e\",\"legendgroup\":\"Audit 1\",\"marker\":{\"color\":\"rgb(0,60,170)\"},\"name\":\"Audit 1\",\"notched\":false,\"offsetgroup\":\"Audit 1\",\"orientation\":\"v\",\"showlegend\":true,\"x\":[\"Audit 1\",\"Audit 1\"],\"x0\":\" \",\"xaxis\":\"x\",\"y\":[0,1],\"y0\":\" \",\"yaxis\":\"y\",\"type\":\"box\",\"boxpoints\":\"outliers\",\"jitter\":0.3},{\"alignmentgroup\":\"True\",\"hovertemplate\":\"Audit Group=%{x}\\u003cbr\\u003eCount Of Compliant Audit (%)=%{y}\\u003cextra\\u003e\\u003c\\u002fextra\\u003e\",\"legendgroup\":\"Audit 2\",\"marker\":{\"color\":\"rgb(5,255,255)\"},\"name\":\"Audit 2\",\"notched\":false,\"offsetgroup\":\"Audit 2\",\"orientation\":\"v\",\"showlegend\":true,\"x\":[\"Audit 2\",\"Audit 2\",\"Audit 2\",\"Audit 2\",\"Audit 2\",\"Audit 2\",\"Audit 2\",\"Audit 2\",\"Audit 2\",\"Audit 2\",\"Audit 2\",\"Audit 2\",\"Audit 2\",\"Audit 2\",\"Audit 2\",\"Audit 2\",\"Audit 2\",\"Audit 2\",\"Audit 2\",\"Audit 2\",\"Audit 2\"],\"x0\":\" \",\"xaxis\":\"x\",\"y\":[0,1,0,0,1,0,0,1,0,1,1,0,1,0,1,0,0,1,1,1,1],\"y0\":\" \",\"yaxis\":\"y\",\"type\":\"box\",\"boxpoints\":\"outliers\",\"jitter\":0.3}],                        {\"template\":{\"data\":{\"barpolar\":[{\"marker\":{\"line\":{\"color\":\"rgb(17,17,17)\",\"width\":0.5},\"pattern\":{\"fillmode\":\"overlay\",\"size\":10,\"solidity\":0.2}},\"type\":\"barpolar\"}],\"bar\":[{\"error_x\":{\"color\":\"#f2f5fa\"},\"error_y\":{\"color\":\"#f2f5fa\"},\"marker\":{\"line\":{\"color\":\"rgb(17,17,17)\",\"width\":0.5},\"pattern\":{\"fillmode\":\"overlay\",\"size\":10,\"solidity\":0.2}},\"type\":\"bar\"}],\"carpet\":[{\"aaxis\":{\"endlinecolor\":\"#A2B1C6\",\"gridcolor\":\"#506784\",\"linecolor\":\"#506784\",\"minorgridcolor\":\"#506784\",\"startlinecolor\":\"#A2B1C6\"},\"baxis\":{\"endlinecolor\":\"#A2B1C6\",\"gridcolor\":\"#506784\",\"linecolor\":\"#506784\",\"minorgridcolor\":\"#506784\",\"startlinecolor\":\"#A2B1C6\"},\"type\":\"carpet\"}],\"choropleth\":[{\"colorbar\":{\"outlinewidth\":0,\"ticks\":\"\"},\"type\":\"choropleth\"}],\"contourcarpet\":[{\"colorbar\":{\"outlinewidth\":0,\"ticks\":\"\"},\"type\":\"contourcarpet\"}],\"contour\":[{\"colorbar\":{\"outlinewidth\":0,\"ticks\":\"\"},\"colorscale\":[[0.0,\"#0d0887\"],[0.1111111111111111,\"#46039f\"],[0.2222222222222222,\"#7201a8\"],[0.3333333333333333,\"#9c179e\"],[0.4444444444444444,\"#bd3786\"],[0.5555555555555556,\"#d8576b\"],[0.6666666666666666,\"#ed7953\"],[0.7777777777777778,\"#fb9f3a\"],[0.8888888888888888,\"#fdca26\"],[1.0,\"#f0f921\"]],\"type\":\"contour\"}],\"heatmapgl\":[{\"colorbar\":{\"outlinewidth\":0,\"ticks\":\"\"},\"colorscale\":[[0.0,\"#0d0887\"],[0.1111111111111111,\"#46039f\"],[0.2222222222222222,\"#7201a8\"],[0.3333333333333333,\"#9c179e\"],[0.4444444444444444,\"#bd3786\"],[0.5555555555555556,\"#d8576b\"],[0.6666666666666666,\"#ed7953\"],[0.7777777777777778,\"#fb9f3a\"],[0.8888888888888888,\"#fdca26\"],[1.0,\"#f0f921\"]],\"type\":\"heatmapgl\"}],\"heatmap\":[{\"colorbar\":{\"outlinewidth\":0,\"ticks\":\"\"},\"colorscale\":[[0.0,\"#0d0887\"],[0.1111111111111111,\"#46039f\"],[0.2222222222222222,\"#7201a8\"],[0.3333333333333333,\"#9c179e\"],[0.4444444444444444,\"#bd3786\"],[0.5555555555555556,\"#d8576b\"],[0.6666666666666666,\"#ed7953\"],[0.7777777777777778,\"#fb9f3a\"],[0.8888888888888888,\"#fdca26\"],[1.0,\"#f0f921\"]],\"type\":\"heatmap\"}],\"histogram2dcontour\":[{\"colorbar\":{\"outlinewidth\":0,\"ticks\":\"\"},\"colorscale\":[[0.0,\"#0d0887\"],[0.1111111111111111,\"#46039f\"],[0.2222222222222222,\"#7201a8\"],[0.3333333333333333,\"#9c179e\"],[0.4444444444444444,\"#bd3786\"],[0.5555555555555556,\"#d8576b\"],[0.6666666666666666,\"#ed7953\"],[0.7777777777777778,\"#fb9f3a\"],[0.8888888888888888,\"#fdca26\"],[1.0,\"#f0f921\"]],\"type\":\"histogram2dcontour\"}],\"histogram2d\":[{\"colorbar\":{\"outlinewidth\":0,\"ticks\":\"\"},\"colorscale\":[[0.0,\"#0d0887\"],[0.1111111111111111,\"#46039f\"],[0.2222222222222222,\"#7201a8\"],[0.3333333333333333,\"#9c179e\"],[0.4444444444444444,\"#bd3786\"],[0.5555555555555556,\"#d8576b\"],[0.6666666666666666,\"#ed7953\"],[0.7777777777777778,\"#fb9f3a\"],[0.8888888888888888,\"#fdca26\"],[1.0,\"#f0f921\"]],\"type\":\"histogram2d\"}],\"histogram\":[{\"marker\":{\"pattern\":{\"fillmode\":\"overlay\",\"size\":10,\"solidity\":0.2}},\"type\":\"histogram\"}],\"mesh3d\":[{\"colorbar\":{\"outlinewidth\":0,\"ticks\":\"\"},\"type\":\"mesh3d\"}],\"parcoords\":[{\"line\":{\"colorbar\":{\"outlinewidth\":0,\"ticks\":\"\"}},\"type\":\"parcoords\"}],\"pie\":[{\"automargin\":true,\"type\":\"pie\"}],\"scatter3d\":[{\"line\":{\"colorbar\":{\"outlinewidth\":0,\"ticks\":\"\"}},\"marker\":{\"colorbar\":{\"outlinewidth\":0,\"ticks\":\"\"}},\"type\":\"scatter3d\"}],\"scattercarpet\":[{\"marker\":{\"colorbar\":{\"outlinewidth\":0,\"ticks\":\"\"}},\"type\":\"scattercarpet\"}],\"scattergeo\":[{\"marker\":{\"colorbar\":{\"outlinewidth\":0,\"ticks\":\"\"}},\"type\":\"scattergeo\"}],\"scattergl\":[{\"marker\":{\"line\":{\"color\":\"#283442\"}},\"type\":\"scattergl\"}],\"scattermapbox\":[{\"marker\":{\"colorbar\":{\"outlinewidth\":0,\"ticks\":\"\"}},\"type\":\"scattermapbox\"}],\"scatterpolargl\":[{\"marker\":{\"colorbar\":{\"outlinewidth\":0,\"ticks\":\"\"}},\"type\":\"scatterpolargl\"}],\"scatterpolar\":[{\"marker\":{\"colorbar\":{\"outlinewidth\":0,\"ticks\":\"\"}},\"type\":\"scatterpolar\"}],\"scatter\":[{\"marker\":{\"line\":{\"color\":\"#283442\"}},\"type\":\"scatter\"}],\"scatterternary\":[{\"marker\":{\"colorbar\":{\"outlinewidth\":0,\"ticks\":\"\"}},\"type\":\"scatterternary\"}],\"surface\":[{\"colorbar\":{\"outlinewidth\":0,\"ticks\":\"\"},\"colorscale\":[[0.0,\"#0d0887\"],[0.1111111111111111,\"#46039f\"],[0.2222222222222222,\"#7201a8\"],[0.3333333333333333,\"#9c179e\"],[0.4444444444444444,\"#bd3786\"],[0.5555555555555556,\"#d8576b\"],[0.6666666666666666,\"#ed7953\"],[0.7777777777777778,\"#fb9f3a\"],[0.8888888888888888,\"#fdca26\"],[1.0,\"#f0f921\"]],\"type\":\"surface\"}],\"table\":[{\"cells\":{\"fill\":{\"color\":\"#506784\"},\"line\":{\"color\":\"rgb(17,17,17)\"}},\"header\":{\"fill\":{\"color\":\"#2a3f5f\"},\"line\":{\"color\":\"rgb(17,17,17)\"}},\"type\":\"table\"}]},\"layout\":{\"annotationdefaults\":{\"arrowcolor\":\"#f2f5fa\",\"arrowhead\":0,\"arrowwidth\":1},\"autotypenumbers\":\"strict\",\"coloraxis\":{\"colorbar\":{\"outlinewidth\":0,\"ticks\":\"\"}},\"colorscale\":{\"diverging\":[[0,\"#8e0152\"],[0.1,\"#c51b7d\"],[0.2,\"#de77ae\"],[0.3,\"#f1b6da\"],[0.4,\"#fde0ef\"],[0.5,\"#f7f7f7\"],[0.6,\"#e6f5d0\"],[0.7,\"#b8e186\"],[0.8,\"#7fbc41\"],[0.9,\"#4d9221\"],[1,\"#276419\"]],\"sequential\":[[0.0,\"#0d0887\"],[0.1111111111111111,\"#46039f\"],[0.2222222222222222,\"#7201a8\"],[0.3333333333333333,\"#9c179e\"],[0.4444444444444444,\"#bd3786\"],[0.5555555555555556,\"#d8576b\"],[0.6666666666666666,\"#ed7953\"],[0.7777777777777778,\"#fb9f3a\"],[0.8888888888888888,\"#fdca26\"],[1.0,\"#f0f921\"]],\"sequentialminus\":[[0.0,\"#0d0887\"],[0.1111111111111111,\"#46039f\"],[0.2222222222222222,\"#7201a8\"],[0.3333333333333333,\"#9c179e\"],[0.4444444444444444,\"#bd3786\"],[0.5555555555555556,\"#d8576b\"],[0.6666666666666666,\"#ed7953\"],[0.7777777777777778,\"#fb9f3a\"],[0.8888888888888888,\"#fdca26\"],[1.0,\"#f0f921\"]]},\"colorway\":[\"#636efa\",\"#EF553B\",\"#00cc96\",\"#ab63fa\",\"#FFA15A\",\"#19d3f3\",\"#FF6692\",\"#B6E880\",\"#FF97FF\",\"#FECB52\"],\"font\":{\"color\":\"#f2f5fa\"},\"geo\":{\"bgcolor\":\"rgb(17,17,17)\",\"lakecolor\":\"rgb(17,17,17)\",\"landcolor\":\"rgb(17,17,17)\",\"showlakes\":true,\"showland\":true,\"subunitcolor\":\"#506784\"},\"hoverlabel\":{\"align\":\"left\"},\"hovermode\":\"closest\",\"mapbox\":{\"style\":\"dark\"},\"paper_bgcolor\":\"rgb(17,17,17)\",\"plot_bgcolor\":\"rgb(17,17,17)\",\"polar\":{\"angularaxis\":{\"gridcolor\":\"#506784\",\"linecolor\":\"#506784\",\"ticks\":\"\"},\"bgcolor\":\"rgb(17,17,17)\",\"radialaxis\":{\"gridcolor\":\"#506784\",\"linecolor\":\"#506784\",\"ticks\":\"\"}},\"scene\":{\"xaxis\":{\"backgroundcolor\":\"rgb(17,17,17)\",\"gridcolor\":\"#506784\",\"gridwidth\":2,\"linecolor\":\"#506784\",\"showbackground\":true,\"ticks\":\"\",\"zerolinecolor\":\"#C8D4E3\"},\"yaxis\":{\"backgroundcolor\":\"rgb(17,17,17)\",\"gridcolor\":\"#506784\",\"gridwidth\":2,\"linecolor\":\"#506784\",\"showbackground\":true,\"ticks\":\"\",\"zerolinecolor\":\"#C8D4E3\"},\"zaxis\":{\"backgroundcolor\":\"rgb(17,17,17)\",\"gridcolor\":\"#506784\",\"gridwidth\":2,\"linecolor\":\"#506784\",\"showbackground\":true,\"ticks\":\"\",\"zerolinecolor\":\"#C8D4E3\"}},\"shapedefaults\":{\"line\":{\"color\":\"#f2f5fa\"}},\"sliderdefaults\":{\"bgcolor\":\"#C8D4E3\",\"bordercolor\":\"rgb(17,17,17)\",\"borderwidth\":1,\"tickwidth\":0},\"ternary\":{\"aaxis\":{\"gridcolor\":\"#506784\",\"linecolor\":\"#506784\",\"ticks\":\"\"},\"baxis\":{\"gridcolor\":\"#506784\",\"linecolor\":\"#506784\",\"ticks\":\"\"},\"bgcolor\":\"rgb(17,17,17)\",\"caxis\":{\"gridcolor\":\"#506784\",\"linecolor\":\"#506784\",\"ticks\":\"\"}},\"title\":{\"x\":0.05},\"updatemenudefaults\":{\"bgcolor\":\"#506784\",\"borderwidth\":0},\"xaxis\":{\"automargin\":true,\"gridcolor\":\"#283442\",\"linecolor\":\"#506784\",\"ticks\":\"\",\"title\":{\"standoff\":15},\"zerolinecolor\":\"#283442\",\"zerolinewidth\":2},\"yaxis\":{\"automargin\":true,\"gridcolor\":\"#283442\",\"linecolor\":\"#506784\",\"ticks\":\"\",\"title\":{\"standoff\":15},\"zerolinecolor\":\"#283442\",\"zerolinewidth\":2}}},\"xaxis\":{\"anchor\":\"y\",\"domain\":[0.0,1.0],\"title\":{\"text\":\"Audit Group\"},\"categoryorder\":\"array\",\"categoryarray\":[\"Audit 3\",\"Audit 1\",\"Audit 2\"],\"tickangle\":45},\"yaxis\":{\"anchor\":\"x\",\"domain\":[0.0,1.0],\"title\":{\"text\":\"Count Of Compliant Audit (%)\"}},\"legend\":{\"title\":{\"text\":\"Audit Group\",\"font\":{\"color\":\"white\"}},\"tracegroupgap\":0,\"font\":{\"color\":\"white\"}},\"title\":{\"text\":\"Count Of Compliant Audit Across Audit Groups (Outliers Highlighted) [2025-01-01 to 2025-05-01]\",\"font\":{\"size\":20}},\"boxmode\":\"overlay\",\"font\":{\"color\":\"white\"},\"paper_bgcolor\":\"black\",\"plot_bgcolor\":\"black\"},                        {\"responsive\": true}                    ).then(function(){\n",
       "                            \n",
       "var gd = document.getElementById('ed465c99-a579-432b-9578-dea984a1ff0f');\n",
       "var x = new MutationObserver(function (mutations, observer) {{\n",
       "        var display = window.getComputedStyle(gd).display;\n",
       "        if (!display || display === 'none') {{\n",
       "            console.log([gd, 'removed!']);\n",
       "            Plotly.purge(gd);\n",
       "            observer.disconnect();\n",
       "        }}\n",
       "}});\n",
       "\n",
       "// Listen for the removal of the full notebook cells\n",
       "var notebookContainer = gd.closest('#notebook-container');\n",
       "if (notebookContainer) {{\n",
       "    x.observe(notebookContainer, {childList: true});\n",
       "}}\n",
       "\n",
       "// Listen for the clearing of the current output cell\n",
       "var outputEl = gd.closest('.output');\n",
       "if (outputEl) {{\n",
       "    x.observe(outputEl, {childList: true});\n",
       "}}\n",
       "\n",
       "                        })                };                            </script>        </div>\n",
       "</body>\n",
       "</html>"
      ]
     },
     "metadata": {},
     "output_type": "display_data"
    }
   ],
   "source": [
    "create_outlier_box_plot(df, date_col='date', filter_column=None, filter_value=None, metric_col='count_of_compliant_audit', start_date='2025-01-01', end_date='2025-05-01')"
   ]
  },
  {
   "cell_type": "code",
   "execution_count": null,
   "metadata": {
    "colab": {
     "base_uri": "https://localhost:8080/",
     "height": 321
    },
    "id": "XBAgaFECvbDv",
    "outputId": "6a0ff7c7-881c-42a7-a205-512e4d06d98d"
   },
   "outputs": [
    {
     "ename": "SparkRuntimeException",
     "evalue": "[UNSUPPORTED_FEATURE.LITERAL_TYPE] The feature is not supported: Literal for '[Audit 1, Audit 2]' of class java.util.ArrayList.",
     "output_type": "error",
     "traceback": [
      "\u001b[0;31m---------------------------------------------------------------------------\u001b[0m",
      "\u001b[0;31mSparkRuntimeException\u001b[0m                     Traceback (most recent call last)",
      "\u001b[0;32m/tmp/ipython-input-608435943.py\u001b[0m in \u001b[0;36m<cell line: 0>\u001b[0;34m()\u001b[0m\n\u001b[0;32m----> 1\u001b[0;31m \u001b[0mcreate_outlier_box_plot\u001b[0m\u001b[0;34m(\u001b[0m\u001b[0mdf\u001b[0m\u001b[0;34m,\u001b[0m \u001b[0mdate_col\u001b[0m\u001b[0;34m=\u001b[0m\u001b[0;34m'date'\u001b[0m\u001b[0;34m,\u001b[0m \u001b[0mfilter_column\u001b[0m\u001b[0;34m=\u001b[0m\u001b[0;34m'reference_number'\u001b[0m\u001b[0;34m,\u001b[0m \u001b[0mfilter_value\u001b[0m\u001b[0;34m=\u001b[0m\u001b[0;34m[\u001b[0m\u001b[0;34m'Audit 1'\u001b[0m\u001b[0;34m,\u001b[0m \u001b[0;34m'Audit 2'\u001b[0m\u001b[0;34m]\u001b[0m\u001b[0;34m,\u001b[0m \u001b[0mmetric_col\u001b[0m\u001b[0;34m=\u001b[0m\u001b[0;34m'compliance_rate'\u001b[0m\u001b[0;34m,\u001b[0m \u001b[0mstart_date\u001b[0m\u001b[0;34m=\u001b[0m\u001b[0;32mNone\u001b[0m\u001b[0;34m,\u001b[0m \u001b[0mend_date\u001b[0m\u001b[0;34m=\u001b[0m\u001b[0;32mNone\u001b[0m\u001b[0;34m)\u001b[0m\u001b[0;34m\u001b[0m\u001b[0;34m\u001b[0m\u001b[0m\n\u001b[0m",
      "\u001b[0;32m/tmp/ipython-input-4205002478.py\u001b[0m in \u001b[0;36mcreate_outlier_box_plot\u001b[0;34m(df, date_col, filter_column, filter_value, metric_col, start_date, end_date)\u001b[0m\n\u001b[1;32m     31\u001b[0m     \u001b[0;32mif\u001b[0m \u001b[0mfilter_column\u001b[0m \u001b[0;32mis\u001b[0m \u001b[0;32mnot\u001b[0m \u001b[0;32mNone\u001b[0m \u001b[0;32mand\u001b[0m \u001b[0mfilter_value\u001b[0m \u001b[0;32mis\u001b[0m \u001b[0;32mnot\u001b[0m \u001b[0;32mNone\u001b[0m\u001b[0;34m:\u001b[0m\u001b[0;34m\u001b[0m\u001b[0;34m\u001b[0m\u001b[0m\n\u001b[1;32m     32\u001b[0m         \u001b[0;32mif\u001b[0m \u001b[0mfilter_column\u001b[0m \u001b[0;32min\u001b[0m \u001b[0mdf\u001b[0m\u001b[0;34m.\u001b[0m\u001b[0mcolumns\u001b[0m\u001b[0;34m:\u001b[0m\u001b[0;34m\u001b[0m\u001b[0;34m\u001b[0m\u001b[0m\n\u001b[0;32m---> 33\u001b[0;31m             \u001b[0mdf_filtered\u001b[0m \u001b[0;34m=\u001b[0m \u001b[0mdf_filtered\u001b[0m\u001b[0;34m.\u001b[0m\u001b[0mfilter\u001b[0m\u001b[0;34m(\u001b[0m\u001b[0mF\u001b[0m\u001b[0;34m.\u001b[0m\u001b[0mcol\u001b[0m\u001b[0;34m(\u001b[0m\u001b[0mfilter_column\u001b[0m\u001b[0;34m)\u001b[0m \u001b[0;34m==\u001b[0m \u001b[0mfilter_value\u001b[0m\u001b[0;34m)\u001b[0m\u001b[0;34m\u001b[0m\u001b[0;34m\u001b[0m\u001b[0m\n\u001b[0m\u001b[1;32m     34\u001b[0m         \u001b[0;32melse\u001b[0m\u001b[0;34m:\u001b[0m\u001b[0;34m\u001b[0m\u001b[0;34m\u001b[0m\u001b[0m\n\u001b[1;32m     35\u001b[0m             \u001b[0;32mraise\u001b[0m \u001b[0mValueError\u001b[0m\u001b[0;34m(\u001b[0m\u001b[0;34mf\"Filter column '{filter_column}' not found in DataFrame\"\u001b[0m\u001b[0;34m)\u001b[0m\u001b[0;34m\u001b[0m\u001b[0;34m\u001b[0m\u001b[0m\n",
      "\u001b[0;32m/usr/local/lib/python3.12/dist-packages/pyspark/sql/column.py\u001b[0m in \u001b[0;36m__eq__\u001b[0;34m(self, other)\u001b[0m\n\u001b[1;32m    266\u001b[0m     ) -> \"Column\":\n\u001b[1;32m    267\u001b[0m         \u001b[0;34m\"\"\"binary function\"\"\"\u001b[0m\u001b[0;34m\u001b[0m\u001b[0;34m\u001b[0m\u001b[0m\n\u001b[0;32m--> 268\u001b[0;31m         \u001b[0;32mreturn\u001b[0m \u001b[0m_bin_op\u001b[0m\u001b[0;34m(\u001b[0m\u001b[0;34m\"equalTo\"\u001b[0m\u001b[0;34m)\u001b[0m\u001b[0;34m(\u001b[0m\u001b[0mself\u001b[0m\u001b[0;34m,\u001b[0m \u001b[0mother\u001b[0m\u001b[0;34m)\u001b[0m\u001b[0;34m\u001b[0m\u001b[0;34m\u001b[0m\u001b[0m\n\u001b[0m\u001b[1;32m    269\u001b[0m \u001b[0;34m\u001b[0m\u001b[0m\n\u001b[1;32m    270\u001b[0m     def __ne__(  # type: ignore[override]\n",
      "\u001b[0;32m/usr/local/lib/python3.12/dist-packages/pyspark/sql/column.py\u001b[0m in \u001b[0;36m_\u001b[0;34m(self, other)\u001b[0m\n\u001b[1;32m    161\u001b[0m     ) -> \"Column\":\n\u001b[1;32m    162\u001b[0m         \u001b[0mjc\u001b[0m \u001b[0;34m=\u001b[0m \u001b[0mother\u001b[0m\u001b[0;34m.\u001b[0m\u001b[0m_jc\u001b[0m \u001b[0;32mif\u001b[0m \u001b[0misinstance\u001b[0m\u001b[0;34m(\u001b[0m\u001b[0mother\u001b[0m\u001b[0;34m,\u001b[0m \u001b[0mColumn\u001b[0m\u001b[0;34m)\u001b[0m \u001b[0;32melse\u001b[0m \u001b[0mother\u001b[0m\u001b[0;34m\u001b[0m\u001b[0;34m\u001b[0m\u001b[0m\n\u001b[0;32m--> 163\u001b[0;31m         \u001b[0mnjc\u001b[0m \u001b[0;34m=\u001b[0m \u001b[0mgetattr\u001b[0m\u001b[0;34m(\u001b[0m\u001b[0mself\u001b[0m\u001b[0;34m.\u001b[0m\u001b[0m_jc\u001b[0m\u001b[0;34m,\u001b[0m \u001b[0mname\u001b[0m\u001b[0;34m)\u001b[0m\u001b[0;34m(\u001b[0m\u001b[0mjc\u001b[0m\u001b[0;34m)\u001b[0m\u001b[0;34m\u001b[0m\u001b[0;34m\u001b[0m\u001b[0m\n\u001b[0m\u001b[1;32m    164\u001b[0m         \u001b[0;32mreturn\u001b[0m \u001b[0mColumn\u001b[0m\u001b[0;34m(\u001b[0m\u001b[0mnjc\u001b[0m\u001b[0;34m)\u001b[0m\u001b[0;34m\u001b[0m\u001b[0;34m\u001b[0m\u001b[0m\n\u001b[1;32m    165\u001b[0m \u001b[0;34m\u001b[0m\u001b[0m\n",
      "\u001b[0;32m/usr/local/lib/python3.12/dist-packages/py4j/java_gateway.py\u001b[0m in \u001b[0;36m__call__\u001b[0;34m(self, *args)\u001b[0m\n\u001b[1;32m   1320\u001b[0m \u001b[0;34m\u001b[0m\u001b[0m\n\u001b[1;32m   1321\u001b[0m         \u001b[0manswer\u001b[0m \u001b[0;34m=\u001b[0m \u001b[0mself\u001b[0m\u001b[0;34m.\u001b[0m\u001b[0mgateway_client\u001b[0m\u001b[0;34m.\u001b[0m\u001b[0msend_command\u001b[0m\u001b[0;34m(\u001b[0m\u001b[0mcommand\u001b[0m\u001b[0;34m)\u001b[0m\u001b[0;34m\u001b[0m\u001b[0;34m\u001b[0m\u001b[0m\n\u001b[0;32m-> 1322\u001b[0;31m         return_value = get_return_value(\n\u001b[0m\u001b[1;32m   1323\u001b[0m             answer, self.gateway_client, self.target_id, self.name)\n\u001b[1;32m   1324\u001b[0m \u001b[0;34m\u001b[0m\u001b[0m\n",
      "\u001b[0;32m/usr/local/lib/python3.12/dist-packages/pyspark/errors/exceptions/captured.py\u001b[0m in \u001b[0;36mdeco\u001b[0;34m(*a, **kw)\u001b[0m\n\u001b[1;32m    183\u001b[0m                 \u001b[0;31m# Hide where the exception came from that shows a non-Pythonic\u001b[0m\u001b[0;34m\u001b[0m\u001b[0;34m\u001b[0m\u001b[0m\n\u001b[1;32m    184\u001b[0m                 \u001b[0;31m# JVM exception message.\u001b[0m\u001b[0;34m\u001b[0m\u001b[0;34m\u001b[0m\u001b[0m\n\u001b[0;32m--> 185\u001b[0;31m                 \u001b[0;32mraise\u001b[0m \u001b[0mconverted\u001b[0m \u001b[0;32mfrom\u001b[0m \u001b[0;32mNone\u001b[0m\u001b[0;34m\u001b[0m\u001b[0;34m\u001b[0m\u001b[0m\n\u001b[0m\u001b[1;32m    186\u001b[0m             \u001b[0;32melse\u001b[0m\u001b[0;34m:\u001b[0m\u001b[0;34m\u001b[0m\u001b[0;34m\u001b[0m\u001b[0m\n\u001b[1;32m    187\u001b[0m                 \u001b[0;32mraise\u001b[0m\u001b[0;34m\u001b[0m\u001b[0;34m\u001b[0m\u001b[0m\n",
      "\u001b[0;31mSparkRuntimeException\u001b[0m: [UNSUPPORTED_FEATURE.LITERAL_TYPE] The feature is not supported: Literal for '[Audit 1, Audit 2]' of class java.util.ArrayList."
     ]
    }
   ],
   "source": [
    "create_outlier_box_plot(df, date_col='date', filter_column='reference_number', filter_value=['Audit 1', 'Audit 2'], metric_col='compliance_rate', start_date=None, end_date=None)"
   ]
  },
  {
   "cell_type": "markdown",
   "metadata": {
    "id": "S7wA2fn2chVO"
   },
   "source": [
    "=============================================================================================\n",
    "\n",
    "# Ad Hoc"
   ]
  },
  {
   "cell_type": "markdown",
   "metadata": {
    "id": "D2CFGWlWdSnU"
   },
   "source": []
  },
  {
   "cell_type": "markdown",
   "metadata": {
    "id": "Ed6T-8VaOxQj"
   },
   "source": [
    "## 50th Percentile"
   ]
  },
  {
   "cell_type": "code",
   "execution_count": null,
   "metadata": {
    "colab": {
     "base_uri": "https://localhost:8080/"
    },
    "id": "pgC0TpWaSRot",
    "outputId": "62b6762f-b8b0-493d-b318-627a9256375c"
   },
   "outputs": [
    {
     "name": "stdout",
     "output_type": "stream",
     "text": [
      "+-----------------+----------------+------------+\n",
      "|median_departures|median_compliant|median_audit|\n",
      "+-----------------+----------------+------------+\n",
      "|888              |1               |1           |\n",
      "+-----------------+----------------+------------+\n",
      "\n"
     ]
    }
   ],
   "source": [
    "# df.createOrReplaceTempView(\"your_table\")\n",
    "\n",
    "# Spark.sql(\"\"\"\n",
    "#     SELECT\n",
    "#       percentile_approx(departures, 0.5) AS median_departures,\n",
    "#       percentile_approx(count_of_compliant_audit, 0.5) AS median_compliant,\n",
    "#       percentile_approx(count_of_audit, 0.5) AS median_audit\n",
    "#     FROM your_table\n",
    "# \"\"\").show(truncate=False)"
   ]
  },
  {
   "cell_type": "code",
   "execution_count": null,
   "metadata": {
    "colab": {
     "base_uri": "https://localhost:8080/"
    },
    "id": "MCnDPxbAOsN-",
    "outputId": "fb8e0726-0474-4218-9cb7-c44352bdce3a"
   },
   "outputs": [
    {
     "name": "stdout",
     "output_type": "stream",
     "text": [
      "+-----------------+---------------+----------------+--------------+------------+----------+\n",
      "|median_departures|mode_departures|median_compliant|mode_compliant|median_audit|mode_audit|\n",
      "+-----------------+---------------+----------------+--------------+------------+----------+\n",
      "|888              |0              |1               |1             |1           |1         |\n",
      "+-----------------+---------------+----------------+--------------+------------+----------+\n",
      "\n"
     ]
    }
   ],
   "source": [
    "from pyspark.sql.functions import percentile_approx, mode\n",
    "\n",
    "# Custom stats including median (50th percentile) and mode\n",
    "df.agg(\n",
    "    percentile_approx(col(\"departures\"), 0.5).alias(\"median_departures\"),\n",
    "    mode(col(\"departures\")).alias(\"mode_departures\"),\n",
    "    percentile_approx(col(\"count_of_compliant_audit\"), 0.5).alias(\"median_compliant\"),\n",
    "    mode(col(\"count_of_compliant_audit\")).alias(\"mode_compliant\"),\n",
    "    percentile_approx(col(\"count_of_audit\"), 0.5).alias(\"median_audit\"),\n",
    "    mode(col(\"count_of_audit\")).alias(\"mode_audit\")\n",
    ").show(truncate=False)"
   ]
  },
  {
   "cell_type": "markdown",
   "metadata": {
    "id": "pSc-qdakO3ds"
   },
   "source": [
    "## Statistics for Categorical Columns"
   ]
  },
  {
   "cell_type": "code",
   "execution_count": null,
   "metadata": {
    "colab": {
     "base_uri": "https://localhost:8080/"
    },
    "id": "lXEnX-XOO2zd",
    "outputId": "491a2b15-7e0b-4800-fe68-04c7549e60b2"
   },
   "outputs": [
    {
     "name": "stdout",
     "output_type": "stream",
     "text": [
      "+---------------+------------------------+---------------+\n",
      "|unique_airports|unique_reference_numbers|unique_airlines|\n",
      "+---------------+------------------------+---------------+\n",
      "|313            |3                       |4              |\n",
      "+---------------+------------------------+---------------+\n",
      "\n"
     ]
    }
   ],
   "source": [
    "from pyspark.sql.functions import count, countDistinct\n",
    "\n",
    "# Unique counts per categorical column\n",
    "unique_counts = df.agg(\n",
    "    countDistinct(col(\"airport\")).alias(\"unique_airports\"),\n",
    "    countDistinct(col(\"reference_number\")).alias(\"unique_reference_numbers\"),\n",
    "    countDistinct(col(\"airline\")).alias(\"unique_airlines\")\n",
    ")\n",
    "unique_counts.show(1, truncate=False)\n",
    "\n",
    "# # Frequency distribution (top N for each)\n",
    "# df.groupBy(\"airport\").agg(count(\"*\").alias(\"frequency\")).orderBy(\"frequency\", ascending=False).show(10)\n",
    "# df.groupBy(\"reference_number\").agg(count(\"*\").alias(\"frequency\")).orderBy(\"frequency\", ascending=False).show(10)\n",
    "# df.groupBy(\"airline\").agg(count(\"*\").alias(\"frequency\")).orderBy(\"frequency\", ascending=False).show(10)"
   ]
  },
  {
   "cell_type": "markdown",
   "metadata": {
    "id": "-cyq9cCFRzie"
   },
   "source": [
    "## Group by date or derived time periods (e.g., month/year) for trends."
   ]
  },
  {
   "cell_type": "code",
   "execution_count": null,
   "metadata": {
    "colab": {
     "base_uri": "https://localhost:8080/"
    },
    "id": "7YPEZcmXRp4m",
    "outputId": "e525b6ca-9f23-47e4-c4bc-ed1e6c001c6e"
   },
   "outputs": [
    {
     "name": "stdout",
     "output_type": "stream",
     "text": [
      "+----+-----+------------------+------------------+------------------+----------------+\n",
      "|year|month|avg_departures    |avg_compliant     |avg_audit         |total_departures|\n",
      "+----+-----+------------------+------------------+------------------+----------------+\n",
      "|2022|1    |2429.2628205128203|0.5               |1.0               |1136895         |\n",
      "|2022|2    |1936.7315315315316|0.8               |1.0036036036036036|1074886         |\n",
      "|2022|3    |2047.6406779661017|0.6111111111111112|1.0               |1208108         |\n",
      "|2022|4    |1983.7766798418972|0.6666666666666666|1.0               |1003791         |\n",
      "|2022|5    |2039.8386363636364|0.5               |1.0               |897529          |\n",
      "|2022|6    |1826.0669456066946|1.0               |1.00418410041841  |872860          |\n",
      "|2022|7    |1966.679389312977 |0.3333333333333333|1.0025445292620865|772905          |\n",
      "|2022|8    |2163.273607748184 |0.8               |1.0048426150121066|893432          |\n",
      "|2022|9    |2038.6694677871149|0.5               |1.0               |727805          |\n",
      "|2022|10   |2184.376996805112 |0.25              |1.0               |683710          |\n",
      "|2022|11   |1516.8271028037384|0.5               |1.0               |324601          |\n",
      "|2022|12   |1740.7684210526315|0.7               |1.0               |330746          |\n",
      "|2023|1    |1602.2744360902257|0.5               |1.0               |426205          |\n",
      "|2023|2    |1526.5            |0.625             |1.0               |427420          |\n",
      "|2023|3    |1977.4756097560976|0.5555555555555556|1.0               |810765          |\n",
      "|2023|4    |1635.8199152542372|0.5625            |1.0042372881355932|772107          |\n",
      "|2023|5    |2017.5461346633417|0.5555555555555556|1.0049875311720697|809036          |\n",
      "|2023|6    |1372.1238938053098|0.6153846153846154|1.008849557522124 |310100          |\n",
      "|2023|7    |1515.318462594372 |0.6538461538461539|1.0               |2207819         |\n",
      "|2023|8    |1324.3472045743329|0.9107142857142857|1.0069885641677256|4169045         |\n",
      "+----+-----+------------------+------------------+------------------+----------------+\n",
      "only showing top 20 rows\n",
      "\n"
     ]
    }
   ],
   "source": [
    "from pyspark.sql.functions import year, month, sum, avg\n",
    "\n",
    "# Monthly averages for numerical columns\n",
    "df.groupBy(year(\"date\").alias(\"year\"), month(\"date\").alias(\"month\")).agg(\n",
    "    avg(\"departures\").alias(\"avg_departures\"),\n",
    "    avg(\"count_of_compliant_audit\").alias(\"avg_compliant\"),\n",
    "    avg(\"count_of_audit\").alias(\"avg_audit\"),\n",
    "    sum(\"departures\").alias(\"total_departures\")\n",
    ").orderBy(\"year\", \"month\").show(truncate=False)"
   ]
  },
  {
   "cell_type": "markdown",
   "metadata": {
    "id": "PAjwndpqRtdT"
   },
   "source": [
    "## Compliance Rate"
   ]
  },
  {
   "cell_type": "code",
   "execution_count": null,
   "metadata": {
    "id": "uucYkEYIRs95"
   },
   "outputs": [],
   "source": [
    "from pyspark.sql.functions import expr\n",
    "\n",
    "# Add compliance rate column and get stats\n",
    "df_with_rate = df.withColumn(\"compliance_rate\", expr(\"(count_of_compliant_audit / count_of_audit) * 100\"))\n",
    "df_with_rate.describe(\"compliance_rate\").show(truncate=False)"
   ]
  },
  {
   "cell_type": "markdown",
   "metadata": {
    "id": "WMIsLSR9Od1R"
   },
   "source": [
    "## Null Count and Percentage"
   ]
  },
  {
   "cell_type": "code",
   "execution_count": null,
   "metadata": {
    "colab": {
     "base_uri": "https://localhost:8080/"
    },
    "id": "V2rRntQOzS3j",
    "outputId": "2c213359-f63b-4ec6-d210-79d31883856a"
   },
   "outputs": [
    {
     "name": "stdout",
     "output_type": "stream",
     "text": [
      "+------------------------+----------+-----------------+\n",
      "|column_name             |null_count|null_pct         |\n",
      "+------------------------+----------+-----------------+\n",
      "|date                    |0         |0.0              |\n",
      "|airport                 |0         |0.0              |\n",
      "|reference_number        |0         |0.0              |\n",
      "|airline                 |3116      |1.592843450479233|\n",
      "|departures              |0         |0.0              |\n",
      "|count_of_compliant_audit|192063    |98.17916932907347|\n",
      "|count_of_audit          |0         |0.0              |\n",
      "+------------------------+----------+-----------------+\n",
      "\n"
     ]
    }
   ],
   "source": [
    "from pyspark.sql.functions import col, sum, lit\n",
    "\n",
    "total_rows = df.count()\n",
    "\n",
    "# Collect null stats\n",
    "null_stats = [\n",
    "    (c,\n",
    "     df.filter(col(c).isNull()).count(),\n",
    "     (df.filter(col(c).isNull()).count() / total_rows) * 100\n",
    "    )\n",
    "    for c in df.columns\n",
    "]\n",
    "\n",
    "# Convert back to Spark DataFrame\n",
    "null_stats_df = Spark.createDataFrame(null_stats, [\"column_name\", \"null_count\", \"null_pct\"])\n",
    "\n",
    "null_stats_df.show(truncate=False)"
   ]
  },
  {
   "cell_type": "markdown",
   "metadata": {
    "id": "sx749sJHOhuL"
   },
   "source": [
    "## Unique Values"
   ]
  },
  {
   "cell_type": "code",
   "execution_count": null,
   "metadata": {
    "colab": {
     "base_uri": "https://localhost:8080/"
    },
    "id": "JSGCJAfuyVIY",
    "outputId": "954f8a3a-e94f-44ef-a82f-ba431a475ba6"
   },
   "outputs": [
    {
     "name": "stdout",
     "output_type": "stream",
     "text": [
      "+------------------------+------------+\n",
      "|column_name             |unique_count|\n",
      "+------------------------+------------+\n",
      "|date                    |1300        |\n",
      "|airport                 |313         |\n",
      "|reference_number        |3           |\n",
      "|airline                 |4           |\n",
      "|departures              |8078        |\n",
      "|count_of_compliant_audit|8           |\n",
      "|count_of_audit          |7           |\n",
      "+------------------------+------------+\n",
      "\n"
     ]
    }
   ],
   "source": [
    "from pyspark.sql.functions import col, countDistinct\n",
    "\n",
    "# Get total rows (optional, for context or further use)\n",
    "total_rows = df.count()\n",
    "\n",
    "# Collect unique value counts\n",
    "unique_stats = [\n",
    "    (c, df.select(countDistinct(col(c)).alias('unique_count')).collect()[0]['unique_count'])\n",
    "    for c in df.columns\n",
    "]\n",
    "\n",
    "# Convert to Spark DataFrame\n",
    "unique_stats_df = Spark.createDataFrame(unique_stats, [\"column_name\", \"unique_count\"])\n",
    "\n",
    "# Display results\n",
    "unique_stats_df.show(truncate=False)"
   ]
  },
  {
   "cell_type": "code",
   "execution_count": null,
   "metadata": {
    "id": "EZ1_z9mX5IuJ"
   },
   "outputs": [],
   "source": [
    "from pyspark.sql.types import NumericType\n",
    "\n",
    "selected_column = 'airport'\n",
    "\n",
    "is_numeric = isinstance(df.schema[selected_column].dataType, NumericType)"
   ]
  },
  {
   "cell_type": "code",
   "execution_count": null,
   "metadata": {
    "colab": {
     "base_uri": "https://localhost:8080/"
    },
    "id": "2OTMdhPOxga6",
    "outputId": "7c98c534-9fa8-43e2-b63c-885a911504b1"
   },
   "outputs": [
    {
     "name": "stdout",
     "output_type": "stream",
     "text": [
      "False\n"
     ]
    }
   ],
   "source": [
    "print(is_numeric)"
   ]
  },
  {
   "cell_type": "code",
   "execution_count": null,
   "metadata": {
    "colab": {
     "base_uri": "https://localhost:8080/",
     "height": 211
    },
    "id": "ZxeDkMXr61zn",
    "outputId": "7d4ecfc9-a394-40a4-9359-b50bb0842c50"
   },
   "outputs": [
    {
     "ename": "NameError",
     "evalue": "name 'hazards_df' is not defined",
     "output_type": "error",
     "traceback": [
      "\u001b[0;31m---------------------------------------------------------------------------\u001b[0m",
      "\u001b[0;31mNameError\u001b[0m                                 Traceback (most recent call last)",
      "\u001b[0;32m/tmp/ipython-input-3830052066.py\u001b[0m in \u001b[0;36m<cell line: 0>\u001b[0;34m()\u001b[0m\n\u001b[1;32m      1\u001b[0m \u001b[0mselected_column\u001b[0m \u001b[0;34m=\u001b[0m \u001b[0;34m'hazard_type'\u001b[0m\u001b[0;34m\u001b[0m\u001b[0;34m\u001b[0m\u001b[0m\n\u001b[0;32m----> 2\u001b[0;31m \u001b[0mdf\u001b[0m \u001b[0;34m=\u001b[0m \u001b[0mhazards_df\u001b[0m\u001b[0;34m\u001b[0m\u001b[0;34m\u001b[0m\u001b[0m\n\u001b[0m\u001b[1;32m      3\u001b[0m \u001b[0;34m\u001b[0m\u001b[0m\n\u001b[1;32m      4\u001b[0m \u001b[0;34m\u001b[0m\u001b[0m\n\u001b[1;32m      5\u001b[0m \u001b[0mnon_numbers_only\u001b[0m \u001b[0;34m=\u001b[0m \u001b[0;34m[\u001b[0m\u001b[0mx\u001b[0m\u001b[0;34m[\u001b[0m\u001b[0mselected_column\u001b[0m\u001b[0;34m]\u001b[0m \u001b[0;32mfor\u001b[0m \u001b[0mx\u001b[0m \u001b[0;32min\u001b[0m \u001b[0mdf\u001b[0m\u001b[0;34m.\u001b[0m\u001b[0mselect\u001b[0m\u001b[0;34m(\u001b[0m\u001b[0mselected_column\u001b[0m\u001b[0;34m)\u001b[0m\u001b[0;34m.\u001b[0m\u001b[0mcollect\u001b[0m\u001b[0;34m(\u001b[0m\u001b[0;34m)\u001b[0m \u001b[0;32mif\u001b[0m \u001b[0misinstance\u001b[0m\u001b[0;34m(\u001b[0m\u001b[0mx\u001b[0m\u001b[0;34m[\u001b[0m\u001b[0mselected_column\u001b[0m\u001b[0;34m]\u001b[0m\u001b[0;34m,\u001b[0m \u001b[0mint\u001b[0m\u001b[0;34m)\u001b[0m\u001b[0;34m]\u001b[0m\u001b[0;34m\u001b[0m\u001b[0;34m\u001b[0m\u001b[0m\n",
      "\u001b[0;31mNameError\u001b[0m: name 'hazards_df' is not defined"
     ]
    }
   ],
   "source": [
    "selected_column = 'hazard_type'\n",
    "df = hazards_df\n",
    "\n",
    "\n",
    "non_numbers_only = [x[selected_column] for x in df.select(selected_column).collect() if isinstance(x[selected_column], int)]"
   ]
  },
  {
   "cell_type": "code",
   "execution_count": null,
   "metadata": {
    "id": "pC273btuyfvc"
   },
   "outputs": [],
   "source": [
    "hazards_df.count()"
   ]
  }
 ],
 "metadata": {
  "colab": {
   "provenance": []
  },
  "kernelspec": {
   "display_name": "Python 3 (ipykernel)",
   "language": "python",
   "name": "python3"
  },
  "language_info": {
   "codemirror_mode": {
    "name": "ipython",
    "version": 3
   },
   "file_extension": ".py",
   "mimetype": "text/x-python",
   "name": "python",
   "nbconvert_exporter": "python",
   "pygments_lexer": "ipython3",
   "version": "3.12.3"
  }
 },
 "nbformat": 4,
 "nbformat_minor": 4
}
